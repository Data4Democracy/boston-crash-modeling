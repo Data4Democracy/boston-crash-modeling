{
 "cells": [
  {
   "cell_type": "code",
   "execution_count": 1,
   "metadata": {
    "collapsed": false
   },
   "outputs": [],
   "source": [
    "## Generate canonical dataset for hackathon\n",
    "# Developed by: bpben "
   ]
  },
  {
   "cell_type": "code",
   "execution_count": 2,
   "metadata": {
    "collapsed": true
   },
   "outputs": [],
   "source": [
    "import fiona\n",
    "import json\n",
    "import os\n",
    "import pyproj\n",
    "import rtree\n",
    "import csv\n",
    "import matplotlib.pyplot as plt\n",
    "import pandas as pd\n",
    "from shapely.geometry import Point, MultiPoint, shape, mapping\n",
    "%matplotlib inline"
   ]
  },
  {
   "cell_type": "code",
   "execution_count": 3,
   "metadata": {
    "collapsed": true
   },
   "outputs": [],
   "source": [
    "MAP_FP = './data/maps'\n",
    "DATA_FP = './data'"
   ]
  },
  {
   "cell_type": "code",
   "execution_count": 4,
   "metadata": {
    "collapsed": false
   },
   "outputs": [],
   "source": [
    "def read_records(fp, date_col, id_col, agg='week'):\n",
    "    \"\"\" Read point data, output count by aggregation level\n",
    "    agg : datepart for aggregation\n",
    "    date_col : column name with date information\n",
    "    id_col : column name with inter/non-inter id (for grouping)\n",
    "    \"\"\"\n",
    "    \n",
    "    with open(fp, 'r') as f:\n",
    "        data = json.load(f)\n",
    "    df = pd.DataFrame(data)\n",
    "    df[date_col] = pd.to_datetime(df[date_col])\n",
    "    df[agg] = df[date_col].apply(lambda x: getattr(x,agg))\n",
    "    df_g = df.groupby([id_col, agg]).size()\n",
    "    return(df_g)\n",
    "\n",
    "def read_shp(fp):\n",
    "    \"\"\" Read shp, output tuple geometry + property \"\"\"\n",
    "    out = [(shape(line['geometry']),line['properties']) for line in fiona.open(fp)]\n",
    "    return(out)\n",
    "\n",
    "def road_make(feats, inters_fp, non_inters_fp):\n",
    "    \"\"\" Makes road feature df, intersections + non-intersections \"\"\"\n",
    "    #Read in inters data (json), turn into df with inter index\n",
    "    df_index = []\n",
    "    df_records = []\n",
    "    with open(inters_fp, 'r') as f:\n",
    "        inters = json.load(f)\n",
    "        #Append each index to dataframe\n",
    "        for idx, lines in inters.iteritems():\n",
    "            df_records.extend(lines)\n",
    "            df_index.extend([idx]*len(lines))\n",
    "    inters_df = pd.DataFrame(df_records, index=df_index)\n",
    "    \n",
    "    #Read in non_inters data:\n",
    "    non_inters = read_shp(non_inters_fp)\n",
    "    non_inters_df = pd.DataFrame([x[1] for x in non_inters])\n",
    "    non_inters_df.set_index('id', inplace=True)\n",
    "    \n",
    "    #Combine inter + non_inter\n",
    "    combined = pd.concat([inters_df, non_inters_df])\n",
    "    \n",
    "    #Subset columns\n",
    "    combined = combined[feats]\n",
    "    \n",
    "    #Aggregating inters data = max of all properties\n",
    "    combined = combined.groupby(combined.index).max()\n",
    "    \n",
    "    return(combined)"
   ]
  },
  {
   "cell_type": "code",
   "execution_count": 6,
   "metadata": {
    "collapsed": false
   },
   "outputs": [],
   "source": [
    "#Read/aggregate crash/concerns\n",
    "crash = read_records(DATA_FP + '/crash_joined.json', 'CALENDAR_DATE', 'near_id') \n",
    "concern = read_records(DATA_FP + '/concern_joined.json', 'REQUESTDATE', 'near_id')"
   ]
  },
  {
   "cell_type": "code",
   "execution_count": 125,
   "metadata": {
    "collapsed": false
   },
   "outputs": [],
   "source": [
    "#Join aggregated crash/concerns\n",
    "cr_con = pd.concat([crash, concern], axis=1)\n",
    "cr_con.columns = ['crash','concern']"
   ]
  },
  {
   "cell_type": "code",
   "execution_count": 126,
   "metadata": {
    "collapsed": false
   },
   "outputs": [],
   "source": [
    "# Reset index, Null as 0\n",
    "cr_con.reset_index(inplace=True)\n",
    "cr_con = cr_con.fillna(0)\n",
    "# Make near_id string (for matching to segments)\n",
    "cr_con['near_id'] = cr_con['near_id'].astype('str')"
   ]
  },
  {
   "cell_type": "code",
   "execution_count": 115,
   "metadata": {
    "collapsed": true
   },
   "outputs": [],
   "source": [
    "#Combined road feature dataset parameters\n",
    "inters_fp = DATA_FP+'/inters_data.json'\n",
    "non_inters_fp = MAP_FP + '/non_inters_segments.shp'\n",
    "feats = ['AADT', 'SPEEDLIMIT', \n",
    "             'Struct_Cnd', 'Surface_Tp',\n",
    "            'F_F_Class']"
   ]
  },
  {
   "cell_type": "code",
   "execution_count": 122,
   "metadata": {
    "collapsed": false
   },
   "outputs": [],
   "source": [
    "# Create combined road feature dataset\n",
    "combined = road_make(feats, inters_fp, non_inters_fp)\n",
    "# 53 weeks for each segment (year = 52.2 weeks)\n",
    "all_weeks = pd.MultiIndex.from_product([combined.index, range(1,54)], names=['segment_id', 'week'])"
   ]
  },
  {
   "cell_type": "code",
   "execution_count": 129,
   "metadata": {
    "collapsed": false
   },
   "outputs": [],
   "source": [
    "# Crash/concern for each week, for each segment\n",
    "cr_con = cr_con.set_index(['near_id','week']).reindex(all_weeks, fill_value=0)\n",
    "cr_con.reset_index(inplace=True)"
   ]
  },
  {
   "cell_type": "code",
   "execution_count": 131,
   "metadata": {
    "collapsed": false
   },
   "outputs": [],
   "source": [
    "# Join segment features to crash/concern\n",
    "cr_con_roads = cr_con.merge(combined, left_on='segment_id', right_index=True, how='outer')"
   ]
  },
  {
   "cell_type": "code",
   "execution_count": 140,
   "metadata": {
    "collapsed": true
   },
   "outputs": [],
   "source": [
    "#Output canon dataset\n",
    "cr_con_roads.to_csv(DATA_FP + '/vz_predict_dataset.csv.gz', index=False, compression='gzip')"
   ]
  }
 ],
 "metadata": {
  "kernelspec": {
   "display_name": "Python 2",
   "language": "python",
   "name": "python2"
  },
  "language_info": {
   "codemirror_mode": {
    "name": "ipython",
    "version": 2
   },
   "file_extension": ".py",
   "mimetype": "text/x-python",
   "name": "python",
   "nbconvert_exporter": "python",
   "pygments_lexer": "ipython2",
   "version": "2.7.12"
  }
 },
 "nbformat": 4,
 "nbformat_minor": 1
}
