{
 "cells": [
  {
   "cell_type": "code",
   "execution_count": null,
   "metadata": {
    "collapsed": false
   },
   "outputs": [],
   "source": [
    "## Segment (intersection and non-intersection) creation\n",
    "# Draws on: http://bit.ly/2m7469y\n",
    "# Developed by: bpben"
   ]
  },
  {
   "cell_type": "code",
   "execution_count": 29,
   "metadata": {
    "collapsed": true
   },
   "outputs": [],
   "source": [
    "import fiona\n",
    "from fiona.crs import from_epsg\n",
    "import os\n",
    "import itertools\n",
    "import pyproj\n",
    "import rtree\n",
    "import json\n",
    "import copy\n",
    "import matplotlib.pyplot as plt\n",
    "from shapely.geometry import Point, MultiPoint, shape, mapping\n",
    "from shapely.ops import unary_union\n",
    "from collections import defaultdict\n",
    "%matplotlib inline"
   ]
  },
  {
   "cell_type": "code",
   "execution_count": 2,
   "metadata": {
    "collapsed": true
   },
   "outputs": [],
   "source": [
    "MAP_FP = './data/maps'\n",
    "DATA_FP = './data'"
   ]
  },
  {
   "cell_type": "code",
   "execution_count": 3,
   "metadata": {
    "collapsed": true
   },
   "outputs": [],
   "source": [
    "def get_intersection_buffers(intersections, intersection_buffer_units):\n",
    "    \"\"\" Buffers intersection according to proj units \"\"\"\n",
    "    buffered_intersections = [intersection[0].buffer(intersection_buffer_units)\n",
    "                                           for intersection in intersections]\n",
    "    return unary_union(buffered_intersections)\n",
    "\n",
    "def write_shp(schema, fp, data, shape_key, prop_key):\n",
    "    \"\"\" Write Shapefile\n",
    "    schema : schema dictionary\n",
    "    shape_key : column name or tuple index of Shapely shape\n",
    "    prop_key : column name or tuple index of properties\n",
    "    \"\"\" \n",
    "    with fiona.open(fp, 'w', 'ESRI Shapefile', schema) as c:\n",
    "        for i in data:\n",
    "            c.write({\n",
    "                'geometry': mapping(i[shape_key]),\n",
    "                'properties': i[prop_key],\n",
    "            })"
   ]
  },
  {
   "cell_type": "code",
   "execution_count": 6,
   "metadata": {
    "collapsed": true
   },
   "outputs": [],
   "source": [
    "inters_shp_path_raw = MAP_FP + '/inters.shp'\n",
    "inters_shp_path = MAP_FP + '/inters_3857.shp'"
   ]
  },
  {
   "cell_type": "code",
   "execution_count": null,
   "metadata": {
    "collapsed": false
   },
   "outputs": [],
   "source": [
    "#Reproject to 3857\n",
    "#Necessary because original intersection extraction had null projection\n",
    "inters = fiona.open(inters_shp_path_raw)\n",
    "inproj = pyproj.Proj(init='epsg:4326')\n",
    "outproj = pyproj.Proj(init='epsg:3857')\n",
    "\n",
    "with fiona.open(inters_shp_path, 'w', crs=from_epsg(3857),\n",
    "                schema=inters.schema, driver='ESRI Shapefile') as output:\n",
    "    for inter in inters:\n",
    "        coords = inter['geometry']['coordinates']\n",
    "        re_point = pyproj.transform(inproj, outproj, coords[0], coords[1])\n",
    "        point = Point(re_point)\n",
    "        output.write({'geometry':mapping(point), 'properties':inter['properties']})"
   ]
  },
  {
   "cell_type": "code",
   "execution_count": 5,
   "metadata": {
    "collapsed": false
   },
   "outputs": [],
   "source": [
    "#Read in boston segments + mass DOT join\n",
    "roads_shp_path = MAP_FP + '/ma_cob_spatially_joined_streets.shp'\n",
    "roads = [(shape(road['geometry']),road['properties']) for road in fiona.open(roads_shp_path)]"
   ]
  },
  {
   "cell_type": "code",
   "execution_count": 7,
   "metadata": {
    "collapsed": false
   },
   "outputs": [],
   "source": [
    "#Read in reprojected intersection\n",
    "inters = [(shape(inter['geometry']),inter['properties']) for inter in fiona.open(inters_shp_path)]"
   ]
  },
  {
   "cell_type": "code",
   "execution_count": 8,
   "metadata": {
    "collapsed": false
   },
   "outputs": [],
   "source": [
    "#Initial buffer = 20 meters\n",
    "int_buffers = get_intersection_buffers(inters, 20)"
   ]
  },
  {
   "cell_type": "code",
   "execution_count": 9,
   "metadata": {
    "collapsed": false
   },
   "outputs": [],
   "source": [
    "#Create index for quick lookup\n",
    "int_buffers_index = rtree.index.Index()\n",
    "for idx, intersection_buffer in enumerate(int_buffers):\n",
    "    int_buffers_index.insert(idx, intersection_buffer.bounds)"
   ]
  },
  {
   "cell_type": "code",
   "execution_count": 30,
   "metadata": {
    "collapsed": false
   },
   "outputs": [],
   "source": [
    "#Split intersection lines (within buffer) and non-intersection lines (outside buffer)\n",
    "inter_segments = {}\n",
    "inter_segments['lines'] = defaultdict(list)\n",
    "inter_segments['data'] = defaultdict(list)\n",
    "\n",
    "non_int_lines = []\n",
    "for road in roads:\n",
    "    road_int_buffers = []\n",
    "    #For each intersection whose buffer intersects road\n",
    "    for idx in int_buffers_index.intersection(road[0].bounds):\n",
    "        int_buffer = int_buffers[idx]\n",
    "        if int_buffer.intersects(road[0]):\n",
    "            #Add intersecting road segment line\n",
    "            inter_segments['lines'][idx].append(int_buffer.intersection(road[0]))\n",
    "            #Add intersecting road segment data\n",
    "            inter_segments['data'][idx].append(road[1])\n",
    "            road_int_buffers.append(int_buffer)\n",
    "    #If intersection buffers intersect roads\n",
    "    if len(road_int_buffers) > 0:\n",
    "        #Find part of road outside of the intersecting parts\n",
    "        diff = road[0].difference(unary_union(road_int_buffers))\n",
    "        if 'LineString' == diff.type:\n",
    "            non_int_lines.append((diff, road[1]))\n",
    "        elif 'MultiLineString' == diff.type:\n",
    "            non_int_lines.extend([(line,road[1]) for line in diff])\n",
    "    else:\n",
    "        non_int_lines.append(road)"
   ]
  },
  {
   "cell_type": "code",
   "execution_count": null,
   "metadata": {
    "collapsed": false
   },
   "outputs": [],
   "source": [
    "#Planarize intersection segments\n",
    "union_inter = [({'id':idx}, unary_union(l)) for idx, l in inter_segments['lines'].items()]"
   ]
  },
  {
   "cell_type": "code",
   "execution_count": null,
   "metadata": {
    "collapsed": false
   },
   "outputs": [],
   "source": [
    "#Intersections shapefile\n",
    "inter_schema = {\n",
    "    'geometry': 'LineString',\n",
    "    'properties': {'id': 'int'},\n",
    "}"
   ]
  },
  {
   "cell_type": "code",
   "execution_count": null,
   "metadata": {
    "collapsed": false
   },
   "outputs": [],
   "source": [
    "write_shp(inter_schema, MAP_FP + '/inters_segments.shp', union_inter, 1, 0)"
   ]
  },
  {
   "cell_type": "code",
   "execution_count": null,
   "metadata": {
    "collapsed": false
   },
   "outputs": [],
   "source": [
    "#Output inters_segments properties as json\n",
    "with open(DATA_FP + '/inters_data.json', 'w') as f:\n",
    "    json.dump(inter_segments['data'], f)"
   ]
  },
  {
   "cell_type": "code",
   "execution_count": 41,
   "metadata": {
    "collapsed": false
   },
   "outputs": [],
   "source": [
    "# add non_inter id format = 00+i\n",
    "non_int_w_ids = []\n",
    "i = 0\n",
    "for l in non_int_lines:\n",
    "    prop = copy.deepcopy(l[1])\n",
    "    prop['id'] = '00'+str(i)\n",
    "    non_int_w_ids.append(tuple([l[0], prop]))\n",
    "    i+=1"
   ]
  },
  {
   "cell_type": "code",
   "execution_count": 45,
   "metadata": {
    "collapsed": true
   },
   "outputs": [],
   "source": [
    "#Non-intersection shapefile\n",
    "road_properties = {k:'str' for k,v in non_int_w_ids[0][1].items()}\n",
    "road_schema = {\n",
    "    'geometry': 'LineString',\n",
    "    'properties': road_properties\n",
    "}"
   ]
  },
  {
   "cell_type": "code",
   "execution_count": 46,
   "metadata": {
    "collapsed": false
   },
   "outputs": [],
   "source": [
    "write_shp(road_schema, MAP_FP + '/non_inters_segments.shp', non_int_w_ids, 0, 1)"
   ]
  }
 ],
 "metadata": {
  "kernelspec": {
   "display_name": "Python 2",
   "language": "python",
   "name": "python2"
  },
  "language_info": {
   "codemirror_mode": {
    "name": "ipython",
    "version": 2
   },
   "file_extension": ".py",
   "mimetype": "text/x-python",
   "name": "python",
   "nbconvert_exporter": "python",
   "pygments_lexer": "ipython2",
   "version": "2.7.12"
  }
 },
 "nbformat": 4,
 "nbformat_minor": 1
}
