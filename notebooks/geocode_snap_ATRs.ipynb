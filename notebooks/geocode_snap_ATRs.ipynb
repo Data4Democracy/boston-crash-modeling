{
 "cells": [
  {
   "cell_type": "code",
   "execution_count": 7,
   "metadata": {
    "collapsed": true
   },
   "outputs": [],
   "source": [
    "import json\n",
    "import fiona\n",
    "import os\n",
    "import re\n",
    "import geocoder\n",
    "import csv\n",
    "import rtree\n",
    "from shapely.geometry import Point, MultiPoint, shape, mapping\n",
    "import pyproj\n",
    "import folium"
   ]
  },
  {
   "cell_type": "code",
   "execution_count": 9,
   "metadata": {
    "collapsed": true
   },
   "outputs": [],
   "source": [
    "os.chdir('../../../data_generation/data/ATRS/')\n"
   ]
  },
  {
   "cell_type": "code",
   "execution_count": 73,
   "metadata": {
    "collapsed": true
   },
   "outputs": [],
   "source": [
    "MAP_FP = '../maps'\n",
    "PROJ = pyproj.Proj(init='epsg:3857')"
   ]
  },
  {
   "cell_type": "code",
   "execution_count": 12,
   "metadata": {
    "collapsed": true
   },
   "outputs": [],
   "source": [
    "atrs = os.listdir(os.getcwd())"
   ]
  },
  {
   "cell_type": "code",
   "execution_count": 57,
   "metadata": {
    "collapsed": true
   },
   "outputs": [],
   "source": [
    "atr_split = [x.split('_') for x in atrs]\n",
    "atr_address = [' '.join(x[3:5]) for x in atr_split]\n",
    "atr_address = [re.sub('-', ' ', x) for x in atr_address]\n",
    "# just unique ones\n",
    "atr_address = set(atr_address)"
   ]
  },
  {
   "cell_type": "code",
   "execution_count": 58,
   "metadata": {
    "collapsed": true
   },
   "outputs": [],
   "source": [
    "# geocode, parse result - address, lat long\n",
    "results = []\n",
    "for add in atr_address:\n",
    "    g = geocoder.google(add + ' Boston, MA')\n",
    "    r = [add, g.address, g.lat, g.lng]\n",
    "    results.append(r)"
   ]
  },
  {
   "cell_type": "code",
   "execution_count": 1,
   "metadata": {},
   "outputs": [
    {
     "data": {
      "text/html": [
       "<div style=\"width:100%;\"><div style=\"position:relative;width:100%;height:0;padding-bottom:60%;\"><iframe src=\"data:text/html;charset=utf-8;base64,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\" style=\"position:absolute;width:100%;height:100%;left:0;top:0;border:none !important;\" allowfullscreen webkitallowfullscreen mozallowfullscreen></iframe></div></div>"
      ],
      "text/plain": [
       "<folium.folium.Map at 0x25f23e8f240>"
      ]
     },
     "execution_count": 1,
     "metadata": {},
     "output_type": "execute_result"
    }
   ],
   "source": [
    "# plot results\n",
    "map = folium.Map(location=[42.3601, -71.0589], zoom_start=12, tiles='Stamen Toner')\n",
    "for result in results:\n",
    "    note = result[1]\n",
    "    lat = result[2]\n",
    "    lng = result[3]\n",
    "    folium.Marker([lat, lng], popup=note).add_to(map)\n",
    "map"
   ]
  },
  {
   "cell_type": "code",
   "execution_count": 60,
   "metadata": {
    "collapsed": true
   },
   "outputs": [],
   "source": [
    "with open('geocoded_atrs.csv', 'w') as f:\n",
    "    writer = csv.writer(f, delimiter=',')\n",
    "    writer.writerow(['orig','geocoded', 'lat', 'lng'])\n",
    "    for r in results:\n",
    "        writer.writerow(r)"
   ]
  },
  {
   "cell_type": "code",
   "execution_count": 80,
   "metadata": {
    "collapsed": true
   },
   "outputs": [],
   "source": [
    "def read_shp(fp):\n",
    "    \"\"\" Read shp, output tuple geometry + property \"\"\"\n",
    "    out = [(shape(line['geometry']), line['properties'])\n",
    "           for line in fiona.open(fp)]\n",
    "    return(out)\n",
    "def read_record(record, x, y, orig=None, new=PROJ):\n",
    "    \"\"\"\n",
    "    Reads record, outputs dictionary with point and properties\n",
    "    Specify orig if reprojecting\n",
    "    \"\"\"\n",
    "    if (orig is not None):\n",
    "        x, y = pyproj.transform(orig, new, x, y)\n",
    "    r_dict = {\n",
    "        'point': Point(float(x), float(y)),\n",
    "        'properties': r\n",
    "    }\n",
    "    return(r_dict)\n",
    "def find_nearest(records, segments, segments_index, tolerance):\n",
    "    \"\"\" Finds nearest segment to records\n",
    "    tolerance : max units distance from record point to consider\n",
    "    \"\"\"\n",
    "\n",
    "    print \"Using tolerance {}\".format(tolerance)\n",
    "\n",
    "    for record in records:\n",
    "        record_point = record['point']\n",
    "        record_buffer_bounds = record_point.buffer(tolerance).bounds\n",
    "        nearby_segments = segments_index.intersection(record_buffer_bounds)\n",
    "        segment_id_with_distance = [\n",
    "            # Get db index and distance to point\n",
    "            (\n",
    "                segments[segment_id][1]['id'],\n",
    "                segments[segment_id][0].distance(record_point)\n",
    "            )\n",
    "            for segment_id in nearby_segments\n",
    "        ]\n",
    "        # Find nearest segment\n",
    "        if len(segment_id_with_distance):\n",
    "            nearest = min(segment_id_with_distance, key=lambda tup: tup[1])\n",
    "            db_segment_id = nearest[0]\n",
    "            # Add db_segment_id to record\n",
    "            record['properties']['near_id'] = db_segment_id\n",
    "        # If no segment matched, populate key = ''\n",
    "        else:\n",
    "            record['properties']['near_id'] = ''"
   ]
  },
  {
   "cell_type": "code",
   "execution_count": 67,
   "metadata": {},
   "outputs": [
    {
     "name": "stdout",
     "output_type": "stream",
     "text": [
      "Read in 8574 intersection, 17388 non-intersection segments\n"
     ]
    }
   ],
   "source": [
    "#Read in segments\n",
    "inter = read_shp(MAP_FP + '/inters_segments.shp')\n",
    "non_inter = read_shp(MAP_FP + '/non_inters_segments.shp')\n",
    "print \"Read in {} intersection, {} non-intersection segments\".format(len(inter), len(non_inter))"
   ]
  },
  {
   "cell_type": "code",
   "execution_count": 84,
   "metadata": {
    "collapsed": true
   },
   "outputs": [],
   "source": [
    "# Combine inter + non_inter\n",
    "combined_seg = inter + non_inter\n",
    "\n",
    "# Create spatial index for quick lookup\n",
    "segments_index = rtree.index.Index()\n",
    "for idx, element in enumerate(combined_seg):\n",
    "    segments_index.insert(idx, element[0].bounds)"
   ]
  },
  {
   "cell_type": "code",
   "execution_count": 96,
   "metadata": {},
   "outputs": [
    {
     "name": "stdout",
     "output_type": "stream",
     "text": [
      "Read in data from 253 atrs\n"
     ]
    }
   ],
   "source": [
    "# Read in atr lats\n",
    "atrs = []\n",
    "with open('geocoded_atrs.csv') as f:\n",
    "    csv_reader = csv.DictReader(f)\n",
    "    for r in csv_reader:\n",
    "        # Some crash 0 / blank coordinates\n",
    "        if r['lat']!='':\n",
    "            atrs.append(\n",
    "                read_record(r, r['lng'], r['lat'],\n",
    "                           orig=pyproj.Proj(init='epsg:4326'))\n",
    "            )\n",
    "print \"Read in data from {} atrs\".format(len(atrs))"
   ]
  },
  {
   "cell_type": "code",
   "execution_count": 97,
   "metadata": {},
   "outputs": [
    {
     "name": "stdout",
     "output_type": "stream",
     "text": [
      "snapping atr to segments\n",
      "Using tolerance 30\n"
     ]
    }
   ],
   "source": [
    "# Find nearest atr - 20 tolerance\n",
    "print \"snapping atr to segments\"\n",
    "find_nearest(atrs, combined_seg, segments_index, 30)"
   ]
  },
  {
   "cell_type": "code",
   "execution_count": 102,
   "metadata": {},
   "outputs": [
    {
     "data": {
      "text/plain": [
       "{'point': <shapely.geometry.point.Point at 0x11e5d9f90>,\n",
       " 'properties': {'geocoded': '31 Glenville Ave, Boston, MA 02134, USA',\n",
       "  'lat': '42.3504522',\n",
       "  'lng': '-71.1331825',\n",
       "  'near_id': 6481,\n",
       "  'orig': '31 GLENVILLE AVE'}}"
      ]
     },
     "execution_count": 102,
     "metadata": {},
     "output_type": "execute_result"
    }
   ],
   "source": [
    "atrs[0]"
   ]
  },
  {
   "cell_type": "code",
   "execution_count": 103,
   "metadata": {
    "collapsed": true
   },
   "outputs": [],
   "source": [
    "with open('snapped_atrs.json', 'w') as f:\n",
    "    json.dump([x['properties'] for x in atrs], f)"
   ]
  },
  {
   "cell_type": "code",
   "execution_count": null,
   "metadata": {
    "collapsed": true
   },
   "outputs": [],
   "source": []
  }
 ],
 "metadata": {
  "kernelspec": {
   "display_name": "Python 3",
   "language": "python",
   "name": "python3"
  },
  "language_info": {
   "codemirror_mode": {
    "name": "ipython",
    "version": 3
   },
   "file_extension": ".py",
   "mimetype": "text/x-python",
   "name": "python",
   "nbconvert_exporter": "python",
   "pygments_lexer": "ipython3",
   "version": "3.6.1"
  }
 },
 "nbformat": 4,
 "nbformat_minor": 1
}
