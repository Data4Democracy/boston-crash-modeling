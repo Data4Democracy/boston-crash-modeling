{
 "cells": [
  {
   "cell_type": "code",
   "execution_count": 83,
   "metadata": {},
   "outputs": [],
   "source": [
    "import json\n",
    "import fiona\n",
    "import os\n",
    "import re\n",
    "import geocoder\n",
    "import csv\n",
    "import rtree\n",
    "from shapely.geometry import Point, MultiPoint, shape, mapping\n",
    "import pyproj"
   ]
  },
  {
   "cell_type": "code",
   "execution_count": 9,
   "metadata": {},
   "outputs": [],
   "source": [
    "os.chdir('../../../data_generation/data/ATRS/')\n"
   ]
  },
  {
   "cell_type": "code",
   "execution_count": 73,
   "metadata": {
    "collapsed": true
   },
   "outputs": [],
   "source": [
    "MAP_FP = '../maps'\n",
    "PROJ = pyproj.Proj(init='epsg:3857')"
   ]
  },
  {
   "cell_type": "code",
   "execution_count": 12,
   "metadata": {},
   "outputs": [],
   "source": [
    "atrs = os.listdir(os.getcwd())"
   ]
  },
  {
   "cell_type": "code",
   "execution_count": 57,
   "metadata": {},
   "outputs": [],
   "source": [
    "atr_split = [x.split('_') for x in atrs]\n",
    "atr_address = [' '.join(x[3:5]) for x in atr_split]\n",
    "atr_address = [re.sub('-', ' ', x) for x in atr_address]\n",
    "# just unique ones\n",
    "atr_address = set(atr_address)"
   ]
  },
  {
   "cell_type": "code",
   "execution_count": 36,
   "metadata": {},
   "outputs": [],
   "source": [
    "g = geocoder.google(atr_address[0] + ' Boston, MA')"
   ]
  },
  {
   "cell_type": "code",
   "execution_count": 58,
   "metadata": {},
   "outputs": [],
   "source": [
    "# geocode, parse result - address, lat long\n",
    "results = []\n",
    "for add in atr_address:\n",
    "    g = geocoder.google(add + ' Boston, MA')\n",
    "    r = [add, g.address, g.lat, g.lng]\n",
    "    results.append(r)"
   ]
  },
  {
   "cell_type": "code",
   "execution_count": 60,
   "metadata": {},
   "outputs": [],
   "source": [
    "with open('geocoded_atrs.csv', 'w') as f:\n",
    "    writer = csv.writer(f, delimiter=',')\n",
    "    writer.writerow(['orig','geocoded', 'lat', 'lng'])\n",
    "    for r in results:\n",
    "        writer.writerow(r)"
   ]
  },
  {
   "cell_type": "code",
   "execution_count": 80,
   "metadata": {},
   "outputs": [],
   "source": [
    "def read_shp(fp):\n",
    "    \"\"\" Read shp, output tuple geometry + property \"\"\"\n",
    "    out = [(shape(line['geometry']), line['properties'])\n",
    "           for line in fiona.open(fp)]\n",
    "    return(out)\n",
    "def read_record(record, x, y, orig=None, new=PROJ):\n",
    "    \"\"\"\n",
    "    Reads record, outputs dictionary with point and properties\n",
    "    Specify orig if reprojecting\n",
    "    \"\"\"\n",
    "    if (orig is not None):\n",
    "        x, y = pyproj.transform(orig, new, x, y)\n",
    "    r_dict = {\n",
    "        'point': Point(float(x), float(y)),\n",
    "        'properties': r\n",
    "    }\n",
    "    return(r_dict)\n",
    "def find_nearest(records, segments, segments_index, tolerance):\n",
    "    \"\"\" Finds nearest segment to records\n",
    "    tolerance : max units distance from record point to consider\n",
    "    \"\"\"\n",
    "\n",
    "    print \"Using tolerance {}\".format(tolerance)\n",
    "\n",
    "    for record in records:\n",
    "        record_point = record['point']\n",
    "        record_buffer_bounds = record_point.buffer(tolerance).bounds\n",
    "        nearby_segments = segments_index.intersection(record_buffer_bounds)\n",
    "        segment_id_with_distance = [\n",
    "            # Get db index and distance to point\n",
    "            (\n",
    "                segments[segment_id][1]['id'],\n",
    "                segments[segment_id][0].distance(record_point)\n",
    "            )\n",
    "            for segment_id in nearby_segments\n",
    "        ]\n",
    "        # Find nearest segment\n",
    "        if len(segment_id_with_distance):\n",
    "            nearest = min(segment_id_with_distance, key=lambda tup: tup[1])\n",
    "            db_segment_id = nearest[0]\n",
    "            # Add db_segment_id to record\n",
    "            record['properties']['near_id'] = db_segment_id\n",
    "        # If no segment matched, populate key = ''\n",
    "        else:\n",
    "            record['properties']['near_id'] = ''"
   ]
  },
  {
   "cell_type": "code",
   "execution_count": 67,
   "metadata": {},
   "outputs": [
    {
     "name": "stdout",
     "output_type": "stream",
     "text": [
      "Read in 8574 intersection, 17388 non-intersection segments\n"
     ]
    }
   ],
   "source": [
    "#Read in segments\n",
    "inter = read_shp(MAP_FP + '/inters_segments.shp')\n",
    "non_inter = read_shp(MAP_FP + '/non_inters_segments.shp')\n",
    "print \"Read in {} intersection, {} non-intersection segments\".format(len(inter), len(non_inter))"
   ]
  },
  {
   "cell_type": "code",
   "execution_count": 84,
   "metadata": {},
   "outputs": [],
   "source": [
    "# Combine inter + non_inter\n",
    "combined_seg = inter + non_inter\n",
    "\n",
    "# Create spatial index for quick lookup\n",
    "segments_index = rtree.index.Index()\n",
    "for idx, element in enumerate(combined_seg):\n",
    "    segments_index.insert(idx, element[0].bounds)"
   ]
  },
  {
   "cell_type": "code",
   "execution_count": 96,
   "metadata": {},
   "outputs": [
    {
     "name": "stdout",
     "output_type": "stream",
     "text": [
      "Read in data from 253 atrs\n"
     ]
    }
   ],
   "source": [
    "# Read in atr lats\n",
    "atrs = []\n",
    "with open('geocoded_atrs.csv') as f:\n",
    "    csv_reader = csv.DictReader(f)\n",
    "    for r in csv_reader:\n",
    "        # Some crash 0 / blank coordinates\n",
    "        if r['lat']!='':\n",
    "            atrs.append(\n",
    "                read_record(r, r['lng'], r['lat'],\n",
    "                           orig=pyproj.Proj(init='epsg:4326'))\n",
    "            )\n",
    "print \"Read in data from {} atrs\".format(len(atrs))"
   ]
  },
  {
   "cell_type": "code",
   "execution_count": 97,
   "metadata": {},
   "outputs": [
    {
     "name": "stdout",
     "output_type": "stream",
     "text": [
      "snapping atr to segments\n",
      "Using tolerance 30\n"
     ]
    }
   ],
   "source": [
    "# Find nearest atr - 20 tolerance\n",
    "print \"snapping atr to segments\"\n",
    "find_nearest(atrs, combined_seg, segments_index, 30)"
   ]
  },
  {
   "cell_type": "code",
   "execution_count": 102,
   "metadata": {},
   "outputs": [
    {
     "data": {
      "text/plain": [
       "{'point': <shapely.geometry.point.Point at 0x11e5d9f90>,\n",
       " 'properties': {'geocoded': '31 Glenville Ave, Boston, MA 02134, USA',\n",
       "  'lat': '42.3504522',\n",
       "  'lng': '-71.1331825',\n",
       "  'near_id': 6481,\n",
       "  'orig': '31 GLENVILLE AVE'}}"
      ]
     },
     "execution_count": 102,
     "metadata": {},
     "output_type": "execute_result"
    }
   ],
   "source": [
    "atrs[0]"
   ]
  },
  {
   "cell_type": "code",
   "execution_count": 103,
   "metadata": {},
   "outputs": [],
   "source": [
    "with open('snapped_atrs.json', 'w') as f:\n",
    "    json.dump([x['properties'] for x in atrs], f)"
   ]
  },
  {
   "cell_type": "code",
   "execution_count": null,
   "metadata": {
    "collapsed": true
   },
   "outputs": [],
   "source": []
  }
 ],
 "metadata": {
  "kernelspec": {
   "display_name": "Python 2",
   "language": "python",
   "name": "python2"
  },
  "language_info": {
   "codemirror_mode": {
    "name": "ipython",
    "version": 2
   },
   "file_extension": ".py",
   "mimetype": "text/x-python",
   "name": "python",
   "nbconvert_exporter": "python",
   "pygments_lexer": "ipython2",
   "version": "2.7.13"
  }
 },
 "nbformat": 4,
 "nbformat_minor": 1
}
