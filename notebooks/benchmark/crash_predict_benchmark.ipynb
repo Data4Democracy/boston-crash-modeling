{
 "cells": [
  {
   "cell_type": "markdown",
   "metadata": {},
   "source": [
    "## Benchmark Model for crash prediction\n",
    "### Developed by: bpben\n",
    "#### Details steps of data processing, feature engineering and model tuning/testing for crash and road data"
   ]
  },
  {
   "cell_type": "code",
   "execution_count": 1,
   "metadata": {
    "collapsed": true
   },
   "outputs": [],
   "source": [
    "import re\n",
    "import csv\n",
    "import numpy as np\n",
    "import pandas as pd\n",
    "import matplotlib.pyplot as plt\n",
    "%matplotlib inline\n",
    "import seaborn as sns\n",
    "import scipy.stats as ss\n",
    "from glob import glob\n",
    "from sklearn.metrics import classification_report\n",
    "from sklearn.preprocessing import StandardScaler\n",
    "from scipy.stats import describe"
   ]
  },
  {
   "cell_type": "markdown",
   "metadata": {},
   "source": [
    "Helpers for tuning/testing models, available [here](https://github.com/bpben/model_helpers) as well"
   ]
  },
  {
   "cell_type": "code",
   "execution_count": 2,
   "metadata": {
    "collapsed": true
   },
   "outputs": [],
   "source": [
    "import sklearn.ensemble as ske\n",
    "import sklearn.linear_model as skl\n",
    "from sklearn import metrics\n",
    "from sklearn import metrics\n",
    "from sklearn.model_selection import RandomizedSearchCV\n",
    "from sklearn.calibration import CalibratedClassifierCV\n",
    "from sklearn import model_selection as cv\n",
    "\n",
    "class Indata():\n",
    "    scoring = None\n",
    "    data = None\n",
    "    train_x, train_y, test_x, test_y = None, None, None, None\n",
    "    is_split = 0\n",
    "    \n",
    "    #init with pandas DF and target column name, specify scoring observations\n",
    "    def __init__(self, data, target, scoring=None):\n",
    "        #If scoring observations, store under scoring attribute\n",
    "        if scoring is not None:\n",
    "            self.data = data[~(scoring)]\n",
    "            self.scoring = data[scoring]\n",
    "        else:\n",
    "            self.data = data\n",
    "        self.target = target\n",
    "    \n",
    "    # Split into train/test\n",
    "    # pct = percent training observations\n",
    "    # datesort = specify date column for sorting values\n",
    "    #   If this is not None, split will be non-random (i.e. split on sorted obs)\n",
    "    def tr_te_split(self, pct, datesort=None):\n",
    "        if datesort:\n",
    "            self.data.sort_values(datesort, inplace=True)\n",
    "            self.data.reset_index(drop=True, inplace=True)\n",
    "            inds = np.arange(0.0,len(self.data)) / len(self.data) < pct\n",
    "        else:\n",
    "            inds = np.random.rand(len(self.data)) < pct\n",
    "        self.train_x = self.data[inds]\n",
    "        print 'Train obs:', len(self.train_x)\n",
    "        self.train_y = self.data[self.target][inds]\n",
    "        self.test_x = self.data[~inds]\n",
    "        print 'Test obs:', len(self.test_x)\n",
    "        self.test_y = self.data[self.target][~inds]\n",
    "        self.is_split = 1\n",
    "        \n",
    "class Tuner():\n",
    "    \"\"\"\n",
    "    Initiates with indata class, will tune series of models according to parameters.  \n",
    "    Outputs RandomizedGridCV results and parameterized model in dictionary\n",
    "    \"\"\"\n",
    "    \n",
    "    data = None\n",
    "    train_x, train_y = None, None\n",
    "    \n",
    "    def __init__(self, indata, best_models=None, grid_results=None):\n",
    "        if indata.is_split == 0:\n",
    "            raise ValueError('Data is not split, cannot be tested')\n",
    "        else:\n",
    "            self.data = indata.data\n",
    "            self.train_x = indata.train_x\n",
    "            self.train_y = indata.train_y\n",
    "            if best_models is None:\n",
    "                self.best_models = {}\n",
    "            if grid_results is None:\n",
    "                self.grid_results = pd.DataFrame()\n",
    "        \n",
    "            \n",
    "    def make_grid(self, model, obs, cvparams, mparams):\n",
    "        #Makes CV grid\n",
    "        grid = RandomizedSearchCV(\n",
    "                    model(),scoring=cvparams['pmetric'], \n",
    "                    cv = cv.KFold(cvparams['folds']), \n",
    "                    refit=False, n_iter=cvparams['iter'],\n",
    "                    param_distributions=mparams, verbose=1)\n",
    "        return(grid)\n",
    "    \n",
    "    def run_grid(self, grid, train_x, train_y):\n",
    "        grid.fit(train_x, train_y)\n",
    "        results = pd.DataFrame(grid.cv_results_)[['mean_test_score','mean_train_score','params']]\n",
    "        best = {}\n",
    "        best['bp'] = grid.best_params_\n",
    "        best[grid.scoring] = grid.best_score_\n",
    "        return(best, results)\n",
    "            \n",
    "    def tune(self, name, m_name, features, cvparams, mparams):\n",
    "        if hasattr(ske, m_name):\n",
    "            model = getattr(ske, m_name)\n",
    "        elif hasattr(skl, m_name):\n",
    "            model = getattr(skl, m_name)\n",
    "        else:\n",
    "            raise ValueError('Model name is invalid.')\n",
    "        grid = self.make_grid(model, len(self.train_x), cvparams, mparams)\n",
    "        best, results = self.run_grid(grid, self.train_x[features], self.train_y)\n",
    "        results['name'] = name\n",
    "        results['m_name'] = m_name\n",
    "        self.grid_results = self.grid_results.append(results)\n",
    "        best['model'] = model(**best['bp'])\n",
    "        best['features'] = list(features)\n",
    "        self.best_models.update({name: best}) \n",
    "        \n",
    "class Tester():\n",
    "    \"\"\"\n",
    "    Initiates with indata class, receives parameterized sklearn models, prints and stores results\n",
    "    \"\"\"\n",
    "    \n",
    "    def __init__(self, data, rundict=None):\n",
    "        if data.is_split == 0 :\n",
    "            raise ValueError('Data is not split, cannot be tested')\n",
    "        else:\n",
    "            self.data = data\n",
    "            if rundict is None:\n",
    "                self.rundict = {}\n",
    "            \n",
    "    #Add tuner object, will populate rundict with names, models, feature\n",
    "    def init_tuned(self, tuned):\n",
    "        if tuned.best_models=={}:\n",
    "            raise ValueError('No tuned models found')\n",
    "        else:\n",
    "            self.rundict.update(tuned.best_models)\n",
    "    \n",
    "    #Produce predicted class and probabilities\n",
    "    def predsprobs(self, model, test_x):\n",
    "        preds = model.predict(test_x)\n",
    "        probs = model.predict_proba(test_x)[:,1]\n",
    "        return(preds, probs)\n",
    "    \n",
    "    #Produce metrics\n",
    "    def get_metrics(self, preds, probs, test_y):\n",
    "        f1_s = metrics.f1_score(test_y, preds)\n",
    "        brier = metrics.brier_score_loss(test_y, probs)\n",
    "        auc = metrics.roc_auc_score(test_y, preds)\n",
    "        c_matrix = metrics.confusion_matrix(test_y, preds)\n",
    "        return(f1_s, brier, auc, c_matrix)\n",
    "    \n",
    "    #Run production, output dictionary\n",
    "    def make_result(self, model, test_x, test_y):\n",
    "        preds, probs = self.predsprobs(model, test_x)\n",
    "        f1_s, brier, auc, c_matrix = self.get_metrics(preds, probs, test_y)\n",
    "        print \"f1_score: \", f1_s\n",
    "        print \"brier_score: \", brier\n",
    "        print \"AUC score: \", auc\n",
    "        print \"Confusion Matrix: \", c_matrix\n",
    "        result = {}\n",
    "        #result['preds'] = [int(i) for i in preds]\n",
    "        #result['probs'] = [float(i) for i in probs]\n",
    "        result['f1_s'] = f1_s\n",
    "        result['brier'] = brier\n",
    "        result['auc'] = auc\n",
    "        result['c_matrix'] = c_matrix\n",
    "        return(result)\n",
    "\n",
    "    # Run model - Specify model, with parameters, features\n",
    "    # Stores it to rundict, can later be output\n",
    "    # Will overwrite previous run if name is not different\n",
    "    def run_model(self, name, model, features, cal=True, cal_m='sigmoid'):\n",
    "        results = {}\n",
    "        results['features'] = list(features)\n",
    "        print \"Fitting {} model with {} features\".format(name, len(features))\n",
    "        if cal:\n",
    "            # Need disjoint calibration/training datasets\n",
    "            # Split 50/50\n",
    "            rnd_ind = np.random.rand(len(self.data.train_x)) < .5\n",
    "            train_x = self.data.train_x[features][rnd_ind]\n",
    "            train_y = self.data.train_y[rnd_ind]\n",
    "            cal_x = self.data.train_x[features][~rnd_ind]\n",
    "            cal_y = self.data.train_y[~rnd_ind]\n",
    "        else:\n",
    "            train_x = self.data.train_x[features]\n",
    "            train_y = self.data.train_y\n",
    "\n",
    "        m_fit = model.fit(train_x, train_y)\n",
    "        result = self.make_result(\n",
    "            m_fit,\n",
    "            self.data.test_x[features],\n",
    "            self.data.test_y)\n",
    "\n",
    "        results['raw'] = result\n",
    "        results['m_fit'] = m_fit\n",
    "        if cal:\n",
    "            print \"calibrated:\"\n",
    "            m_c = CalibratedClassifierCV(m_fit, method = cal_m, cv='prefit')\n",
    "            m_fit_c = m_c.fit(cal_x, cal_y)\n",
    "            result_c = self.make_result(m_fit_c, self.data.test_x[features], self.data.test_y)\n",
    "            results['calibrated'] = result_c              \n",
    "            print \"\\n\"\n",
    "        if name in self.rundict:\n",
    "            self.rundict[name].update(results)\n",
    "        else:\n",
    "            self.rundict.update({name:results})\n",
    "    \n",
    "    #Run from tuned set\n",
    "    def run_tuned(self, name, cal=True, cal_m='sigmoid'):\n",
    "        self.run_model(name, self.rundict[name]['model'], self.rundict[name]['features'], cal, cal_m)\n",
    "    \n",
    "    #Output rundict to csv\n",
    "    def to_csv(self):\n",
    "        if self.rundict == {}:\n",
    "            raise ValueError('No results found')\n",
    "        else:\n",
    "            now = pd.to_datetime('today').value\n",
    "            #Make dataframe, transpose so each row = model\n",
    "            pd.DataFrame(self.rundict).T.to_csv('results_{}.csv'.format(now))"
   ]
  },
  {
   "cell_type": "markdown",
   "metadata": {},
   "source": [
    "### Data processing\n",
    "The approach here is to create 3 time-lag features:\n",
    "\n",
    "1. crashes in the past week\n",
    "2. crashes in the past month\n",
    "3. crashes in the past quarter (three months)\n",
    "4. average crashes per week up to target week\n",
    "\n",
    "All features except 4 are calculated to exclude one another.  That is, crashes in the past month does not include the past week's crashes.  Crashes in the past quarter do not include the past month."
   ]
  },
  {
   "cell_type": "code",
   "execution_count": 3,
   "metadata": {
    "collapsed": true
   },
   "outputs": [],
   "source": [
    "SEG_CHARS = ['AADT', 'SPEEDLIMIT', 'Struct_Cnd', 'Surface_Tp', 'F_F_Class']"
   ]
  },
  {
   "cell_type": "code",
   "execution_count": 4,
   "metadata": {
    "collapsed": true
   },
   "outputs": [],
   "source": [
    "# Read in data\n",
    "data = pd.read_csv('../../data/processed/vz_predict_dataset.csv.gz', compression='gzip', dtype={'segment_id':'str'})\n",
    "data.sort_values(['segment_id', 'week'], inplace=True)"
   ]
  },
  {
   "cell_type": "code",
   "execution_count": 5,
   "metadata": {
    "collapsed": true
   },
   "outputs": [],
   "source": [
    "# get segments with non-zero crashes\n",
    "data_nonzero = data.set_index('segment_id').loc[data.groupby('segment_id').crash.sum()>0]\n",
    "data_nonzero.reset_index(inplace=True)"
   ]
  },
  {
   "cell_type": "code",
   "execution_count": 6,
   "metadata": {
    "collapsed": true
   },
   "outputs": [],
   "source": [
    "def format_crash_data(data, col, target):\n",
    "    \"\"\" formats crash data for train/test \n",
    "    target: week to predict (make into binary target)\n",
    "        must be >4 months in\n",
    "    gets previous week count, previous month count, previous quarter count, avg per week\n",
    "    \n",
    "    \"\"\"\n",
    "    assert target>16\n",
    "    pre_week = target - 1\n",
    "    pre_month = range(pre_week-4, target)\n",
    "    pre_quarter = range(pre_month[0]-12, target)\n",
    "    all_prior_weeks = range(1, target)\n",
    "    \n",
    "    # week interval for each segment\n",
    "    # full range = pre_quarter : target\n",
    "    sliced = data.loc[(slice(None),slice(1, target)),:]\n",
    "    week_data = sliced[col].unstack(1)\n",
    "    week_data.reset_index(level=1, inplace=True)\n",
    "    \n",
    "    # aggregate\n",
    "    week_data['pre_month'] = week_data[pre_month].sum(axis=1)\n",
    "    week_data['pre_quarter'] = week_data[pre_quarter].sum(axis=1)\n",
    "    week_data['pre_week'] = week_data[pre_week]\n",
    "    # avg as of target week\n",
    "    week_data['avg_week'] = week_data[all_prior_weeks].apply(\n",
    "        lambda x: x.sum() / len(all_prior_weeks), axis=1\n",
    "    )\n",
    "    \n",
    "    # binarize target\n",
    "    week_data['target'] = (week_data[target]>0).astype(int)\n",
    "    \n",
    "    return(week_data[['segment_id','target', 'pre_week', \n",
    "                      'pre_month', 'pre_quarter', 'avg_week']])"
   ]
  },
  {
   "cell_type": "code",
   "execution_count": 7,
   "metadata": {
    "collapsed": true
   },
   "outputs": [],
   "source": [
    "# arbitrarily choosing week = 50\n",
    "crash_lags = format_crash_data(data_nonzero.set_index(['segment_id','week']), 'crash', 50)"
   ]
  },
  {
   "cell_type": "code",
   "execution_count": 8,
   "metadata": {
    "collapsed": true
   },
   "outputs": [],
   "source": [
    "data_segs = data_nonzero.groupby('segment_id')[SEG_CHARS].max()  # grab the highest values from each column for a segment, not used in model?\n",
    "data_segs.reset_index(inplace=True)"
   ]
  },
  {
   "cell_type": "code",
   "execution_count": 29,
   "metadata": {
    "collapsed": true
   },
   "outputs": [],
   "source": [
    "data_model = crash_lags.merge(data_segs, left_on='segment_id', right_on='segment_id')"
   ]
  },
  {
   "cell_type": "code",
   "execution_count": 10,
   "metadata": {},
   "outputs": [],
   "source": [
    "# Add in adjacency info\n",
    "adj_info = pd.read_csv('../../data/processed/adjacency_info.csv', usecols=['segment_id', 'orig_id'],\n",
    "                       dtype={'segment_id':'str', 'orig_id':'str'})\n",
    "\n",
    "# link adjacent segments for segments with crashes\n",
    "adj_info = adj_info[adj_info.segment_id.isin(data_model.segment_id)]\n",
    "adj_mat = adj_info.merge(adj_info, on='orig_id')\n",
    "adj_mat = adj_mat[['segment_id_x', 'segment_id_y']]\n",
    "adj_mat.drop_duplicates(inplace=True)\n",
    "adj_mat = adj_mat[adj_mat.segment_id_x != adj_mat.segment_id_y]\n",
    "\n",
    "def get_adj_crash_lags(target_week):\n",
    "    \"\"\"calculate total number of crashes that occurred \n",
    "    in adjacent segments for target week and lags as defined in format_crash_data\n",
    "    \"\"\" \n",
    "    lag_data = format_crash_data(data_nonzero.set_index(['segment_id','week']), 'crash', target_week)\n",
    "    merge_lags = adj_mat.merge(lag_data, left_on='segment_id_y', right_on='segment_id')\n",
    "    adj_lags = merge_lags.groupby(['segment_id_x'])['target', 'pre_week', 'pre_month', 'pre_quarter'].sum()\n",
    "    return adj_lags\n",
    "\n",
    "adj_lags = get_adj_crash_lags(50)"
   ]
  },
  {
   "cell_type": "code",
   "execution_count": 30,
   "metadata": {},
   "outputs": [
    {
     "data": {
      "text/html": [
       "<div>\n",
       "<table border=\"1\" class=\"dataframe\">\n",
       "  <thead>\n",
       "    <tr style=\"text-align: right;\">\n",
       "      <th></th>\n",
       "      <th>segment_id</th>\n",
       "      <th>target</th>\n",
       "      <th>pre_week</th>\n",
       "      <th>pre_month</th>\n",
       "      <th>pre_quarter</th>\n",
       "      <th>avg_week</th>\n",
       "      <th>AADT</th>\n",
       "      <th>SPEEDLIMIT</th>\n",
       "      <th>Struct_Cnd</th>\n",
       "      <th>Surface_Tp</th>\n",
       "      <th>F_F_Class</th>\n",
       "      <th>target_adj</th>\n",
       "      <th>pre_week_adj</th>\n",
       "      <th>pre_month_adj</th>\n",
       "      <th>pre_quarter_adj</th>\n",
       "    </tr>\n",
       "  </thead>\n",
       "  <tbody>\n",
       "    <tr>\n",
       "      <th>0</th>\n",
       "      <td>0010</td>\n",
       "      <td>0</td>\n",
       "      <td>0.0</td>\n",
       "      <td>0.0</td>\n",
       "      <td>0.0</td>\n",
       "      <td>0.020408</td>\n",
       "      <td>0</td>\n",
       "      <td>20</td>\n",
       "      <td>2</td>\n",
       "      <td>6</td>\n",
       "      <td>7</td>\n",
       "      <td>0.0</td>\n",
       "      <td>0.0</td>\n",
       "      <td>0.0</td>\n",
       "      <td>0.0</td>\n",
       "    </tr>\n",
       "    <tr>\n",
       "      <th>1</th>\n",
       "      <td>0010004</td>\n",
       "      <td>0</td>\n",
       "      <td>0.0</td>\n",
       "      <td>0.0</td>\n",
       "      <td>0.0</td>\n",
       "      <td>0.020408</td>\n",
       "      <td>0</td>\n",
       "      <td>20</td>\n",
       "      <td>1</td>\n",
       "      <td>6</td>\n",
       "      <td>7</td>\n",
       "      <td>0.0</td>\n",
       "      <td>0.0</td>\n",
       "      <td>0.0</td>\n",
       "      <td>0.0</td>\n",
       "    </tr>\n",
       "    <tr>\n",
       "      <th>2</th>\n",
       "      <td>0010194</td>\n",
       "      <td>0</td>\n",
       "      <td>1.0</td>\n",
       "      <td>1.0</td>\n",
       "      <td>1.0</td>\n",
       "      <td>0.020408</td>\n",
       "      <td>9909</td>\n",
       "      <td>30</td>\n",
       "      <td>2</td>\n",
       "      <td>6</td>\n",
       "      <td>4</td>\n",
       "      <td>0.0</td>\n",
       "      <td>0.0</td>\n",
       "      <td>1.0</td>\n",
       "      <td>3.0</td>\n",
       "    </tr>\n",
       "    <tr>\n",
       "      <th>3</th>\n",
       "      <td>0010205</td>\n",
       "      <td>0</td>\n",
       "      <td>0.0</td>\n",
       "      <td>0.0</td>\n",
       "      <td>1.0</td>\n",
       "      <td>0.020408</td>\n",
       "      <td>9850</td>\n",
       "      <td>25</td>\n",
       "      <td>2</td>\n",
       "      <td>6</td>\n",
       "      <td>4</td>\n",
       "      <td>0.0</td>\n",
       "      <td>0.0</td>\n",
       "      <td>0.0</td>\n",
       "      <td>2.0</td>\n",
       "    </tr>\n",
       "    <tr>\n",
       "      <th>4</th>\n",
       "      <td>0010225</td>\n",
       "      <td>0</td>\n",
       "      <td>0.0</td>\n",
       "      <td>0.0</td>\n",
       "      <td>1.0</td>\n",
       "      <td>0.061224</td>\n",
       "      <td>197004</td>\n",
       "      <td>65</td>\n",
       "      <td>2</td>\n",
       "      <td>6</td>\n",
       "      <td>1</td>\n",
       "      <td>0.0</td>\n",
       "      <td>0.0</td>\n",
       "      <td>0.0</td>\n",
       "      <td>3.0</td>\n",
       "    </tr>\n",
       "  </tbody>\n",
       "</table>\n",
       "</div>"
      ],
      "text/plain": [
       "  segment_id  target  pre_week  pre_month  pre_quarter  avg_week    AADT  \\\n",
       "0       0010       0       0.0        0.0          0.0  0.020408       0   \n",
       "1    0010004       0       0.0        0.0          0.0  0.020408       0   \n",
       "2    0010194       0       1.0        1.0          1.0  0.020408    9909   \n",
       "3    0010205       0       0.0        0.0          1.0  0.020408    9850   \n",
       "4    0010225       0       0.0        0.0          1.0  0.061224  197004   \n",
       "\n",
       "   SPEEDLIMIT  Struct_Cnd  Surface_Tp  F_F_Class  target_adj  pre_week_adj  \\\n",
       "0          20           2           6          7         0.0           0.0   \n",
       "1          20           1           6          7         0.0           0.0   \n",
       "2          30           2           6          4         0.0           0.0   \n",
       "3          25           2           6          4         0.0           0.0   \n",
       "4          65           2           6          1         0.0           0.0   \n",
       "\n",
       "   pre_month_adj  pre_quarter_adj  \n",
       "0            0.0              0.0  \n",
       "1            0.0              0.0  \n",
       "2            1.0              3.0  \n",
       "3            0.0              2.0  \n",
       "4            0.0              3.0  "
      ]
     },
     "execution_count": 30,
     "metadata": {},
     "output_type": "execute_result"
    }
   ],
   "source": [
    "data_model = data_model.merge(adj_lags, how='left', left_on='segment_id', right_index=True, suffixes=('', '_adj'))\n",
    "data_model.fillna(0, inplace=True)\n",
    "\n",
    "data_model.head()"
   ]
  },
  {
   "cell_type": "markdown",
   "metadata": {},
   "source": [
    "### Model tuning\n",
    "This uses the model helpers above.  They're based on sklearn and implement a randomized grid search with K-fold crossvalidation."
   ]
  },
  {
   "cell_type": "code",
   "execution_count": 31,
   "metadata": {},
   "outputs": [
    {
     "name": "stdout",
     "output_type": "stream",
     "text": [
      "Train obs: 1411\n",
      "Test obs: 567\n"
     ]
    }
   ],
   "source": [
    "#Initialize data\n",
    "#Fill missing 0 (Only affects tot_crash)\n",
    "df = Indata(data_model, 'target')\n",
    "#Create train/test split\n",
    "df.tr_te_split(.7)"
   ]
  },
  {
   "cell_type": "code",
   "execution_count": 32,
   "metadata": {
    "collapsed": true
   },
   "outputs": [],
   "source": [
    "#Parameters for model\n",
    "#Model parameters\n",
    "params = dict()\n",
    "\n",
    "#cv parameters\n",
    "cvp = dict()\n",
    "cvp['pmetric'] = 'roc_auc'\n",
    "cvp['iter'] = 5 #number of iterations\n",
    "cvp['folds'] = 5 #folds for cv (default)\n",
    "\n",
    "#LR parameters\n",
    "mp = dict()\n",
    "mp['LogisticRegression'] = dict()\n",
    "mp['LogisticRegression']['penalty'] = ['l1','l2']\n",
    "mp['LogisticRegression']['C'] = ss.beta(a=5,b=2) #beta distribution for selecting reg strength\n",
    "\n",
    "#RF model parameters\n",
    "mp['RandomForestClassifier'] = dict()\n",
    "mp['RandomForestClassifier']['n_estimators'] = [2**8] #number of trees in the forest\n",
    "mp['RandomForestClassifier']['max_features'] = ss.beta(a=5,b=2) #number of features at split\n",
    "mp['RandomForestClassifier']['max_leaf_nodes'] = ss.nbinom(n=2,p=0.001,loc=100) #max number of leaves to create"
   ]
  },
  {
   "cell_type": "code",
   "execution_count": 33,
   "metadata": {
    "collapsed": true
   },
   "outputs": [],
   "source": [
    "# Features\n",
    "features = [u'pre_week', u'pre_month', u'pre_quarter', 'avg_week', u'AADT', u'SPEEDLIMIT',\n",
    "            u'Struct_Cnd', u'Surface_Tp', u'F_F_Class', u'target_adj', u'pre_week_adj', \n",
    "            u'pre_month_adj', u'pre_quarter_adj']"
   ]
  },
  {
   "cell_type": "code",
   "execution_count": 34,
   "metadata": {
    "collapsed": true
   },
   "outputs": [],
   "source": [
    "#Initialize tuner\n",
    "tune = Tuner(df)"
   ]
  },
  {
   "cell_type": "code",
   "execution_count": 35,
   "metadata": {},
   "outputs": [
    {
     "name": "stdout",
     "output_type": "stream",
     "text": [
      "Fitting 5 folds for each of 5 candidates, totalling 25 fits\n"
     ]
    },
    {
     "name": "stderr",
     "output_type": "stream",
     "text": [
      "[Parallel(n_jobs=1)]: Done  25 out of  25 | elapsed:   23.2s finished\n"
     ]
    }
   ],
   "source": [
    "#Base RF model\n",
    "tune.tune('RF_base', 'RandomForestClassifier', features, cvp, mp['RandomForestClassifier'])"
   ]
  },
  {
   "cell_type": "code",
   "execution_count": 36,
   "metadata": {},
   "outputs": [
    {
     "name": "stdout",
     "output_type": "stream",
     "text": [
      "Fitting 5 folds for each of 5 candidates, totalling 25 fits\n"
     ]
    },
    {
     "name": "stderr",
     "output_type": "stream",
     "text": [
      "[Parallel(n_jobs=1)]: Done  25 out of  25 | elapsed:    0.4s finished\n"
     ]
    }
   ],
   "source": [
    "#Base LR model\n",
    "tune.tune('LR_base', 'LogisticRegression', features, cvp, mp['LogisticRegression'])"
   ]
  },
  {
   "cell_type": "code",
   "execution_count": 37,
   "metadata": {},
   "outputs": [
    {
     "data": {
      "text/html": [
       "<div>\n",
       "<table border=\"1\" class=\"dataframe\">\n",
       "  <thead>\n",
       "    <tr style=\"text-align: right;\">\n",
       "      <th></th>\n",
       "      <th>mean_test_score</th>\n",
       "      <th>mean_train_score</th>\n",
       "      <th>params</th>\n",
       "      <th>name</th>\n",
       "      <th>m_name</th>\n",
       "    </tr>\n",
       "  </thead>\n",
       "  <tbody>\n",
       "    <tr>\n",
       "      <th>0</th>\n",
       "      <td>0.705434</td>\n",
       "      <td>0.996935</td>\n",
       "      <td>{u'max_features': 0.34076466503, u'max_leaf_no...</td>\n",
       "      <td>RF_base</td>\n",
       "      <td>RandomForestClassifier</td>\n",
       "    </tr>\n",
       "    <tr>\n",
       "      <th>1</th>\n",
       "      <td>0.683586</td>\n",
       "      <td>0.996809</td>\n",
       "      <td>{u'max_features': 0.857753069408, u'max_leaf_n...</td>\n",
       "      <td>RF_base</td>\n",
       "      <td>RandomForestClassifier</td>\n",
       "    </tr>\n",
       "    <tr>\n",
       "      <th>2</th>\n",
       "      <td>0.662738</td>\n",
       "      <td>0.996730</td>\n",
       "      <td>{u'max_features': 0.962497415305, u'max_leaf_n...</td>\n",
       "      <td>RF_base</td>\n",
       "      <td>RandomForestClassifier</td>\n",
       "    </tr>\n",
       "    <tr>\n",
       "      <th>3</th>\n",
       "      <td>0.680503</td>\n",
       "      <td>0.996865</td>\n",
       "      <td>{u'max_features': 0.553801651127, u'max_leaf_n...</td>\n",
       "      <td>RF_base</td>\n",
       "      <td>RandomForestClassifier</td>\n",
       "    </tr>\n",
       "    <tr>\n",
       "      <th>4</th>\n",
       "      <td>0.679159</td>\n",
       "      <td>0.996846</td>\n",
       "      <td>{u'max_features': 0.680493972907, u'max_leaf_n...</td>\n",
       "      <td>RF_base</td>\n",
       "      <td>RandomForestClassifier</td>\n",
       "    </tr>\n",
       "    <tr>\n",
       "      <th>0</th>\n",
       "      <td>0.578807</td>\n",
       "      <td>0.635537</td>\n",
       "      <td>{u'penalty': u'l1', u'C': 0.317694410407}</td>\n",
       "      <td>LR_base</td>\n",
       "      <td>LogisticRegression</td>\n",
       "    </tr>\n",
       "    <tr>\n",
       "      <th>1</th>\n",
       "      <td>0.522260</td>\n",
       "      <td>0.584901</td>\n",
       "      <td>{u'penalty': u'l2', u'C': 0.760971128043}</td>\n",
       "      <td>LR_base</td>\n",
       "      <td>LogisticRegression</td>\n",
       "    </tr>\n",
       "    <tr>\n",
       "      <th>2</th>\n",
       "      <td>0.559839</td>\n",
       "      <td>0.665661</td>\n",
       "      <td>{u'penalty': u'l1', u'C': 0.985926061769}</td>\n",
       "      <td>LR_base</td>\n",
       "      <td>LogisticRegression</td>\n",
       "    </tr>\n",
       "    <tr>\n",
       "      <th>3</th>\n",
       "      <td>0.522473</td>\n",
       "      <td>0.588521</td>\n",
       "      <td>{u'penalty': u'l2', u'C': 0.926339325753}</td>\n",
       "      <td>LR_base</td>\n",
       "      <td>LogisticRegression</td>\n",
       "    </tr>\n",
       "    <tr>\n",
       "      <th>4</th>\n",
       "      <td>0.575455</td>\n",
       "      <td>0.660462</td>\n",
       "      <td>{u'penalty': u'l1', u'C': 0.612701052213}</td>\n",
       "      <td>LR_base</td>\n",
       "      <td>LogisticRegression</td>\n",
       "    </tr>\n",
       "  </tbody>\n",
       "</table>\n",
       "</div>"
      ],
      "text/plain": [
       "   mean_test_score  mean_train_score  \\\n",
       "0         0.705434          0.996935   \n",
       "1         0.683586          0.996809   \n",
       "2         0.662738          0.996730   \n",
       "3         0.680503          0.996865   \n",
       "4         0.679159          0.996846   \n",
       "0         0.578807          0.635537   \n",
       "1         0.522260          0.584901   \n",
       "2         0.559839          0.665661   \n",
       "3         0.522473          0.588521   \n",
       "4         0.575455          0.660462   \n",
       "\n",
       "                                              params     name  \\\n",
       "0  {u'max_features': 0.34076466503, u'max_leaf_no...  RF_base   \n",
       "1  {u'max_features': 0.857753069408, u'max_leaf_n...  RF_base   \n",
       "2  {u'max_features': 0.962497415305, u'max_leaf_n...  RF_base   \n",
       "3  {u'max_features': 0.553801651127, u'max_leaf_n...  RF_base   \n",
       "4  {u'max_features': 0.680493972907, u'max_leaf_n...  RF_base   \n",
       "0          {u'penalty': u'l1', u'C': 0.317694410407}  LR_base   \n",
       "1          {u'penalty': u'l2', u'C': 0.760971128043}  LR_base   \n",
       "2          {u'penalty': u'l1', u'C': 0.985926061769}  LR_base   \n",
       "3          {u'penalty': u'l2', u'C': 0.926339325753}  LR_base   \n",
       "4          {u'penalty': u'l1', u'C': 0.612701052213}  LR_base   \n",
       "\n",
       "                   m_name  \n",
       "0  RandomForestClassifier  \n",
       "1  RandomForestClassifier  \n",
       "2  RandomForestClassifier  \n",
       "3  RandomForestClassifier  \n",
       "4  RandomForestClassifier  \n",
       "0      LogisticRegression  \n",
       "1      LogisticRegression  \n",
       "2      LogisticRegression  \n",
       "3      LogisticRegression  \n",
       "4      LogisticRegression  "
      ]
     },
     "execution_count": 37,
     "metadata": {},
     "output_type": "execute_result"
    }
   ],
   "source": [
    "#Display results\n",
    "tune.grid_results"
   ]
  },
  {
   "cell_type": "code",
   "execution_count": 38,
   "metadata": {},
   "outputs": [
    {
     "name": "stdout",
     "output_type": "stream",
     "text": [
      "Fitting RF_base model with 13 features\n",
      "f1_score:  0.125\n",
      "brier_score:  0.0219129416019\n",
      "AUC score:  0.534810126582\n",
      "Confusion Matrix:  [[552   1]\n",
      " [ 13   1]]\n"
     ]
    }
   ],
   "source": [
    "# Run test\n",
    "test = Tester(df)\n",
    "test.init_tuned(tune)\n",
    "test.run_tuned('RF_base', cal=False)"
   ]
  },
  {
   "cell_type": "code",
   "execution_count": 47,
   "metadata": {},
   "outputs": [
    {
     "name": "stdout",
     "output_type": "stream",
     "text": [
      "[(u'AADT', 0.24525548833380623), ('avg_week', 0.20069971992938268), (u'SPEEDLIMIT', 0.12483887082610022), (u'pre_quarter_adj', 0.091427629022860918), (u'pre_quarter', 0.074038521699655593), (u'Struct_Cnd', 0.072887516965199864), (u'F_F_Class', 0.056496961512401807), (u'Surface_Tp', 0.045988990352965393), (u'pre_month_adj', 0.033664790459451074), (u'pre_month', 0.028167792017421697), (u'pre_week', 0.01235731579495483), (u'target_adj', 0.010379504044314466), (u'pre_week_adj', 0.0037968990414851043)]\n"
     ]
    }
   ],
   "source": [
    "# Check feature importance\n",
    "f_importance = tune.best_models['RF_base']['m_fit'].feature_importances_\n",
    "fi = list(zip(features, f_importance))\n",
    "print sorted(fi, key=lambda x: x[1], reverse=True)"
   ]
  },
  {
   "cell_type": "markdown",
   "metadata": {},
   "source": [
    "### Lift chart by \"risk bin\"\n",
    "The classifier problem is difficult because the classes are unbalanced (.05% have crashes at target week).  More useful are the probabilities being produced by the model, which give some idea of risk."
   ]
  },
  {
   "cell_type": "code",
   "execution_count": 51,
   "metadata": {
    "collapsed": true
   },
   "outputs": [],
   "source": [
    "def lift_chart(x_col, y_col, data, ax=None):\n",
    "\n",
    "    p = sns.barplot(x=x_col, y=y_col, data=data, \n",
    "                    palette='Reds', ax = None, ci=None)\n",
    "    vals = p.get_yticks()\n",
    "    p.set_yticklabels(['{:3.0f}%'.format(i*100) for i in vals])\n",
    "    xvals = [x.get_text().split(',')[-1].strip(']') for x in p.get_xticklabels()]\n",
    "    xvals = ['{:3.0f}%'.format(float(x)*100) for x in xvals]\n",
    "    p.set_xticklabels(xvals)\n",
    "    p.set_facecolor('white')\n",
    "    p.set_xlabel('')\n",
    "    p.set_ylabel('')\n",
    "    p.set_title('Predicted probability vs actual percent')\n",
    "    return(p)\n",
    "    \n",
    "def density(data, score, ax=None):\n",
    "    p = sns.kdeplot(risk_df['risk_score'], ax=ax)\n",
    "    p.set_facecolor('white')\n",
    "    p.legend('')\n",
    "    p.set_xlabel('Predicted probability of crash')\n",
    "    p.set_title('KDE plot predictions')\n",
    "    return(p)"
   ]
  },
  {
   "cell_type": "code",
   "execution_count": 49,
   "metadata": {},
   "outputs": [
    {
     "name": "stdout",
     "output_type": "stream",
     "text": [
      "count    567.000000\n",
      "mean       0.038451\n",
      "std        0.084480\n",
      "min        0.000000\n",
      "25%        0.000000\n",
      "50%        0.003906\n",
      "75%        0.031250\n",
      "max        0.550781\n",
      "Name: risk_score, dtype: float64\n",
      "categories\n",
      "(-1, 0]          272\n",
      "(0, 0.01]         65\n",
      "(0.01, 0.02]      39\n",
      "(0.02, 0.05]      79\n",
      "(0.05, 0.551]    112\n",
      "Name: crash, dtype: int64\n"
     ]
    }
   ],
   "source": [
    "risk_scores = test.rundict['RF_base']['m_fit'].predict_proba(test.data.test_x[features])[:,1]\n",
    "risk_df = pd.DataFrame({'risk_score':risk_scores, 'crash':test.data.test_y})\n",
    "print risk_df.risk_score.describe()\n",
    "risk_df['categories'] = pd.cut(risk_df['risk_score'], bins=[-1, 0, .01, .02, .05, max(risk_scores)])\n",
    "risk_mean = risk_df.groupby('categories')['crash'].count()\n",
    "print risk_mean"
   ]
  },
  {
   "cell_type": "code",
   "execution_count": 52,
   "metadata": {},
   "outputs": [
    {
     "data": {
      "text/plain": [
       "<matplotlib.axes._subplots.AxesSubplot at 0xed972b0>"
      ]
     },
     "execution_count": 52,
     "metadata": {},
     "output_type": "execute_result"
    },
    {
     "data": {
      "image/png": "[encoded data removed]",
      "text/plain": [
       "<matplotlib.figure.Figure at 0x12a18ba8>"
      ]
     },
     "metadata": {},
     "output_type": "display_data"
    }
   ],
   "source": [
    "fig, axes = plt.subplots(1, 2)\n",
    "lift_chart('categories', 'crash', risk_df, \n",
    "           ax=axes[1])\n",
    "density(risk_df, 'risk_score', ax=axes[0])"
   ]
  },
  {
   "cell_type": "code",
   "execution_count": 53,
   "metadata": {
    "collapsed": true
   },
   "outputs": [],
   "source": [
    "# output predictions\n",
    "# predict on all segments\n",
    "data_model['risk_score'] = test.rundict['RF_base']['m_fit'].predict_proba(data_model[features])[:,1]\n",
    "data_model.to_csv('seg_with_risk_score_adj.csv', index=False)"
   ]
  },
  {
   "cell_type": "markdown",
   "metadata": {},
   "source": [
    "### Check sensitivity to week\n",
    "I predicted an arbitrary week as target here, but I'd like to see whether things change significantly if I change that week.  A good metric to measure that is brier score loss.  It'll be low throughout as the classifier doesn't perform great, but it shouldn't vary a huge amount."
   ]
  },
  {
   "cell_type": "code",
   "execution_count": 54,
   "metadata": {},
   "outputs": [
    {
     "name": "stdout",
     "output_type": "stream",
     "text": [
      "week  20\n",
      "Train obs: 931\n",
      "Test obs: 380\n",
      "Fitting RF_base model with 13 features\n",
      "f1_score:  0.0\n",
      "brier_score:  0.037701182775\n",
      "AUC score:  0.497267759563\n",
      "Confusion Matrix:  [[364   2]\n",
      " [ 14   0]]\n",
      "\n",
      "\n",
      "week  30\n",
      "Train obs: 896\n",
      "Test obs: 415\n",
      "Fitting RF_base model with 13 features\n"
     ]
    },
    {
     "name": "stderr",
     "output_type": "stream",
     "text": [
      "C:\\Users\\Alice\\Anaconda2\\envs\\boston-crash-model\\lib\\site-packages\\sklearn\\metrics\\classification.py:1113: UndefinedMetricWarning: F-score is ill-defined and being set to 0.0 due to no predicted samples.\n",
      "  'precision', 'predicted', average, warn_for)\n"
     ]
    },
    {
     "name": "stdout",
     "output_type": "stream",
     "text": [
      "f1_score:  0.0\n",
      "brier_score:  0.046533491401\n",
      "AUC score:  0.5\n",
      "Confusion Matrix:  [[396   0]\n",
      " [ 19   0]]\n",
      "\n",
      "\n",
      "week  40\n",
      "Train obs: 941\n",
      "Test obs: 370\n",
      "Fitting RF_base model with 13 features\n",
      "f1_score:  0.0\n",
      "brier_score:  0.0615806052203\n",
      "AUC score:  0.489971346705\n",
      "Confusion Matrix:  [[342   7]\n",
      " [ 21   0]]\n",
      "\n",
      "\n",
      "week  50\n",
      "Train obs: 896\n",
      "Test obs: 415\n",
      "Fitting RF_base model with 13 features\n",
      "f1_score:  0.0\n",
      "brier_score:  0.0348137545298\n",
      "AUC score:  0.4975\n",
      "Confusion Matrix:  [[398   2]\n",
      " [ 15   0]]\n",
      "\n",
      "\n"
     ]
    }
   ],
   "source": [
    "for w in [20, 30, 40, 50]:\n",
    "    print \"week \", w\n",
    "    crash_lags = format_crash_data(data_nonzero.set_index(['segment_id','week']), 'crash', w)\n",
    "    data_model = crash_lags.merge(data_segs, left_on='segment_id', right_on='segment_id')\n",
    "    adj_lags = get_adj_crash_lags(w)\n",
    "    data_model = data_model.merge(adj_lags, left_on='segment_id', right_index=True, suffixes=('', '_adj'))\n",
    "    df = Indata(data_model, 'target')\n",
    "    # create train/test split\n",
    "    df.tr_te_split(.7)\n",
    "    test = Tester(df)\n",
    "    test.init_tuned(tune)\n",
    "    test.run_tuned('RF_base', cal=False)\n",
    "    print '\\n'"
   ]
  },
  {
   "cell_type": "code",
   "execution_count": null,
   "metadata": {
    "collapsed": true
   },
   "outputs": [],
   "source": []
  }
 ],
 "metadata": {
  "kernelspec": {
   "display_name": "Python 2",
   "language": "python",
   "name": "python2"
  },
  "language_info": {
   "codemirror_mode": {
    "name": "ipython",
    "version": 2
   },
   "file_extension": ".py",
   "mimetype": "text/x-python",
   "name": "python",
   "nbconvert_exporter": "python",
   "pygments_lexer": "ipython2",
   "version": "2.7.13"
  }
 },
 "nbformat": 4,
 "nbformat_minor": 1
}
