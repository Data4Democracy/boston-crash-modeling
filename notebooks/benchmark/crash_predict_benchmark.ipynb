{
 "cells": [
  {
   "cell_type": "markdown",
   "metadata": {},
   "source": [
    "## Benchmark Model for crash prediction\n",
    "### Developed by: bpben\n",
    "#### Details steps of data processing, feature engineering and model tuning/testing for crash and road data"
   ]
  },
  {
   "cell_type": "code",
   "execution_count": 1,
   "metadata": {
    "collapsed": true
   },
   "outputs": [],
   "source": [
    "import re\n",
    "import csv\n",
    "import numpy as np\n",
    "import pandas as pd\n",
    "import matplotlib.pyplot as plt\n",
    "%matplotlib inline\n",
    "import seaborn as sns\n",
    "import scipy.stats as ss\n",
    "from glob import glob\n",
    "from sklearn.metrics import classification_report\n",
    "from sklearn.preprocessing import StandardScaler\n",
    "from scipy.stats import describe"
   ]
  },
  {
   "cell_type": "markdown",
   "metadata": {},
   "source": [
    "Helpers for tuning/testing models, available [here](https://github.com/bpben/model_helpers) as well"
   ]
  },
  {
   "cell_type": "code",
   "execution_count": 2,
   "metadata": {
    "collapsed": true
   },
   "outputs": [],
   "source": [
    "import sklearn.ensemble as ske\n",
    "import sklearn.linear_model as skl\n",
    "from sklearn import metrics\n",
    "from sklearn import metrics\n",
    "from sklearn.model_selection import RandomizedSearchCV\n",
    "from sklearn.calibration import CalibratedClassifierCV\n",
    "from sklearn import model_selection as cv\n",
    "\n",
    "class Indata():\n",
    "    scoring = None\n",
    "    data = None\n",
    "    train_x, train_y, test_x, test_y = None, None, None, None\n",
    "    is_split = 0\n",
    "    \n",
    "    #init with pandas DF and target column name, specify scoring observations\n",
    "    def __init__(self, data, target, scoring=None):\n",
    "        #If scoring observations, store under scoring attribute\n",
    "        if scoring is not None:\n",
    "            self.data = data[~(scoring)]\n",
    "            self.scoring = data[scoring]\n",
    "        else:\n",
    "            self.data = data\n",
    "        self.target = target\n",
    "    \n",
    "    # Split into train/test\n",
    "    # pct = percent training observations\n",
    "    # datesort = specify date column for sorting values\n",
    "    #   If this is not None, split will be non-random (i.e. split on sorted obs)\n",
    "    def tr_te_split(self, pct, datesort=None):\n",
    "        if datesort:\n",
    "            self.data.sort_values(datesort, inplace=True)\n",
    "            self.data.reset_index(drop=True, inplace=True)\n",
    "            inds = np.arange(0.0,len(self.data)) / len(self.data) < pct\n",
    "        else:\n",
    "            inds = np.random.rand(len(self.data)) < pct\n",
    "        self.train_x = self.data[inds]\n",
    "        print 'Train obs:', len(self.train_x)\n",
    "        self.train_y = self.data[self.target][inds]\n",
    "        self.test_x = self.data[~inds]\n",
    "        print 'Test obs:', len(self.test_x)\n",
    "        self.test_y = self.data[self.target][~inds]\n",
    "        self.is_split = 1\n",
    "        \n",
    "class Tuner():\n",
    "    \"\"\"\n",
    "    Initiates with indata class, will tune series of models according to parameters.  \n",
    "    Outputs RandomizedGridCV results and parameterized model in dictionary\n",
    "    \"\"\"\n",
    "    \n",
    "    data = None\n",
    "    train_x, train_y = None, None\n",
    "    \n",
    "    def __init__(self, indata, best_models=None, grid_results=None):\n",
    "        if indata.is_split == 0:\n",
    "            raise ValueError('Data is not split, cannot be tested')\n",
    "        else:\n",
    "            self.data = indata.data\n",
    "            self.train_x = indata.train_x\n",
    "            self.train_y = indata.train_y\n",
    "            if best_models is None:\n",
    "                self.best_models = {}\n",
    "            if grid_results is None:\n",
    "                self.grid_results = pd.DataFrame()\n",
    "        \n",
    "            \n",
    "    def make_grid(self, model, obs, cvparams, mparams):\n",
    "        #Makes CV grid\n",
    "        grid = RandomizedSearchCV(\n",
    "                    model(),scoring=cvparams['pmetric'], \n",
    "                    cv = cv.KFold(cvparams['folds']), \n",
    "                    refit=False, n_iter=cvparams['iter'],\n",
    "                    param_distributions=mparams, verbose=1)\n",
    "        return(grid)\n",
    "    \n",
    "    def run_grid(self, grid, train_x, train_y):\n",
    "        grid.fit(train_x, train_y)\n",
    "        results = pd.DataFrame(grid.cv_results_)[['mean_test_score','mean_train_score','params']]\n",
    "        best = {}\n",
    "        best['bp'] = grid.best_params_\n",
    "        best[grid.scoring] = grid.best_score_\n",
    "        return(best, results)\n",
    "            \n",
    "    def tune(self, name, m_name, features, cvparams, mparams):\n",
    "        if hasattr(ske, m_name):\n",
    "            model = getattr(ske, m_name)\n",
    "        elif hasattr(skl, m_name):\n",
    "            model = getattr(skl, m_name)\n",
    "        else:\n",
    "            raise ValueError('Model name is invalid.')\n",
    "        grid = self.make_grid(model, len(self.train_x), cvparams, mparams)\n",
    "        best, results = self.run_grid(grid, self.train_x[features], self.train_y)\n",
    "        results['name'] = name\n",
    "        results['m_name'] = m_name\n",
    "        self.grid_results = self.grid_results.append(results)\n",
    "        best['model'] = model(**best['bp'])\n",
    "        best['features'] = list(features)\n",
    "        self.best_models.update({name: best}) \n",
    "        \n",
    "class Tester():\n",
    "    \"\"\"\n",
    "    Initiates with indata class, receives parameterized sklearn models, prints and stores results\n",
    "    \"\"\"\n",
    "    \n",
    "    def __init__(self, data, rundict=None):\n",
    "        if data.is_split == 0 :\n",
    "            raise ValueError('Data is not split, cannot be tested')\n",
    "        else:\n",
    "            self.data = data\n",
    "            if rundict is None:\n",
    "                self.rundict = {}\n",
    "            \n",
    "    #Add tuner object, will populate rundict with names, models, feature\n",
    "    def init_tuned(self, tuned):\n",
    "        if tuned.best_models=={}:\n",
    "            raise ValueError('No tuned models found')\n",
    "        else:\n",
    "            self.rundict.update(tuned.best_models)\n",
    "    \n",
    "    #Produce predicted class and probabilities\n",
    "    def predsprobs(self, model, test_x):\n",
    "        preds = model.predict(test_x)\n",
    "        probs = model.predict_proba(test_x)[:,1]\n",
    "        return(preds, probs)\n",
    "    \n",
    "    #Produce metrics\n",
    "    def get_metrics(self, preds, probs, test_y):\n",
    "        f1_s = metrics.f1_score(test_y, preds)\n",
    "        brier = metrics.brier_score_loss(test_y, probs)\n",
    "        auc = metrics.roc_auc_score(test_y, preds)\n",
    "        c_matrix = metrics.confusion_matrix(test_y, preds)\n",
    "        return(f1_s, brier, auc, c_matrix)\n",
    "    \n",
    "    #Run production, output dictionary\n",
    "    def make_result(self, model, test_x, test_y):\n",
    "        preds, probs = self.predsprobs(model, test_x)\n",
    "        f1_s, brier, auc, c_matrix = self.get_metrics(preds, probs, test_y)\n",
    "        print \"f1_score: \", f1_s\n",
    "        print \"brier_score: \", brier\n",
    "        print \"AUC score: \", auc\n",
    "        print \"Confusion Matrix: \", c_matrix\n",
    "        result = {}\n",
    "        #result['preds'] = [int(i) for i in preds]\n",
    "        #result['probs'] = [float(i) for i in probs]\n",
    "        result['f1_s'] = f1_s\n",
    "        result['brier'] = brier\n",
    "        result['auc'] = auc\n",
    "        result['c_matrix'] = c_matrix\n",
    "        return(result)\n",
    "\n",
    "    # Run model - Specify model, with parameters, features\n",
    "    # Stores it to rundict, can later be output\n",
    "    # Will overwrite previous run if name is not different\n",
    "    def run_model(self, name, model, features, cal=True, cal_m='sigmoid'):\n",
    "        results = {}\n",
    "        results['features'] = list(features)\n",
    "        print \"Fitting {} model with {} features\".format(name, len(features))\n",
    "        if cal:\n",
    "            # Need disjoint calibration/training datasets\n",
    "            # Split 50/50\n",
    "            rnd_ind = np.random.rand(len(self.data.train_x)) < .5\n",
    "            train_x = self.data.train_x[features][rnd_ind]\n",
    "            train_y = self.data.train_y[rnd_ind]\n",
    "            cal_x = self.data.train_x[features][~rnd_ind]\n",
    "            cal_y = self.data.train_y[~rnd_ind]\n",
    "        else:\n",
    "            train_x = self.data.train_x[features]\n",
    "            train_y = self.data.train_y\n",
    "\n",
    "        m_fit = model.fit(train_x, train_y)\n",
    "        result = self.make_result(\n",
    "            m_fit,\n",
    "            self.data.test_x[features],\n",
    "            self.data.test_y)\n",
    "\n",
    "        results['raw'] = result\n",
    "        results['m_fit'] = m_fit\n",
    "        if cal:\n",
    "            print \"calibrated:\"\n",
    "            m_c = CalibratedClassifierCV(m_fit, method = cal_m, cv='prefit')\n",
    "            m_fit_c = m_c.fit(cal_x, cal_y)\n",
    "            result_c = self.make_result(m_fit_c, self.data.test_x[features], self.data.test_y)\n",
    "            results['calibrated'] = result_c              \n",
    "            print \"\\n\"\n",
    "        if name in self.rundict:\n",
    "            self.rundict[name].update(results)\n",
    "        else:\n",
    "            self.rundict.update({name:results})\n",
    "    \n",
    "    #Run from tuned set\n",
    "    def run_tuned(self, name, cal=True, cal_m='sigmoid'):\n",
    "        self.run_model(name, self.rundict[name]['model'], self.rundict[name]['features'], cal, cal_m)\n",
    "    \n",
    "    #Output rundict to csv\n",
    "    def to_csv(self):\n",
    "        if self.rundict == {}:\n",
    "            raise ValueError('No results found')\n",
    "        else:\n",
    "            now = pd.to_datetime('today').value\n",
    "            #Make dataframe, transpose so each row = model\n",
    "            pd.DataFrame(self.rundict).T.to_csv('results_{}.csv'.format(now))"
   ]
  },
  {
   "cell_type": "markdown",
   "metadata": {},
   "source": [
    "### Data processing\n",
    "The approach here is to create 3 time-lag features:\n",
    "\n",
    "1. crashes in the past week\n",
    "2. crashes in the past month\n",
    "3. crashes in the past quarter (three months)\n",
    "4. average crashes per week up to target week\n",
    "\n",
    "All features except 4 are calculated to exclude one another.  That is, crashes in the past month does not include the past week's crashes.  Crashes in the past quarter do not include the past month."
   ]
  },
  {
   "cell_type": "code",
   "execution_count": 3,
   "metadata": {
    "collapsed": true
   },
   "outputs": [],
   "source": [
    "SEG_CHARS = ['AADT', 'SPEEDLIMIT', 'Struct_Cnd', 'Surface_Tp', 'F_F_Class']"
   ]
  },
  {
   "cell_type": "code",
   "execution_count": 4,
   "metadata": {
    "collapsed": true
   },
   "outputs": [],
   "source": [
    "# Read in data\n",
    "data = pd.read_csv('../../data/processed/vz_predict_dataset.csv.gz', compression='gzip', dtype={'segment_id':'str'})\n",
    "data.sort_values(['segment_id', 'week'], inplace=True)"
   ]
  },
  {
   "cell_type": "code",
   "execution_count": 5,
   "metadata": {
    "collapsed": true
   },
   "outputs": [],
   "source": [
    "# get segments with non-zero crashes\n",
    "data_nonzero = data.set_index('segment_id').loc[data.groupby('segment_id').crash.sum()>0]\n",
    "data_nonzero.reset_index(inplace=True)"
   ]
  },
  {
   "cell_type": "code",
   "execution_count": 8,
   "metadata": {
    "collapsed": true
   },
   "outputs": [],
   "source": [
    "def format_crash_data(data, col, target):\n",
    "    \"\"\" formats crash data for train/test \n",
    "    target: week to predict (make into binary target)\n",
    "        must be >4 months in\n",
    "    gets previous week count, previous month count, previous quarter count, avg per week\n",
    "    \n",
    "    \"\"\"\n",
    "    assert target>16\n",
    "    pre_week = target - 1\n",
    "    pre_month = range(pre_week-4, target)\n",
    "    pre_quarter = range(pre_month[0]-12, target)\n",
    "    all_prior_weeks = range(1, target)\n",
    "    \n",
    "    # week interval for each segment\n",
    "    # full range = pre_quarter : target\n",
    "    sliced = data.loc[(slice(None),slice(1, target)),:]\n",
    "    week_data = sliced[col].unstack(1)\n",
    "    week_data.reset_index(inplace=True)\n",
    "    \n",
    "    # aggregate\n",
    "    week_data['pre_month'] = week_data[pre_month].sum(axis=1)\n",
    "    week_data['pre_quarter'] = week_data[pre_quarter].sum(axis=1)\n",
    "    week_data['pre_week'] = week_data[pre_week]\n",
    "    # avg as of target week\n",
    "    week_data['avg_week'] = week_data[all_prior_weeks].apply(\n",
    "        lambda x: x.sum() / len(all_prior_weeks), axis=1\n",
    "    )\n",
    "    \n",
    "    # binarize target\n",
    "    week_data['target'] = (week_data[target]>0).astype(int)\n",
    "    \n",
    "    return(week_data[['segment_id','target', 'pre_week', \n",
    "                      'pre_month', 'pre_quarter', 'avg_week']])"
   ]
  },
  {
   "cell_type": "code",
<<<<<<< Updated upstream
   "execution_count": 7,
   "metadata": {
    "collapsed": true
   },
=======
   "execution_count": 9,
   "metadata": {},
>>>>>>> Stashed changes
   "outputs": [],
   "source": [
    "# arbitrarily choosing week = 50\n",
    "crash_lags = format_crash_data(data_nonzero.set_index(['segment_id','week']), 'crash', 50)"
   ]
  },
  {
   "cell_type": "code",
<<<<<<< Updated upstream
   "execution_count": 8,
=======
   "execution_count": 10,
>>>>>>> Stashed changes
   "metadata": {
    "collapsed": true
   },
   "outputs": [],
   "source": [
    "data_segs = data_nonzero.groupby('segment_id')[SEG_CHARS].max()  # grab the highest values from each column for a segment, not used in model?\n",
    "data_segs.reset_index(inplace=True)"
   ]
  },
  {
   "cell_type": "code",
<<<<<<< Updated upstream
   "execution_count": 29,
=======
   "execution_count": 11,
>>>>>>> Stashed changes
   "metadata": {
    "collapsed": true
   },
   "outputs": [],
   "source": [
    "data_model = crash_lags.merge(data_segs, left_on='segment_id', right_on='segment_id')"
   ]
  },
  {
   "cell_type": "code",
   "execution_count": 10,
   "metadata": {},
   "outputs": [],
   "source": [
    "# Add in adjacency info\n",
    "adj_info = pd.read_csv('../../data/processed/adjacency_info.csv', usecols=['segment_id', 'orig_id'],\n",
    "                       dtype={'segment_id':'str', 'orig_id':'str'})\n",
    "\n",
    "# link adjacent segments for segments with crashes\n",
    "adj_info = adj_info[adj_info.segment_id.isin(data_model.segment_id)]\n",
    "adj_mat = adj_info.merge(adj_info, on='orig_id')\n",
    "adj_mat = adj_mat[['segment_id_x', 'segment_id_y']]\n",
    "adj_mat.drop_duplicates(inplace=True)\n",
    "adj_mat = adj_mat[adj_mat.segment_id_x != adj_mat.segment_id_y]\n",
    "\n",
    "def get_adj_crash_lags(target_week):\n",
    "    \"\"\"calculate total number of crashes that occurred \n",
    "    in adjacent segments for target week and lags as defined in format_crash_data\n",
    "    \"\"\" \n",
    "    lag_data = format_crash_data(data_nonzero.set_index(['segment_id','week']), 'crash', target_week)\n",
    "    merge_lags = adj_mat.merge(lag_data, left_on='segment_id_y', right_on='segment_id')\n",
    "    adj_lags = merge_lags.groupby(['segment_id_x'])['target', 'pre_week', 'pre_month', 'pre_quarter'].sum()\n",
    "    return adj_lags\n",
    "\n",
    "adj_lags = get_adj_crash_lags(50)"
   ]
  },
  {
   "cell_type": "code",
   "execution_count": 30,
   "metadata": {},
   "outputs": [
    {
     "data": {
      "text/html": [
       "<div>\n",
       "<table border=\"1\" class=\"dataframe\">\n",
       "  <thead>\n",
       "    <tr style=\"text-align: right;\">\n",
       "      <th></th>\n",
       "      <th>segment_id</th>\n",
       "      <th>target</th>\n",
       "      <th>pre_week</th>\n",
       "      <th>pre_month</th>\n",
       "      <th>pre_quarter</th>\n",
       "      <th>avg_week</th>\n",
       "      <th>AADT</th>\n",
       "      <th>SPEEDLIMIT</th>\n",
       "      <th>Struct_Cnd</th>\n",
       "      <th>Surface_Tp</th>\n",
       "      <th>F_F_Class</th>\n",
       "      <th>target_adj</th>\n",
       "      <th>pre_week_adj</th>\n",
       "      <th>pre_month_adj</th>\n",
       "      <th>pre_quarter_adj</th>\n",
       "    </tr>\n",
       "  </thead>\n",
       "  <tbody>\n",
       "    <tr>\n",
       "      <th>0</th>\n",
       "      <td>0010</td>\n",
       "      <td>0</td>\n",
       "      <td>0.0</td>\n",
       "      <td>0.0</td>\n",
       "      <td>0.0</td>\n",
       "      <td>0.020408</td>\n",
       "      <td>0</td>\n",
       "      <td>20</td>\n",
       "      <td>2</td>\n",
       "      <td>6</td>\n",
       "      <td>7</td>\n",
       "      <td>0.0</td>\n",
       "      <td>0.0</td>\n",
       "      <td>0.0</td>\n",
       "      <td>0.0</td>\n",
       "    </tr>\n",
       "    <tr>\n",
       "      <th>1</th>\n",
       "      <td>0010004</td>\n",
       "      <td>0</td>\n",
       "      <td>0.0</td>\n",
       "      <td>0.0</td>\n",
       "      <td>0.0</td>\n",
       "      <td>0.020408</td>\n",
       "      <td>0</td>\n",
       "      <td>20</td>\n",
       "      <td>1</td>\n",
       "      <td>6</td>\n",
       "      <td>7</td>\n",
       "      <td>0.0</td>\n",
       "      <td>0.0</td>\n",
       "      <td>0.0</td>\n",
       "      <td>0.0</td>\n",
       "    </tr>\n",
       "    <tr>\n",
       "      <th>2</th>\n",
       "      <td>0010194</td>\n",
       "      <td>0</td>\n",
       "      <td>1.0</td>\n",
       "      <td>1.0</td>\n",
       "      <td>1.0</td>\n",
       "      <td>0.020408</td>\n",
       "      <td>9909</td>\n",
       "      <td>30</td>\n",
       "      <td>2</td>\n",
       "      <td>6</td>\n",
       "      <td>4</td>\n",
       "      <td>0.0</td>\n",
       "      <td>0.0</td>\n",
       "      <td>1.0</td>\n",
       "      <td>3.0</td>\n",
       "    </tr>\n",
       "    <tr>\n",
       "      <th>3</th>\n",
       "      <td>0010205</td>\n",
       "      <td>0</td>\n",
       "      <td>0.0</td>\n",
       "      <td>0.0</td>\n",
       "      <td>1.0</td>\n",
       "      <td>0.020408</td>\n",
       "      <td>9850</td>\n",
       "      <td>25</td>\n",
       "      <td>2</td>\n",
       "      <td>6</td>\n",
       "      <td>4</td>\n",
       "      <td>0.0</td>\n",
       "      <td>0.0</td>\n",
       "      <td>0.0</td>\n",
       "      <td>2.0</td>\n",
       "    </tr>\n",
       "    <tr>\n",
       "      <th>4</th>\n",
       "      <td>0010225</td>\n",
       "      <td>0</td>\n",
       "      <td>0.0</td>\n",
       "      <td>0.0</td>\n",
       "      <td>1.0</td>\n",
       "      <td>0.061224</td>\n",
       "      <td>197004</td>\n",
       "      <td>65</td>\n",
       "      <td>2</td>\n",
       "      <td>6</td>\n",
       "      <td>1</td>\n",
       "      <td>0.0</td>\n",
       "      <td>0.0</td>\n",
       "      <td>0.0</td>\n",
       "      <td>3.0</td>\n",
       "    </tr>\n",
       "  </tbody>\n",
       "</table>\n",
       "</div>"
      ],
      "text/plain": [
       "  segment_id  target  pre_week  pre_month  pre_quarter  avg_week    AADT  \\\n",
       "0       0010       0       0.0        0.0          0.0  0.020408       0   \n",
       "1    0010004       0       0.0        0.0          0.0  0.020408       0   \n",
       "2    0010194       0       1.0        1.0          1.0  0.020408    9909   \n",
       "3    0010205       0       0.0        0.0          1.0  0.020408    9850   \n",
       "4    0010225       0       0.0        0.0          1.0  0.061224  197004   \n",
       "\n",
       "   SPEEDLIMIT  Struct_Cnd  Surface_Tp  F_F_Class  target_adj  pre_week_adj  \\\n",
       "0          20           2           6          7         0.0           0.0   \n",
       "1          20           1           6          7         0.0           0.0   \n",
       "2          30           2           6          4         0.0           0.0   \n",
       "3          25           2           6          4         0.0           0.0   \n",
       "4          65           2           6          1         0.0           0.0   \n",
       "\n",
       "   pre_month_adj  pre_quarter_adj  \n",
       "0            0.0              0.0  \n",
       "1            0.0              0.0  \n",
       "2            1.0              3.0  \n",
       "3            0.0              2.0  \n",
       "4            0.0              3.0  "
      ]
     },
     "execution_count": 30,
     "metadata": {},
     "output_type": "execute_result"
    }
   ],
   "source": [
    "data_model = data_model.merge(adj_lags, how='left', left_on='segment_id', right_index=True, suffixes=('', '_adj'))\n",
    "data_model.fillna(0, inplace=True)\n",
    "\n",
    "data_model.head()"
   ]
  },
  {
   "cell_type": "markdown",
   "metadata": {},
   "source": [
    "### Model tuning\n",
    "This uses the model helpers above.  They're based on sklearn and implement a randomized grid search with K-fold crossvalidation."
   ]
  },
  {
   "cell_type": "code",
<<<<<<< Updated upstream
   "execution_count": 31,
=======
   "execution_count": 12,
>>>>>>> Stashed changes
   "metadata": {},
   "outputs": [
    {
     "name": "stdout",
     "output_type": "stream",
     "text": [
<<<<<<< Updated upstream
      "Train obs: 1411\n",
      "Test obs: 567\n"
=======
      "Train obs: 1355\n",
      "Test obs: 623\n"
>>>>>>> Stashed changes
     ]
    }
   ],
   "source": [
    "#Initialize data\n",
    "#Fill missing 0 (Only affects tot_crash)\n",
    "df = Indata(data_model, 'target')\n",
    "#Create train/test split\n",
    "df.tr_te_split(.7)"
   ]
  },
  {
   "cell_type": "code",
<<<<<<< Updated upstream
   "execution_count": 32,
=======
   "execution_count": 13,
>>>>>>> Stashed changes
   "metadata": {
    "collapsed": true
   },
   "outputs": [],
   "source": [
    "#Parameters for model\n",
    "#Model parameters\n",
    "params = dict()\n",
    "\n",
    "#cv parameters\n",
    "cvp = dict()\n",
    "cvp['pmetric'] = 'roc_auc'\n",
    "cvp['iter'] = 5 #number of iterations\n",
    "cvp['folds'] = 5 #folds for cv (default)\n",
    "\n",
    "#LR parameters\n",
    "mp = dict()\n",
    "mp['LogisticRegression'] = dict()\n",
    "mp['LogisticRegression']['penalty'] = ['l1','l2']\n",
    "mp['LogisticRegression']['C'] = ss.beta(a=5,b=2) #beta distribution for selecting reg strength\n",
    "\n",
    "#RF model parameters\n",
    "mp['RandomForestClassifier'] = dict()\n",
    "mp['RandomForestClassifier']['n_estimators'] = [2**8] #number of trees in the forest\n",
    "mp['RandomForestClassifier']['max_features'] = ss.beta(a=5,b=2) #number of features at split\n",
    "mp['RandomForestClassifier']['max_leaf_nodes'] = ss.nbinom(n=2,p=0.001,loc=100) #max number of leaves to create"
   ]
  },
  {
   "cell_type": "code",
<<<<<<< Updated upstream
   "execution_count": 33,
=======
   "execution_count": 14,
>>>>>>> Stashed changes
   "metadata": {
    "collapsed": true
   },
   "outputs": [],
   "source": [
    "# Features\n",
    "features = [u'pre_week', u'pre_month', u'pre_quarter', 'avg_week', u'AADT', u'SPEEDLIMIT',\n",
    "            u'Struct_Cnd', u'Surface_Tp', u'F_F_Class', u'target_adj', u'pre_week_adj', \n",
    "            u'pre_month_adj', u'pre_quarter_adj']"
   ]
  },
  {
   "cell_type": "code",
<<<<<<< Updated upstream
   "execution_count": 34,
=======
   "execution_count": 15,
>>>>>>> Stashed changes
   "metadata": {
    "collapsed": true
   },
   "outputs": [],
   "source": [
    "#Initialize tuner\n",
    "tune = Tuner(df)"
   ]
  },
  {
   "cell_type": "code",
<<<<<<< Updated upstream
   "execution_count": 35,
=======
   "execution_count": 16,
>>>>>>> Stashed changes
   "metadata": {},
   "outputs": [
    {
     "name": "stdout",
     "output_type": "stream",
     "text": [
      "Fitting 5 folds for each of 5 candidates, totalling 25 fits\n"
     ]
    },
    {
     "name": "stderr",
     "output_type": "stream",
     "text": [
<<<<<<< Updated upstream
      "[Parallel(n_jobs=1)]: Done  25 out of  25 | elapsed:   23.2s finished\n"
=======
      "[Parallel(n_jobs=1)]: Done  25 out of  25 | elapsed:  1.3min finished\n"
>>>>>>> Stashed changes
     ]
    }
   ],
   "source": [
    "#Base RF model\n",
    "tune.tune('RF_base', 'RandomForestClassifier', features, cvp, mp['RandomForestClassifier'])"
   ]
  },
  {
   "cell_type": "code",
<<<<<<< Updated upstream
   "execution_count": 36,
=======
   "execution_count": 17,
>>>>>>> Stashed changes
   "metadata": {},
   "outputs": [
    {
     "name": "stdout",
     "output_type": "stream",
     "text": [
      "Fitting 5 folds for each of 5 candidates, totalling 25 fits\n"
     ]
    },
    {
     "name": "stderr",
     "output_type": "stream",
     "text": [
<<<<<<< Updated upstream
      "[Parallel(n_jobs=1)]: Done  25 out of  25 | elapsed:    0.4s finished\n"
=======
      "[Parallel(n_jobs=1)]: Done  25 out of  25 | elapsed:    1.1s finished\n"
>>>>>>> Stashed changes
     ]
    }
   ],
   "source": [
    "#Base LR model\n",
    "tune.tune('LR_base', 'LogisticRegression', features, cvp, mp['LogisticRegression'])"
   ]
  },
  {
   "cell_type": "code",
<<<<<<< Updated upstream
   "execution_count": 37,
=======
   "execution_count": 18,
>>>>>>> Stashed changes
   "metadata": {},
   "outputs": [
    {
     "data": {
      "text/html": [
       "<div>\n",
       "<style>\n",
       "    .dataframe thead tr:only-child th {\n",
       "        text-align: right;\n",
       "    }\n",
       "\n",
       "    .dataframe thead th {\n",
       "        text-align: left;\n",
       "    }\n",
       "\n",
       "    .dataframe tbody tr th {\n",
       "        vertical-align: top;\n",
       "    }\n",
       "</style>\n",
       "<table border=\"1\" class=\"dataframe\">\n",
       "  <thead>\n",
       "    <tr style=\"text-align: right;\">\n",
       "      <th></th>\n",
       "      <th>mean_test_score</th>\n",
       "      <th>mean_train_score</th>\n",
       "      <th>params</th>\n",
       "      <th>name</th>\n",
       "      <th>m_name</th>\n",
       "    </tr>\n",
       "  </thead>\n",
       "  <tbody>\n",
       "    <tr>\n",
       "      <th>0</th>\n",
<<<<<<< Updated upstream
       "      <td>0.705434</td>\n",
       "      <td>0.996935</td>\n",
       "      <td>{u'max_features': 0.34076466503, u'max_leaf_no...</td>\n",
=======
       "      <td>0.747628</td>\n",
       "      <td>0.996364</td>\n",
       "      <td>{u'max_features': 0.681652263136, u'max_leaf_n...</td>\n",
>>>>>>> Stashed changes
       "      <td>RF_base</td>\n",
       "      <td>RandomForestClassifier</td>\n",
       "    </tr>\n",
       "    <tr>\n",
       "      <th>1</th>\n",
<<<<<<< Updated upstream
       "      <td>0.683586</td>\n",
       "      <td>0.996809</td>\n",
       "      <td>{u'max_features': 0.857753069408, u'max_leaf_n...</td>\n",
=======
       "      <td>0.758636</td>\n",
       "      <td>0.996358</td>\n",
       "      <td>{u'max_features': 0.847753525595, u'max_leaf_n...</td>\n",
>>>>>>> Stashed changes
       "      <td>RF_base</td>\n",
       "      <td>RandomForestClassifier</td>\n",
       "    </tr>\n",
       "    <tr>\n",
       "      <th>2</th>\n",
<<<<<<< Updated upstream
       "      <td>0.662738</td>\n",
       "      <td>0.996730</td>\n",
       "      <td>{u'max_features': 0.962497415305, u'max_leaf_n...</td>\n",
=======
       "      <td>0.753581</td>\n",
       "      <td>0.996525</td>\n",
       "      <td>{u'max_features': 0.949520147018, u'max_leaf_n...</td>\n",
>>>>>>> Stashed changes
       "      <td>RF_base</td>\n",
       "      <td>RandomForestClassifier</td>\n",
       "    </tr>\n",
       "    <tr>\n",
       "      <th>3</th>\n",
<<<<<<< Updated upstream
       "      <td>0.680503</td>\n",
       "      <td>0.996865</td>\n",
       "      <td>{u'max_features': 0.553801651127, u'max_leaf_n...</td>\n",
=======
       "      <td>0.763053</td>\n",
       "      <td>0.996190</td>\n",
       "      <td>{u'max_features': 0.531108935087, u'max_leaf_n...</td>\n",
>>>>>>> Stashed changes
       "      <td>RF_base</td>\n",
       "      <td>RandomForestClassifier</td>\n",
       "    </tr>\n",
       "    <tr>\n",
       "      <th>4</th>\n",
<<<<<<< Updated upstream
       "      <td>0.679159</td>\n",
       "      <td>0.996846</td>\n",
       "      <td>{u'max_features': 0.680493972907, u'max_leaf_n...</td>\n",
=======
       "      <td>0.777053</td>\n",
       "      <td>0.996405</td>\n",
       "      <td>{u'max_features': 0.520967226752, u'max_leaf_n...</td>\n",
>>>>>>> Stashed changes
       "      <td>RF_base</td>\n",
       "      <td>RandomForestClassifier</td>\n",
       "    </tr>\n",
       "    <tr>\n",
       "      <th>0</th>\n",
<<<<<<< Updated upstream
       "      <td>0.578807</td>\n",
       "      <td>0.635537</td>\n",
       "      <td>{u'penalty': u'l1', u'C': 0.317694410407}</td>\n",
=======
       "      <td>0.485473</td>\n",
       "      <td>0.541731</td>\n",
       "      <td>{u'penalty': u'l2', u'C': 0.914584860659}</td>\n",
>>>>>>> Stashed changes
       "      <td>LR_base</td>\n",
       "      <td>LogisticRegression</td>\n",
       "    </tr>\n",
       "    <tr>\n",
       "      <th>1</th>\n",
<<<<<<< Updated upstream
       "      <td>0.522260</td>\n",
       "      <td>0.584901</td>\n",
       "      <td>{u'penalty': u'l2', u'C': 0.760971128043}</td>\n",
=======
       "      <td>0.485661</td>\n",
       "      <td>0.541867</td>\n",
       "      <td>{u'penalty': u'l2', u'C': 0.401542775164}</td>\n",
>>>>>>> Stashed changes
       "      <td>LR_base</td>\n",
       "      <td>LogisticRegression</td>\n",
       "    </tr>\n",
       "    <tr>\n",
       "      <th>2</th>\n",
<<<<<<< Updated upstream
       "      <td>0.559839</td>\n",
       "      <td>0.665661</td>\n",
       "      <td>{u'penalty': u'l1', u'C': 0.985926061769}</td>\n",
=======
       "      <td>0.476005</td>\n",
       "      <td>0.582872</td>\n",
       "      <td>{u'penalty': u'l1', u'C': 0.610952000542}</td>\n",
>>>>>>> Stashed changes
       "      <td>LR_base</td>\n",
       "      <td>LogisticRegression</td>\n",
       "    </tr>\n",
       "    <tr>\n",
       "      <th>3</th>\n",
<<<<<<< Updated upstream
       "      <td>0.522473</td>\n",
       "      <td>0.588521</td>\n",
       "      <td>{u'penalty': u'l2', u'C': 0.926339325753}</td>\n",
=======
       "      <td>0.467803</td>\n",
       "      <td>0.573835</td>\n",
       "      <td>{u'penalty': u'l1', u'C': 0.517406382986}</td>\n",
>>>>>>> Stashed changes
       "      <td>LR_base</td>\n",
       "      <td>LogisticRegression</td>\n",
       "    </tr>\n",
       "    <tr>\n",
       "      <th>4</th>\n",
<<<<<<< Updated upstream
       "      <td>0.575455</td>\n",
       "      <td>0.660462</td>\n",
       "      <td>{u'penalty': u'l1', u'C': 0.612701052213}</td>\n",
=======
       "      <td>0.491902</td>\n",
       "      <td>0.596326</td>\n",
       "      <td>{u'penalty': u'l1', u'C': 0.855605713127}</td>\n",
>>>>>>> Stashed changes
       "      <td>LR_base</td>\n",
       "      <td>LogisticRegression</td>\n",
       "    </tr>\n",
       "  </tbody>\n",
       "</table>\n",
       "</div>"
      ],
      "text/plain": [
       "   mean_test_score  mean_train_score  \\\n",
<<<<<<< Updated upstream
       "0         0.705434          0.996935   \n",
       "1         0.683586          0.996809   \n",
       "2         0.662738          0.996730   \n",
       "3         0.680503          0.996865   \n",
       "4         0.679159          0.996846   \n",
       "0         0.578807          0.635537   \n",
       "1         0.522260          0.584901   \n",
       "2         0.559839          0.665661   \n",
       "3         0.522473          0.588521   \n",
       "4         0.575455          0.660462   \n",
       "\n",
       "                                              params     name  \\\n",
       "0  {u'max_features': 0.34076466503, u'max_leaf_no...  RF_base   \n",
       "1  {u'max_features': 0.857753069408, u'max_leaf_n...  RF_base   \n",
       "2  {u'max_features': 0.962497415305, u'max_leaf_n...  RF_base   \n",
       "3  {u'max_features': 0.553801651127, u'max_leaf_n...  RF_base   \n",
       "4  {u'max_features': 0.680493972907, u'max_leaf_n...  RF_base   \n",
       "0          {u'penalty': u'l1', u'C': 0.317694410407}  LR_base   \n",
       "1          {u'penalty': u'l2', u'C': 0.760971128043}  LR_base   \n",
       "2          {u'penalty': u'l1', u'C': 0.985926061769}  LR_base   \n",
       "3          {u'penalty': u'l2', u'C': 0.926339325753}  LR_base   \n",
       "4          {u'penalty': u'l1', u'C': 0.612701052213}  LR_base   \n",
=======
       "0         0.747628          0.996364   \n",
       "1         0.758636          0.996358   \n",
       "2         0.753581          0.996525   \n",
       "3         0.763053          0.996190   \n",
       "4         0.777053          0.996405   \n",
       "0         0.485473          0.541731   \n",
       "1         0.485661          0.541867   \n",
       "2         0.476005          0.582872   \n",
       "3         0.467803          0.573835   \n",
       "4         0.491902          0.596326   \n",
       "\n",
       "                                              params     name  \\\n",
       "0  {u'max_features': 0.681652263136, u'max_leaf_n...  RF_base   \n",
       "1  {u'max_features': 0.847753525595, u'max_leaf_n...  RF_base   \n",
       "2  {u'max_features': 0.949520147018, u'max_leaf_n...  RF_base   \n",
       "3  {u'max_features': 0.531108935087, u'max_leaf_n...  RF_base   \n",
       "4  {u'max_features': 0.520967226752, u'max_leaf_n...  RF_base   \n",
       "0          {u'penalty': u'l2', u'C': 0.914584860659}  LR_base   \n",
       "1          {u'penalty': u'l2', u'C': 0.401542775164}  LR_base   \n",
       "2          {u'penalty': u'l1', u'C': 0.610952000542}  LR_base   \n",
       "3          {u'penalty': u'l1', u'C': 0.517406382986}  LR_base   \n",
       "4          {u'penalty': u'l1', u'C': 0.855605713127}  LR_base   \n",
>>>>>>> Stashed changes
       "\n",
       "                   m_name  \n",
       "0  RandomForestClassifier  \n",
       "1  RandomForestClassifier  \n",
       "2  RandomForestClassifier  \n",
       "3  RandomForestClassifier  \n",
       "4  RandomForestClassifier  \n",
       "0      LogisticRegression  \n",
       "1      LogisticRegression  \n",
       "2      LogisticRegression  \n",
       "3      LogisticRegression  \n",
       "4      LogisticRegression  "
      ]
     },
<<<<<<< Updated upstream
     "execution_count": 37,
=======
     "execution_count": 18,
>>>>>>> Stashed changes
     "metadata": {},
     "output_type": "execute_result"
    }
   ],
   "source": [
    "#Display results\n",
    "tune.grid_results"
   ]
  },
  {
   "cell_type": "code",
<<<<<<< Updated upstream
   "execution_count": 38,
=======
   "execution_count": 21,
>>>>>>> Stashed changes
   "metadata": {},
   "outputs": [
    {
     "name": "stdout",
     "output_type": "stream",
     "text": [
<<<<<<< Updated upstream
      "Fitting RF_base model with 13 features\n",
      "f1_score:  0.125\n",
      "brier_score:  0.0219129416019\n",
      "AUC score:  0.534810126582\n",
      "Confusion Matrix:  [[552   1]\n",
      " [ 13   1]]\n"
=======
      "Fitting RF_base model with 9 features\n",
      "f1_score:  0.153846153846\n",
      "brier_score:  0.0314976074147\n"
>>>>>>> Stashed changes
     ]
    }
   ],
   "source": [
    "# Run test\n",
    "test = Tester(df)\n",
    "test.init_tuned(tune)\n",
    "test.run_tuned('RF_base', cal=False)"
   ]
  },
  {
   "cell_type": "code",
<<<<<<< Updated upstream
   "execution_count": 47,
   "metadata": {},
   "outputs": [
    {
     "name": "stdout",
     "output_type": "stream",
     "text": [
      "[(u'AADT', 0.24525548833380623), ('avg_week', 0.20069971992938268), (u'SPEEDLIMIT', 0.12483887082610022), (u'pre_quarter_adj', 0.091427629022860918), (u'pre_quarter', 0.074038521699655593), (u'Struct_Cnd', 0.072887516965199864), (u'F_F_Class', 0.056496961512401807), (u'Surface_Tp', 0.045988990352965393), (u'pre_month_adj', 0.033664790459451074), (u'pre_month', 0.028167792017421697), (u'pre_week', 0.01235731579495483), (u'target_adj', 0.010379504044314466), (u'pre_week_adj', 0.0037968990414851043)]\n"
     ]
=======
   "execution_count": 22,
   "metadata": {},
   "outputs": [
    {
     "data": {
      "text/plain": [
       "{'bp': {'max_features': 0.52096722675243334,\n",
       "  'max_leaf_nodes': 958,\n",
       "  'n_estimators': 256},\n",
       " 'features': [u'pre_week',\n",
       "  u'pre_month',\n",
       "  u'pre_quarter',\n",
       "  'avg_week',\n",
       "  u'AADT',\n",
       "  u'SPEEDLIMIT',\n",
       "  u'Struct_Cnd',\n",
       "  u'Surface_Tp',\n",
       "  u'F_F_Class'],\n",
       " 'm_fit': RandomForestClassifier(bootstrap=True, class_weight=None, criterion='gini',\n",
       "             max_depth=None, max_features=0.52096722675243334,\n",
       "             max_leaf_nodes=958, min_impurity_split=1e-07,\n",
       "             min_samples_leaf=1, min_samples_split=2,\n",
       "             min_weight_fraction_leaf=0.0, n_estimators=256, n_jobs=1,\n",
       "             oob_score=False, random_state=None, verbose=0,\n",
       "             warm_start=False),\n",
       " 'model': RandomForestClassifier(bootstrap=True, class_weight=None, criterion='gini',\n",
       "             max_depth=None, max_features=0.52096722675243334,\n",
       "             max_leaf_nodes=958, min_impurity_split=1e-07,\n",
       "             min_samples_leaf=1, min_samples_split=2,\n",
       "             min_weight_fraction_leaf=0.0, n_estimators=256, n_jobs=1,\n",
       "             oob_score=False, random_state=None, verbose=0,\n",
       "             warm_start=False),\n",
       " 'raw': {'brier': 0.03149760741474953, 'f1_s': 0.15384615384615383},\n",
       " 'roc_auc': 0.77705296939615454}"
      ]
     },
     "execution_count": 22,
     "metadata": {},
     "output_type": "execute_result"
>>>>>>> Stashed changes
    }
   ],
   "source": [
    "# Check feature importance\n",
    "f_importance = tune.best_models['RF_base']['m_fit'].feature_importances_\n",
    "fi = list(zip(features, f_importance))\n",
    "print sorted(fi, key=lambda x: x[1], reverse=True)"
   ]
  },
  {
   "cell_type": "markdown",
   "metadata": {},
   "source": [
    "### Lift chart by \"risk bin\"\n",
    "The classifier problem is difficult because the classes are unbalanced (.05% have crashes at target week).  More useful are the probabilities being produced by the model, which give some idea of risk."
   ]
  },
  {
   "cell_type": "code",
<<<<<<< Updated upstream
   "execution_count": 51,
=======
   "execution_count": 23,
>>>>>>> Stashed changes
   "metadata": {
    "collapsed": true
   },
   "outputs": [],
   "source": [
    "def lift_chart(x_col, y_col, data, ax=None):\n",
    "\n",
    "    p = sns.barplot(x=x_col, y=y_col, data=data, \n",
    "                    palette='Reds', ax = None, ci=None)\n",
    "    vals = p.get_yticks()\n",
    "    p.set_yticklabels(['{:3.0f}%'.format(i*100) for i in vals])\n",
    "    xvals = [x.get_text().split(',')[-1].strip(']') for x in p.get_xticklabels()]\n",
    "    xvals = ['{:3.0f}%'.format(float(x)*100) for x in xvals]\n",
    "    p.set_xticklabels(xvals)\n",
    "    p.set_facecolor('white')\n",
    "    p.set_xlabel('')\n",
    "    p.set_ylabel('')\n",
    "    p.set_title('Predicted probability vs actual percent')\n",
    "    return(p)\n",
    "    \n",
    "def density(data, score, ax=None):\n",
    "    p = sns.kdeplot(risk_df['risk_score'], ax=ax)\n",
    "    p.set_facecolor('white')\n",
    "    p.legend('')\n",
    "    p.set_xlabel('Predicted probability of crash')\n",
    "    p.set_title('KDE plot predictions')\n",
    "    return(p)"
   ]
  },
  {
   "cell_type": "code",
<<<<<<< Updated upstream
   "execution_count": 49,
=======
   "execution_count": 24,
>>>>>>> Stashed changes
   "metadata": {},
   "outputs": [
    {
     "name": "stdout",
     "output_type": "stream",
     "text": [
<<<<<<< Updated upstream
      "count    567.000000\n",
      "mean       0.038451\n",
      "std        0.084480\n",
      "min        0.000000\n",
      "25%        0.000000\n",
      "50%        0.003906\n",
      "75%        0.031250\n",
      "max        0.550781\n",
      "Name: risk_score, dtype: float64\n",
      "categories\n",
      "(-1, 0]          272\n",
      "(0, 0.01]         65\n",
      "(0.01, 0.02]      39\n",
      "(0.02, 0.05]      79\n",
      "(0.05, 0.551]    112\n",
=======
      "count    623.000000\n",
      "mean       0.030970\n",
      "std        0.094012\n",
      "min        0.000000\n",
      "25%        0.000000\n",
      "50%        0.000000\n",
      "75%        0.011719\n",
      "max        0.817708\n",
      "Name: risk_score, dtype: float64\n",
      "categories\n",
      "(-1.0, 0.0]      380\n",
      "(0.0, 0.01]       76\n",
      "(0.01, 0.02]      59\n",
      "(0.02, 0.05]      32\n",
      "(0.05, 0.818]     76\n",
>>>>>>> Stashed changes
      "Name: crash, dtype: int64\n"
     ]
    }
   ],
   "source": [
    "risk_scores = test.rundict['RF_base']['m_fit'].predict_proba(test.data.test_x[features])[:,1]\n",
    "risk_df = pd.DataFrame({'risk_score':risk_scores, 'crash':test.data.test_y})\n",
    "print risk_df.risk_score.describe()\n",
    "risk_df['categories'] = pd.cut(risk_df['risk_score'], bins=[-1, 0, .01, .02, .05, max(risk_scores)])\n",
    "risk_mean = risk_df.groupby('categories')['crash'].count()\n",
    "print risk_mean"
   ]
  },
  {
   "cell_type": "code",
<<<<<<< Updated upstream
   "execution_count": 52,
=======
   "execution_count": 25,
>>>>>>> Stashed changes
   "metadata": {},
   "outputs": [
    {
     "name": "stderr",
     "output_type": "stream",
     "text": [
      "/home/jenny/anaconda3/envs/ipykernel_py2/lib/python2.7/site-packages/ipykernel_launcher.py:10: MatplotlibDeprecationWarning: The set_axis_bgcolor function was deprecated in version 2.0. Use set_facecolor instead.\n",
      "  # Remove the CWD from sys.path while we load stuff.\n",
      "/home/jenny/anaconda3/envs/ipykernel_py2/lib/python2.7/site-packages/ipykernel_launcher.py:18: MatplotlibDeprecationWarning: The set_axis_bgcolor function was deprecated in version 2.0. Use set_facecolor instead.\n"
     ]
    },
    {
     "data": {
      "text/plain": [
<<<<<<< Updated upstream
       "<matplotlib.axes._subplots.AxesSubplot at 0xed972b0>"
      ]
     },
     "execution_count": 52,
=======
       "<matplotlib.axes._subplots.AxesSubplot at 0x7f3be70b8710>"
      ]
     },
     "execution_count": 25,
>>>>>>> Stashed changes
     "metadata": {},
     "output_type": "execute_result"
    },
    {
     "data": {
<<<<<<< Updated upstream
      "image/png": "iVBORw0KGgoAAAANSUhEUgAAAd4AAAFlCAYAAABFk4l1AAAABHNCSVQICAgIfAhkiAAAAAlwSFlz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\n",
      "text/plain": [
       "<matplotlib.figure.Figure at 0x12a18ba8>"
=======
      "image/png": "iVBORw0KGgoAAAANSUhEUgAAAZMAAAEWCAYAAACjYXoKAAAABHNCSVQICAgIfAhkiAAAAAlwSFlz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\nAABJRU5ErkJggg==\n",
      "text/plain": [
       "<matplotlib.figure.Figure at 0x7f3be70b3f10>"
>>>>>>> Stashed changes
      ]
     },
     "metadata": {},
     "output_type": "display_data"
    }
   ],
   "source": [
    "fig, axes = plt.subplots(1, 2)\n",
    "lift_chart('categories', 'crash', risk_df, \n",
    "           ax=axes[1])\n",
    "density(risk_df, 'risk_score', ax=axes[0])"
   ]
  },
  {
   "cell_type": "code",
<<<<<<< Updated upstream
   "execution_count": 53,
=======
   "execution_count": 26,
>>>>>>> Stashed changes
   "metadata": {
    "collapsed": true
   },
   "outputs": [],
   "source": [
    "# output predictions\n",
    "# predict on all segments\n",
    "data_model['risk_score'] = test.rundict['RF_base']['m_fit'].predict_proba(data_model[features])[:,1]\n",
    "data_model.to_csv('seg_with_risk_score_adj.csv', index=False)"
   ]
  },
  {
   "cell_type": "markdown",
   "metadata": {},
   "source": [
    "### Check sensitivity to week\n",
    "I predicted an arbitrary week as target here, but I'd like to see whether things change significantly if I change that week.  A good metric to measure that is brier score loss.  It'll be low throughout as the classifier doesn't perform great, but it shouldn't vary a huge amount."
   ]
  },
  {
   "cell_type": "code",
<<<<<<< Updated upstream
   "execution_count": 54,
=======
   "execution_count": 27,
>>>>>>> Stashed changes
   "metadata": {},
   "outputs": [
    {
     "name": "stdout",
     "output_type": "stream",
     "text": [
      "week  20\n",
<<<<<<< Updated upstream
      "Train obs: 931\n",
      "Test obs: 380\n",
      "Fitting RF_base model with 13 features\n",
      "f1_score:  0.0\n",
      "brier_score:  0.037701182775\n",
      "AUC score:  0.497267759563\n",
      "Confusion Matrix:  [[364   2]\n",
      " [ 14   0]]\n",
      "\n",
      "\n",
      "week  30\n",
      "Train obs: 896\n",
      "Test obs: 415\n",
      "Fitting RF_base model with 13 features\n"
     ]
    },
    {
     "name": "stderr",
     "output_type": "stream",
     "text": [
      "C:\\Users\\Alice\\Anaconda2\\envs\\boston-crash-model\\lib\\site-packages\\sklearn\\metrics\\classification.py:1113: UndefinedMetricWarning: F-score is ill-defined and being set to 0.0 due to no predicted samples.\n",
      "  'precision', 'predicted', average, warn_for)\n"
     ]
    },
    {
     "name": "stdout",
     "output_type": "stream",
     "text": [
      "f1_score:  0.0\n",
      "brier_score:  0.046533491401\n",
      "AUC score:  0.5\n",
      "Confusion Matrix:  [[396   0]\n",
      " [ 19   0]]\n",
      "\n",
      "\n",
      "week  40\n",
      "Train obs: 941\n",
      "Test obs: 370\n",
      "Fitting RF_base model with 13 features\n",
      "f1_score:  0.0\n",
      "brier_score:  0.0615806052203\n",
      "AUC score:  0.489971346705\n",
      "Confusion Matrix:  [[342   7]\n",
      " [ 21   0]]\n",
      "\n",
      "\n",
      "week  50\n",
      "Train obs: 896\n",
      "Test obs: 415\n",
      "Fitting RF_base model with 13 features\n",
      "f1_score:  0.0\n",
      "brier_score:  0.0348137545298\n",
      "AUC score:  0.4975\n",
      "Confusion Matrix:  [[398   2]\n",
      " [ 15   0]]\n",
=======
      "Train obs: 1398\n",
      "Test obs: 580\n",
      "Fitting RF_base model with 9 features\n",
      "f1_score:  0.0\n",
      "brier_score:  0.0307807501882\n",
      "\n",
      "\n",
      "week  30\n",
      "Train obs: 1349\n",
      "Test obs: 629\n",
      "Fitting RF_base model with 9 features\n",
      "f1_score:  0.0\n",
      "brier_score:  0.0369268248602\n",
      "\n",
      "\n",
      "week  40\n",
      "Train obs: 1394\n",
      "Test obs: 584\n",
      "Fitting RF_base model with 9 features\n",
      "f1_score:  0.08\n",
      "brier_score:  0.0386286078226\n",
      "\n",
      "\n",
      "week  50\n",
      "Train obs: 1382\n",
      "Test obs: 596\n",
      "Fitting RF_base model with 9 features\n",
      "f1_score:  0.0\n",
      "brier_score:  0.0389694152001\n",
>>>>>>> Stashed changes
      "\n",
      "\n"
     ]
    }
   ],
   "source": [
    "for w in [20, 30, 40, 50]:\n",
    "    print \"week \", w\n",
    "    crash_lags = format_crash_data(data_nonzero.set_index(['segment_id','week']), 'crash', w)\n",
    "    data_model = crash_lags.merge(data_segs, left_on='segment_id', right_on='segment_id')\n",
    "    adj_lags = get_adj_crash_lags(w)\n",
    "    data_model = data_model.merge(adj_lags, left_on='segment_id', right_index=True, suffixes=('', '_adj'))\n",
    "    df = Indata(data_model, 'target')\n",
    "    # create train/test split\n",
    "    df.tr_te_split(.7)\n",
    "    test = Tester(df)\n",
    "    test.init_tuned(tune)\n",
    "    test.run_tuned('RF_base', cal=False)\n",
    "    print '\\n'"
   ]
  },
  {
   "cell_type": "code",
   "execution_count": null,
   "metadata": {
    "collapsed": true
   },
   "outputs": [],
   "source": []
  }
 ],
 "metadata": {
  "kernelspec": {
   "display_name": "Python 2",
   "language": "python",
   "name": "python2"
  },
  "language_info": {
   "codemirror_mode": {
    "name": "ipython",
    "version": 2
   },
   "file_extension": ".py",
   "mimetype": "text/x-python",
   "name": "python",
   "nbconvert_exporter": "python",
   "pygments_lexer": "ipython2",
   "version": "2.7.13"
  }
 },
 "nbformat": 4,
 "nbformat_minor": 1
}
