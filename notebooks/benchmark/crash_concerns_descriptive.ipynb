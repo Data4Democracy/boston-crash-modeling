{
 "cells": [
  {
   "cell_type": "markdown",
   "metadata": {
    "collapsed": false,
    "deletable": true,
    "editable": true
   },
   "source": [
    "## Descriptives of crash/concern data for Vision Zero\n",
    "### Developed by: bpben\n",
    "#### Produces visuals of crash/concern data"
   ]
  },
  {
   "cell_type": "code",
   "execution_count": 1,
   "metadata": {
    "collapsed": false,
    "deletable": true,
    "editable": true
   },
   "outputs": [],
   "source": [
    "import pandas as pd\n",
    "import csv\n",
    "import seaborn as sns\n",
    "import matplotlib.pyplot as plt\n",
    "%matplotlib inline\n",
    "from glob import glob\n",
    "from simpledbf import Dbf5\n",
    "from sqlalchemy import create_engine"
   ]
  },
  {
   "cell_type": "code",
   "execution_count": null,
   "metadata": {
    "collapsed": true,
    "deletable": true,
    "editable": true
   },
   "outputs": [],
   "source": [
    "def read_data(filepath):\n",
    "    if filepath[-3:]=='dbf':\n",
    "        db = Dbf5(filepath)\n",
    "        df = db.to_dataframe()\n",
    "    else:\n",
    "        df = pd.read_csv(filepath)\n",
    "    df.columns = [x.lower() for x in df.columns]\n",
    "    return(df)"
   ]
  },
  {
   "cell_type": "code",
   "execution_count": null,
   "metadata": {
    "collapsed": false,
    "deletable": true,
    "editable": true
   },
   "outputs": [],
   "source": [
    "#Read in data\n",
    "crash = read_data('../data/all_crashes.dbf')\n",
    "concern = read_data('../data/all_concerns.dbf')\n",
    "incidents = read_data('../data/incidents.csv')\n",
    "roads = read_data('../data/boston_road_massdot2015.dbf')"
   ]
  },
  {
   "cell_type": "code",
   "execution_count": null,
   "metadata": {
    "collapsed": false,
    "deletable": true,
    "editable": true
   },
   "outputs": [],
   "source": [
    "#Drop duplicates in incidents, merge to crash\n",
    "in_dedup = incidents.groupby('incident').apply(lambda x: x.apply(lambda y: str(y.unique()[0])))\n",
    "in_dedup.reset_index(drop=True, inplace=True)\n",
    "cr_in = pd.merge(crash, in_dedup, on='incident', how='left')\n",
    "cr_in['datetime'] = pd.to_datetime(cr_in['date'])\n",
    "cr_in['date'] = pd.to_datetime(cr_in.datetime.apply(lambda x: x.date()))"
   ]
  },
  {
   "cell_type": "code",
   "execution_count": null,
   "metadata": {
    "collapsed": false,
    "deletable": true,
    "editable": true
   },
   "outputs": [],
   "source": [
    "#Merge crash with concerns\n",
    "concern = concern[concern['near_fid'].notnull()]\n",
    "concern['near_fid'] = concern['near_fid'].astype('int')\n",
    "concern['requestdat'] = pd.to_datetime(concern['requestdat'])\n",
    "cr_in_con = pd.merge(cr_in, concern, on='near_fid', how='inner')"
   ]
  },
  {
   "cell_type": "code",
   "execution_count": null,
   "metadata": {
    "collapsed": false,
    "deletable": true,
    "editable": true
   },
   "outputs": [],
   "source": [
    "#Get dummies for crash type and complaint type\n",
    "#Look at correlations between complaints and incidents\n",
    "#Drop any where type or usertype is missing \n",
    "#(i.e. crashes, no complaints ; complaints, no crashes)\n",
    "cr_con_nonull = cr_in_con[(cr_in_con['type'].notnull())&(cr_in_con['usertype'].notnull())]\n",
    "cr_con_types = pd.concat([pd.get_dummies(cr_con_nonull['type']), \n",
    "                          pd.get_dummies(cr_con_nonull['usertype']),\n",
    "                         cr_con_nonull['near_fid']], axis  = 1)\n",
    "#0/1 presence/absence of type\n",
    "cr_con_types = cr_con_types.groupby('near_fid').max()\n",
    "cr_con_types.columns = ['Crash - '+c for c in cr_con_types.columns[:3]] + \\\n",
    "                        ['Concern - '+c for c in cr_con_types.columns[3:]]\n",
    "    \n",
    "#Drop assistive device/other\n",
    "cr_con_types.drop([ u'Concern - travels (other)',\n",
    "                   u'Concern - uses an assistive device'], axis=1, inplace=True)"
   ]
  },
  {
   "cell_type": "markdown",
   "metadata": {
    "deletable": true,
    "editable": true
   },
   "source": [
    "### Heatmap"
   ]
  },
  {
   "cell_type": "code",
   "execution_count": null,
   "metadata": {
    "collapsed": false,
    "deletable": true,
    "editable": true
   },
   "outputs": [],
   "source": [
    "cr_con_cor = cr_con_types.corr()"
   ]
  },
  {
   "cell_type": "code",
   "execution_count": null,
   "metadata": {
    "collapsed": false,
    "deletable": true,
    "editable": true
   },
   "outputs": [],
   "source": [
    "p = sns.heatmap(cr_con_cor, vmin = -0.4, vmax = 0.4)\n",
    "plt.show()"
   ]
  },
  {
   "cell_type": "markdown",
   "metadata": {
    "deletable": true,
    "editable": true
   },
   "source": [
    "### Volumes"
   ]
  },
  {
   "cell_type": "code",
   "execution_count": null,
   "metadata": {
    "collapsed": false,
    "deletable": true,
    "editable": true
   },
   "outputs": [],
   "source": [
    "#Year for focus\n",
    "# VZ data is for 2016, make sense to constrain to year\n",
    "yr = '2016'\n",
    "\n",
    "# Concern by date\n",
    "con_time = concern.set_index('requestdat').copy()\n",
    "con_time = con_time[yr]\n",
    "con_time = con_time.groupby(con_time.index).apply(lambda x: len(x['requestid'].unique()))\n",
    "\n",
    "# Crash by date\n",
    "cr_time = cr_in.set_index('date').copy()\n",
    "cr_time = cr_time[yr]\n",
    "cr_time = cr_time.groupby(cr_time.index).apply(lambda x: len(x['incident'].unique()))"
   ]
  },
  {
   "cell_type": "code",
   "execution_count": null,
   "metadata": {
    "collapsed": false,
    "deletable": true,
    "editable": true
   },
   "outputs": [],
   "source": [
    "fig,axs = plt.subplots(1,2)\n",
    "sns.set_style('white')\n",
    "axs[0].plot(con_time, color='purple')\n",
    "axs[0].set_title('concerns')\n",
    "plt.setp( axs[0].xaxis.get_majorticklabels(), rotation=70 )\n",
    "l_bound = con_time.index.min()\n",
    "\n",
    "axs[1].plot(cr_time, color='crimson')\n",
    "axs[1].set_title('crashes')\n",
    "plt.setp( axs[1].xaxis.get_majorticklabels(), rotation=70 )\n",
    "axs[1].set_xlim([l_bound, cr_time.index.max()])\n",
    "\n",
    "plt.show()"
   ]
  },
  {
   "cell_type": "markdown",
   "metadata": {
    "deletable": true,
    "editable": true
   },
   "source": [
    "### General data exploration"
   ]
  },
  {
   "cell_type": "code",
   "execution_count": null,
   "metadata": {
    "collapsed": true,
    "deletable": true,
    "editable": true
   },
   "outputs": [],
   "source": [
    "# Concern by month\n",
    "con_month = concern.set_index('requestdat').copy()\n",
    "con_month = con_month[yr]\n",
    "con_month['month'] = con_month.index.map(lambda x: x.month)\n",
    "con_month = con_month.groupby('requestdat').apply(lambda x: len(x['requestid'].unique()))\n",
    "\n",
    "# Crash by month\n",
    "cr_month = cr_in.copy()\n",
    "cr_month['month'] = pd.to_datetime(cr_in['date']).apply(lambda x: x.month)\n",
    "cr_month = cr_month.groupby('month').apply(lambda x: len(x['incident'].unique()))"
   ]
  },
  {
   "cell_type": "code",
   "execution_count": null,
   "metadata": {
    "collapsed": false,
    "deletable": true,
    "editable": true
   },
   "outputs": [],
   "source": [
    "# Most dangerous road segments, by mode type\n",
    "incident_count = pd.DataFrame()\n",
    "g_fid_type = cr_in_con.groupby(['near_fid', 'type'])\n",
    "fid_inc_count = g_fid_type.apply(lambda x: len(x['incident'].unique()))\n",
    "#Total incident by type\n",
    "inc_tot = fid_inc_count.reset_index().groupby('type')[0].sum().to_dict()\n",
    "for t in ['bike','mv','pedestrian']:\n",
    "    incident_count = incident_count.append(fid_inc_count.loc(axis=0)[:,t].sort_values(ascending=False).reset_index())"
   ]
  },
  {
   "cell_type": "code",
   "execution_count": null,
   "metadata": {
    "collapsed": false,
    "deletable": true,
    "editable": true
   },
   "outputs": [],
   "source": [
    "# Most complained about road segments, by user type\n",
    "concern_count = pd.DataFrame()\n",
    "g_fid_type = cr_in_con.groupby(['near_fid', 'usertype'])\n",
    "fid_concern_count = g_fid_type.apply(lambda x: len(x['incident'].unique()))\n",
    "#Total complaint by type\n",
    "con_tot = fid_concern_count.reset_index().groupby('usertype')[0].sum().to_dict()\n",
    "for t in ['bikes','drives','walks']:\n",
    "    concern_count = concern_count.append(fid_concern_count.loc(axis=0)[:,t].sort_values(ascending=False).reset_index())"
   ]
  },
  {
   "cell_type": "code",
   "execution_count": null,
   "metadata": {
    "collapsed": false,
    "deletable": true,
    "editable": true
   },
   "outputs": [],
   "source": [
    "# What percent are these top 3 responsible for\n",
    "#Get the percent for each fid\n",
    "#pct by fid\n",
    "inc_pct_fid = fid_inc_count.reset_index()\n",
    "inc_pct_fid['pct'] = inc_pct_fid.apply(lambda x: 1.*x[0] / inc_tot[x['type']], axis=1)\n",
    "con_pct_fid = fid_concern_count.reset_index()\n",
    "con_pct_fid['pct'] = con_pct_fid.apply(lambda x: 1.*x[0] / con_tot[x['usertype']], axis=1)"
   ]
  },
  {
   "cell_type": "code",
   "execution_count": null,
   "metadata": {
    "collapsed": false,
    "deletable": true,
    "editable": true
   },
   "outputs": [],
   "source": [
    "# Display top 3 incident, complaints and % of complaints/incidents they account for\n",
    "print 'Top incident'\n",
    "top3inc = incident_count.groupby('type').apply(lambda x: x.iloc[0:3])\n",
    "print top3inc.merge(inc_pct_fid, left_on=['near_fid','type'], right_on=['near_fid','type'])\n",
    "print 'Top complaint'\n",
    "top3con = concern_count.groupby('usertype').apply(lambda x: x.iloc[0:3])\n",
    "print top3con.merge(con_pct_fid, left_on=['near_fid','usertype'], right_on=['near_fid','usertype'])"
   ]
  },
  {
   "cell_type": "code",
   "execution_count": null,
   "metadata": {
    "collapsed": false,
    "deletable": true,
    "editable": true
   },
   "outputs": [],
   "source": [
    "#Merge concern_incident\n",
    "concern_count = concern_count.pivot(index='near_fid', columns='usertype', values=0)\n",
    "concern_count['tot_con'] = concern_count.sum(axis=1)\n",
    "incident_count = incident_count.pivot(index='near_fid', columns='type', values=0)\n",
    "incident_count['tot_inc'] = incident_count.sum(axis=1)"
   ]
  },
  {
   "cell_type": "code",
   "execution_count": null,
   "metadata": {
    "collapsed": false,
    "deletable": true,
    "editable": true
   },
   "outputs": [],
   "source": [
    "#Merge together\n",
    "c_i_count = concern_count.join(incident_count, how='outer')\n",
    "#Add road length\n",
    "c_i_count = c_i_count.join(roads.shape_leng)\n",
    "#Make road length km\n",
    "c_i_count['shape_leng_km'] = c_i_count['shape_leng'] / 1000\n",
    "#Normalize each by length\n",
    "count_norm = c_i_count[c_i_count.columns.difference(['shape_leng','shape_leng_km'])].apply(\n",
    "    lambda x: x / c_i_count['shape_leng_km'])"
   ]
  }
 ],
 "metadata": {
  "anaconda-cloud": {},
  "kernelspec": {
   "display_name": "Python 2",
   "language": "python",
   "name": "python2"
  },
  "language_info": {
   "codemirror_mode": {
    "name": "ipython",
    "version": 2
   },
   "file_extension": ".py",
   "mimetype": "text/x-python",
   "name": "python",
   "nbconvert_exporter": "python",
   "pygments_lexer": "ipython2",
   "version": "2.7.13"
  }
 },
 "nbformat": 4,
 "nbformat_minor": 1
}
