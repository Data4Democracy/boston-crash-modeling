{
 "cells": [
  {
   "cell_type": "markdown",
   "metadata": {},
   "source": [
    "This makes dummy shapefiles from an existing shapefile for the purposes of unit tests"
   ]
  },
  {
   "cell_type": "code",
   "execution_count": 1,
   "metadata": {
    "collapsed": true
   },
   "outputs": [],
   "source": [
    "import json\n",
    "import os\n",
    "BASE_DIR = os.path.dirname(os.getcwd())\n",
    "os.chdir(BASE_DIR + '/src/data/')\n",
    "import util\n",
    "os.chdir(BASE_DIR + '/notebooks/')\n",
    "\n",
    "MAP_FP = \"../osm-data/processed/maps/\""
   ]
  },
  {
   "cell_type": "code",
   "execution_count": 6,
   "metadata": {},
   "outputs": [],
   "source": [
    "shp_read = util.read_shp(os.path.join(MAP_FP, 'osm_ways.shp'))\n",
    "tmp = [x for x in shp_read if x[1]['name'] is not None and x[1]['name'] in ('Boston Street', 'Southampton Street', 'Dorchester Avenue', 'Dorchester Street', 'Preble Street')]\n",
    "properties = {k: 'str' for k in shp_read[0][1].keys()}\n",
    "schema = {\n",
    "    'geometry': 'LineString',\n",
    "    'properties': properties\n",
    "}\n",
    "# Write a file in original projection\n",
    "util.write_shp(schema,\n",
    "    os.path.join(MAP_FP, 'small_test.shp'),\n",
    "    tmp,\n",
    "    0, 1\n",
    ")"
   ]
  },
  {
   "cell_type": "code",
   "execution_count": 15,
   "metadata": {},
   "outputs": [
    {
     "name": "stdout",
     "output_type": "stream",
     "text": [
      "(<shapely.geometry.linestring.LineString object at 0x7efbeb567790>, OrderedDict([(u'ST_NAME', u'A'), (u'ST_TYPE', u'ST'), (u'SUF_DIR', None), (u'CFCC', u'A31'), (u'SPEEDLIMIT', 30), (u'ONEWAY', None), (u'FT_COST', 0.061), (u'TF_COST', 0.061), (u'TF_DIR', None), (u'FT_DIR', None), (u'Route_ID', u'L140230 NB'), (u'F_F_Class', 7), (u'Jurisdictn', u'2'), (u'Hwy_Dist', u'6'), (u'Hwy_Subdst', u'6A'), (u'Med_Width', 0.0), (u'Med_Type', 0), (u'Mile_Count', 1), (u'Num_Lanes', 1), (u'Opp_Lanes', 0), (u'Shldr_Lt_W', 0.0), (u'Shldr_Lt_T', 0), (u'Shldr_Rt_W', 0.0), (u'Shldr_Rt_T', 0), (u'Speed_Lim', 0), (u'Op_Dir_SL', 0), (u'ST_Name_1', u'GOLD STREET'), (u'Fm_St_Name', u'A STREET'), (u'To_St_Name', u'DEAD END'), (u'City', 35), (u'County', u'M'), (u'Operation', 1), (u'Struct_Cnd', 2), (u'Surface_Tp', 6), (u'Surface_Wd', 13.0), (u'Terrain', 1), (u'Toll_Road', 0), (u'AADT', 0), (u'AADT_Year', 0), (u'AADT_Deriv', 0), (u'Statn_Num', 0), (u'Curb', 3), (u'Shldr_UL_W', 0.0), (u'Shldr_UL_T', 0), (u'Lt_Sidewlk', 5), (u'Rt_Sidewlk', 5)]))\n",
      "233\n"
     ]
    }
   ],
   "source": [
    "# Read in ma_cob\n",
    "ma_cob = util.read_shp(os.path.join(MAP_FP, 'ma_cob_spatially_joined_streets.shp'))\n",
    "tmp = [x for x in ma_cob if x[1]['ST_NAME'] and x[1]['ST_NAME'] in ('Boston', 'Dorchester', 'Preble', 'Southampton')]\n",
    "print len(tmp)"
   ]
  },
  {
   "cell_type": "code",
   "execution_count": 18,
   "metadata": {},
   "outputs": [],
   "source": [
    "properties = {k: 'str' for k in tmp[0][1].keys()}\n",
    "schema = {\n",
    "    'geometry': 'LineString',\n",
    "    'properties': properties\n",
    "}\n",
    "# Write a file in original projection\n",
    "util.write_shp(schema,\n",
    "    os.path.join(MAP_FP, 'ma_cob_small.shp'),\n",
    "    tmp,\n",
    "    0, 1\n",
    ")"
   ]
  }
 ],
 "metadata": {
  "kernelspec": {
   "display_name": "Python 2",
   "language": "python",
   "name": "python2"
  },
  "language_info": {
   "codemirror_mode": {
    "name": "ipython",
    "version": 2
   },
   "file_extension": ".py",
   "mimetype": "text/x-python",
   "name": "python",
   "nbconvert_exporter": "python",
   "pygments_lexer": "ipython2",
   "version": "2.7.13"
  }
 },
 "nbformat": 4,
 "nbformat_minor": 2
}
