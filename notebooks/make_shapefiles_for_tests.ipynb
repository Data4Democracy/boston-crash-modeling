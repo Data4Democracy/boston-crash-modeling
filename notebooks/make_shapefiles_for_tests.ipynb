{
 "cells": [
  {
   "cell_type": "markdown",
   "metadata": {},
   "source": [
    "This makes dummy shapefiles from an existing shapefile for the purposes of unit tests"
   ]
  },
  {
   "cell_type": "code",
   "execution_count": 1,
   "metadata": {
    "collapsed": true
   },
   "outputs": [],
   "source": [
    "import json\n",
    "import os\n",
    "BASE_DIR = os.path.dirname(os.getcwd())\n",
    "os.chdir(BASE_DIR + '/src/data/')\n",
    "import util\n",
    "os.chdir(BASE_DIR + '/notebooks/')\n",
    "\n",
    "MAP_FP = \"../osm-data/processed/maps/\""
   ]
  },
  {
   "cell_type": "code",
   "execution_count": 6,
   "metadata": {},
   "outputs": [],
   "source": [
    "shp_read = util.read_shp(os.path.join(MAP_FP, 'osm_ways.shp'))\n",
    "tmp = [x for x in shp_read if x[1]['name'] is not None and x[1]['name'] in ('Boston Street', 'Southampton Street', 'Dorchester Avenue', 'Dorchester Street', 'Preble Street')]\n",
    "properties = {k: 'str' for k in shp_read[0][1].keys()}\n",
    "schema = {\n",
    "    'geometry': 'LineString',\n",
    "    'properties': properties\n",
    "}\n",
    "# Write a file in original projection\n",
    "util.write_shp(schema,\n",
    "    os.path.join(MAP_FP, 'small_test.shp'),\n",
    "    tmp,\n",
    "    0, 1\n",
    ")"
   ]
  },
  {
   "cell_type": "code",
   "execution_count": null,
   "metadata": {
    "collapsed": true
   },
   "outputs": [],
   "source": []
  }
 ],
 "metadata": {
  "kernelspec": {
   "display_name": "Python 2",
   "language": "python",
   "name": "python2"
  },
  "language_info": {
   "codemirror_mode": {
    "name": "ipython",
    "version": 2
   },
   "file_extension": ".py",
   "mimetype": "text/x-python",
   "name": "python",
   "nbconvert_exporter": "python",
   "pygments_lexer": "ipython2",
   "version": "2.7.13"
  }
 },
 "nbformat": 4,
 "nbformat_minor": 2
}
