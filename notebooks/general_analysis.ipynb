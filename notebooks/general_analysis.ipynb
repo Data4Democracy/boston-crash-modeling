{
 "cells": [
  {
   "cell_type": "code",
   "execution_count": 1,
   "metadata": {
    "collapsed": true
   },
   "outputs": [],
   "source": [
    "PROCESSED_DATA_FP = '../osm-data/processed/'\n",
    "MAP_FP = PROCESSED_DATA_FP + 'maps/'"
   ]
  },
  {
   "cell_type": "code",
   "execution_count": 2,
   "metadata": {
    "collapsed": true
   },
   "outputs": [],
   "source": [
    "import json\n",
    "import os\n",
    "import fiona\n",
    "BASE_DIR = os.path.dirname(os.getcwd())\n",
    "os.chdir(BASE_DIR + '/src/data/')\n",
    "import util\n",
    "os.chdir(BASE_DIR + '/notebooks/')"
   ]
  },
  {
   "cell_type": "code",
   "execution_count": 3,
   "metadata": {},
   "outputs": [
    {
     "name": "stdout",
     "output_type": "stream",
     "text": [
      "7220 crashes found\n",
      "3379 unique crash locations found\n",
      "\n",
      "Highest number of crashes at any one location: [38, 34, 31, 29, 29, 27, 27, 27, 22, 21]\n"
     ]
    }
   ],
   "source": [
    "items = json.load(open(PROCESSED_DATA_FP + 'crash_joined.json'))\n",
    "crash_list, crashes_by_id = util.group_json_by_location(items)\n",
    "print str(len(crash_list)) + \" crashes found\"\n",
    "\n",
    "\n",
    "# Crashes by id is a dict where the key is the segment id.  It contains the count of crashes at that intersection\n",
    "# Can also contain other information about this location, if called with arg otherfields.  In this case, we're\n",
    "# Looking at time\n",
    "sorted = [value['count'] for key,value in crashes_by_id.items() if key != '']\n",
    "sorted.sort(reverse=True)\n",
    "print str(len(sorted)) + \" unique crash locations found\\n\"\n",
    "\n",
    "print \"Highest number of crashes at any one location: \" + str(sorted[0:10])\n",
    "worst_id = [key for key, value in crashes_by_id.items() if value['count'] == sorted[0]][0]\n"
   ]
  },
  {
   "cell_type": "code",
   "execution_count": 4,
   "metadata": {
    "collapsed": true
   },
   "outputs": [],
   "source": [
    "def get_int_feat(featname, items, buckets=[]):\n",
    "    results = {}\n",
    "    for id, values in items.iteritems():\n",
    "        value = max([x[featname] for x in values])\n",
    "        \n",
    "        if buckets:\n",
    "            found = False\n",
    "            for bucket in buckets:\n",
    "                if int(value) <= bucket and not found:\n",
    "                    value = bucket\n",
    "                    found = True\n",
    "            if not found:\n",
    "                value = buckets[len(buckets)-1]\n",
    "        if value not in results.keys():\n",
    "            results[value] = {'crash': 0, 'no_crash': 0}\n",
    "        if id in crashes_by_id.keys():\n",
    "            results[value]['crash'] += 1\n",
    "        else:\n",
    "            results[value]['no_crash'] += 1\n",
    " \n",
    "    print \"\\n\" + featname + \"..............\"\n",
    "    for key, value in results.iteritems():\n",
    "        print str(key) + ':' + str(float(value['crash'])/(float(value['no_crash'] + value['crash']))) + \" out of \" + str(value['no_crash'] + value['crash'])\n"
   ]
  },
  {
   "cell_type": "code",
   "execution_count": 5,
   "metadata": {},
   "outputs": [
    {
     "name": "stdout",
     "output_type": "stream",
     "text": [
      "7845\n",
      "************************************\n",
      "\n",
      "signal..............\n",
      "1:0.434131736527 out of 2004\n",
      "0:0.15391200137 out of 5841\n",
      "\n",
      "lanes..............\n",
      "1:0.0254777070064 out of 157\n",
      "0:0.0132450331126 out of 151\n",
      "3:0.467075038285 out of 653\n",
      "2:0.183505154639 out of 6305\n",
      "5:0.618421052632 out of 76\n",
      "4:0.505030181087 out of 497\n",
      "6:0.5 out of 6\n",
      "\n",
      "width..............\n",
      "9:0.103196859226 out of 1783\n",
      "19:0.290178571429 out of 1792\n",
      "29:0.447961373391 out of 1864\n",
      "14:0.0955943474647 out of 2406\n",
      "\n",
      "hwy_type..............\n",
      "0:0.40490797546 out of 163\n",
      "1:0.131540546175 out of 4797\n",
      "2:0.509803921569 out of 204\n",
      "3:0.386850152905 out of 1962\n",
      "4:0.0526315789474 out of 19\n",
      "5:0.238938053097 out of 113\n",
      "6:0.354430379747 out of 79\n",
      "7:0.205882352941 out of 102\n",
      "8:0.286821705426 out of 129\n",
      "9:0.292857142857 out of 140\n",
      "10:0.4 out of 40\n",
      "11:0.377358490566 out of 53\n",
      "12:0.555555555556 out of 9\n",
      "13:0.0 out of 6\n",
      "14:0.5 out of 6\n",
      "15:0.6 out of 5\n",
      "16:0.2 out of 5\n",
      "17:1.0 out of 2\n",
      "18:0.5 out of 2\n",
      "19:0.0 out of 2\n",
      "20:0.0 out of 2\n",
      "22:0.0 out of 1\n",
      "23:0.75 out of 4\n"
     ]
    },
    {
     "ename": "KeyError",
     "evalue": "'SPEEDLIMIT'",
     "output_type": "error",
     "traceback": [
      "\u001b[0;31m---------------------------------------------------------------------------\u001b[0m",
      "\u001b[0;31mKeyError\u001b[0m                                  Traceback (most recent call last)",
      "\u001b[0;32m<ipython-input-5-89ab321abe56>\u001b[0m in \u001b[0;36m<module>\u001b[0;34m()\u001b[0m\n\u001b[1;32m     13\u001b[0m \u001b[0mget_int_feat\u001b[0m\u001b[0;34m(\u001b[0m\u001b[0;34m'hwy_type'\u001b[0m\u001b[0;34m,\u001b[0m \u001b[0mitems\u001b[0m\u001b[0;34m)\u001b[0m\u001b[0;34m\u001b[0m\u001b[0m\n\u001b[1;32m     14\u001b[0m \u001b[0;34m\u001b[0m\u001b[0m\n\u001b[0;32m---> 15\u001b[0;31m \u001b[0mget_int_feat\u001b[0m\u001b[0;34m(\u001b[0m\u001b[0;34m'SPEEDLIMIT'\u001b[0m\u001b[0;34m,\u001b[0m \u001b[0mitems\u001b[0m\u001b[0;34m)\u001b[0m\u001b[0;34m\u001b[0m\u001b[0m\n\u001b[0m\u001b[1;32m     16\u001b[0m \u001b[0;34m\u001b[0m\u001b[0m\n\u001b[1;32m     17\u001b[0m \u001b[0mget_int_feat\u001b[0m\u001b[0;34m(\u001b[0m\u001b[0;34m'Struct_Cnd'\u001b[0m\u001b[0;34m,\u001b[0m \u001b[0mitems\u001b[0m\u001b[0;34m)\u001b[0m\u001b[0;34m\u001b[0m\u001b[0m\n",
      "\u001b[0;32m<ipython-input-4-9492a4986c1f>\u001b[0m in \u001b[0;36mget_int_feat\u001b[0;34m(featname, items, buckets)\u001b[0m\n\u001b[1;32m      2\u001b[0m     \u001b[0mresults\u001b[0m \u001b[0;34m=\u001b[0m \u001b[0;34m{\u001b[0m\u001b[0;34m}\u001b[0m\u001b[0;34m\u001b[0m\u001b[0m\n\u001b[1;32m      3\u001b[0m     \u001b[0;32mfor\u001b[0m \u001b[0mid\u001b[0m\u001b[0;34m,\u001b[0m \u001b[0mvalues\u001b[0m \u001b[0;32min\u001b[0m \u001b[0mitems\u001b[0m\u001b[0;34m.\u001b[0m\u001b[0miteritems\u001b[0m\u001b[0;34m(\u001b[0m\u001b[0;34m)\u001b[0m\u001b[0;34m:\u001b[0m\u001b[0;34m\u001b[0m\u001b[0m\n\u001b[0;32m----> 4\u001b[0;31m         \u001b[0mvalue\u001b[0m \u001b[0;34m=\u001b[0m \u001b[0mmax\u001b[0m\u001b[0;34m(\u001b[0m\u001b[0;34m[\u001b[0m\u001b[0mx\u001b[0m\u001b[0;34m[\u001b[0m\u001b[0mfeatname\u001b[0m\u001b[0;34m]\u001b[0m \u001b[0;32mfor\u001b[0m \u001b[0mx\u001b[0m \u001b[0;32min\u001b[0m \u001b[0mvalues\u001b[0m\u001b[0;34m]\u001b[0m\u001b[0;34m)\u001b[0m\u001b[0;34m\u001b[0m\u001b[0m\n\u001b[0m\u001b[1;32m      5\u001b[0m \u001b[0;34m\u001b[0m\u001b[0m\n\u001b[1;32m      6\u001b[0m         \u001b[0;32mif\u001b[0m \u001b[0mbuckets\u001b[0m\u001b[0;34m:\u001b[0m\u001b[0;34m\u001b[0m\u001b[0m\n",
      "\u001b[0;31mKeyError\u001b[0m: 'SPEEDLIMIT'"
     ]
    }
   ],
   "source": [
    "items = json.load(open(PROCESSED_DATA_FP + '/inters_data.json'))\n",
    "\n",
    "#feats = ['hwy_type', 'width', 'lanes', 'osm_speed', 'signal', 'SPEEDLIMIT', 'Struct_Cnd', 'Surface_Tp', 'F_F_Class']\n",
    "\n",
    "print len(items)\n",
    "print \"************************************\"\n",
    "get_int_feat('signal', items)\n",
    "get_int_feat('lanes', items)\n",
    "get_int_feat('width', items, [9, 14, 19, 29])\n",
    "\n",
    "# Highway types are kind of problematic to use max for, but it looks like if they're all residential roads, that really reduces crash risk\n",
    "# Also, too many highway types with combo types (e.g. motorway and motorway link...)\n",
    "get_int_feat('hwy_type', items)\n",
    "\n",
    "get_int_feat('SPEEDLIMIT', items)\n",
    "\n",
    "get_int_feat('Struct_Cnd', items)\n",
    "\n",
    "get_int_feat('Surface_Tp', items)\n",
    "\n",
    "get_int_feat('F_F_Class', items)"
   ]
  },
  {
   "cell_type": "code",
   "execution_count": null,
   "metadata": {
    "collapsed": true
   },
   "outputs": [],
   "source": [
    "def get_non_int_feat(featname, items):\n",
    "    results = {}\n",
    "    for x in non_inters:\n",
    "        value = x['properties'][featname]\n",
    "        if value not in results.keys():\n",
    "            results[value] = {'crash': 0, 'no_crash': 0}\n",
    "        if x['id'] in crashes_by_id.keys():\n",
    "            results[value]['crash'] += 1\n",
    "        else:\n",
    "            results[value]['no_crash'] += 1\n",
    "            \n",
    "    print \"\\n\" + featname + \"..............\"\n",
    "    for key, value in results.iteritems():\n",
    "        print str(key) + ':' + str(float(value['crash'])/(float(value['no_crash'] + value['crash']))) + \" out of \" + str(value['no_crash'] + value['crash'])\n"
   ]
  },
  {
   "cell_type": "code",
   "execution_count": null,
   "metadata": {},
   "outputs": [],
   "source": [
    "non_inters = fiona.open(MAP_FP + 'non_inters_segments.shp')\n",
    "print len(non_inters)\n",
    "print non_inters[0]\n",
    "count = 0\n",
    "\n",
    "# Feats = ['hwy_type', 'width', 'lanes', 'osm_speed', 'signal', 'SPEEDLIMIT', 'Struct_Cnd', 'Surface_Tp', 'F_F_Class']\n",
    "\n",
    "lanes = {}\n",
    "for x in non_inters:\n",
    "        \n",
    "    num_lanes = x['properties']['lanes']\n",
    "    \n",
    "    if num_lanes not in lanes.keys():\n",
    "        lanes[num_lanes] = {'crash': 0, 'no_crash': 0}\n",
    "    if x['id'] in crashes_by_id.keys():\n",
    "        count += 1\n",
    "        lanes[num_lanes]['crash'] += 1\n",
    "    else:\n",
    "        lanes[num_lanes]['no_crash'] += 1\n",
    "    \n",
    "\n",
    "print \"Crash rate for non-intersections:\" + str(float(count)/float(count + len(non_inters)))\n",
    "print lanes\n",
    "\n",
    "get_non_int_feat('lanes', non_inters)\n",
    "\n",
    "get_non_int_feat('signal', non_inters)\n",
    "get_non_int_feat('hwy_type', non_inters)\n",
    "get_non_int_feat('SPEEDLIMIT', non_inters)\n",
    "get_non_int_feat('Struct_Cnd', non_inters)\n",
    "get_non_int_feat('Surface_Tp', non_inters)\n",
    "get_non_int_feat('F_F_Class', non_inters)"
   ]
  }
 ],
 "metadata": {
  "kernelspec": {
   "display_name": "Python 2",
   "language": "python",
   "name": "python2"
  },
  "language_info": {
   "codemirror_mode": {
    "name": "ipython",
    "version": 2
   },
   "file_extension": ".py",
   "mimetype": "text/x-python",
   "name": "python",
   "nbconvert_exporter": "python",
   "pygments_lexer": "ipython2",
   "version": "2.7.13"
  }
 },
 "nbformat": 4,
 "nbformat_minor": 2
}
