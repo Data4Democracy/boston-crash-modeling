{
 "cells": [
  {
   "cell_type": "code",
   "execution_count": 12,
   "metadata": {
    "collapsed": true
   },
   "outputs": [],
   "source": [
    "import osmnx as ox, geopandas as gpd\n",
    "from shapely.geometry import Point, MultiLineString\n",
    "\n",
    "import os\n",
    "BASE_DIR = os.path.dirname(os.getcwd())\n",
    "os.chdir(BASE_DIR + '/src/data/')\n",
    "import util\n",
    "os.chdir(BASE_DIR + '/notebooks/')"
   ]
  },
  {
   "cell_type": "code",
   "execution_count": 2,
   "metadata": {
    "collapsed": true
   },
   "outputs": [],
   "source": [
    "gdf_place = ox.gdf_from_place('Cambridge, Massachusetts, USA')\n",
    "polygon = gdf_place['geometry'].unary_union\n",
    "cambridge = ox.core.osm_net_download(polygon)"
   ]
  },
  {
   "cell_type": "code",
   "execution_count": 18,
   "metadata": {},
   "outputs": [
    {
     "name": "stdout",
     "output_type": "stream",
     "text": [
      "{u'nodes': [61171565, 61171566, 61171503, 61171502, 61171508, 61171505, 61172198, 61171615], u'type': u'way', u'id': 8604746, u'tags': {u'lanes': u'2', u'name': u'Columbia Street', u'width': u'12.2', u'created_by': u'JOSM', u'source': u'massgis_import_v0.1_20071008141127', u'highway': u'residential', u'attribution': u'Office of Geographic and Environmental Information (MassGIS)', u'massgis:way_id': u'193222', u'condition': u'deficient'}}\n",
      "{u'lat': 42.374253, u'lon': -71.093746, u'type': u'node', u'id': 61171565}\n",
      "{u'nodes': [61324188, 61322026, 61322009, 267656464, 1530477573, 1530477577, 61322007, 267656466, 278949282, 61322006, 61322003], u'type': u'way', u'id': 8604813, u'tags': {u'lanes': u'3', u'name': u\"Monsignor O'Brien Highway\", u'width': u'30.5', u'source': u'massgis_import_v0.1_20071008165629', u'condition': u'fair', u'oneway': u'yes', u'attribution': u'Office of Geographic and Environmental Information (MassGIS)', u'massgis:way_id': u'159753', u'ref': u'MA 28', u'highway': u'trunk'}}\n",
      "{u'lat': 42.3705222, u'lon': -71.0755329, u'type': u'node', u'id': 61324188}\n",
      "{u'nodes': [61182307, 61182303, 61182366, 4168205938, 61178893], u'type': u'way', u'id': 8605306, u'tags': {u'lanes': u'2', u'name': u'Warren Street', u'width': u'9.1', u'source': u'massgis_import_v0.1_20071008141127', u'condition': u'fair', u'oneway': u'yes', u'attribution': u'Office of Geographic and Environmental Information (MassGIS)', u'massgis:way_id': u'207152', u'highway': u'secondary'}}\n",
      "{u'lat': 42.373499, u'lon': -71.087917, u'type': u'node', u'id': 61182307}\n",
      "{u'nodes': [61170472, 71920781], u'type': u'way', u'id': 8605340, u'tags': {u'lanes': u'2', u'name': u'Chester Street', u'width': u'12.2', u'source': u'massgis_import_v0.1_20071008141127', u'condition': u'good', u'attribution': u'Office of Geographic and Environmental Information (MassGIS)', u'massgis:way_id': u'124711', u'highway': u'residential'}}\n",
      "{u'lat': 42.393652, u'lon': -71.124372, u'type': u'node', u'id': 61170472}\n",
      "{u'nodes': [2014367508, 61181099, 61181105, 61181103, 61180885, 61180887, 61180881, 3616212193, 3616211892, 2060282039, 61180879], u'type': u'way', u'id': 8605680, u'tags': {u'source': u'massgis_import_v0.1_20071008141127', u'massgis:way_id': u'274', u'attribution': u'Office of Geographic and Environmental Information (MassGIS)', u'service': u'driveway', u'highway': u'service'}}\n",
      "{u'lat': 42.3730531, u'lon': -71.0864613, u'type': u'node', u'id': 2014367508, u'tags': {u'highway': u'traffic_signals'}}\n",
      "{u'nodes': [61317509, 61317511], u'type': u'way', u'id': 8614571, u'tags': {u'lanes': u'1', u'name': u'Waterman Road', u'width': u'6.1', u'created_by': u'JOSM', u'source': u'massgis_import_v0.1_20071008165629', u'highway': u'residential', u'attribution': u'Office of Geographic and Environmental Information (MassGIS)', u'massgis:way_id': u'148543', u'condition': u'fair'}}\n",
      "{u'lat': 42.3829, u'lon': -71.139373, u'type': u'node', u'id': 61317509}\n",
      "{u'nodes': [61327031, 61330559, 539997381, 61329862, 61321273], u'type': u'way', u'id': 8614574, u'tags': {u'lanes': u'2', u'name': u'Osborn Street', u'width': u'12.2', u'source': u'massgis_import_v0.1_20071008165629', u'condition': u'fair', u'attribution': u'Office of Geographic and Environmental Information (MassGIS)', u'massgis:way_id': u'197226', u'highway': u'residential'}}\n",
      "{u'lat': 42.3610374, u'lon': -71.0955375, u'type': u'node', u'id': 61327031, u'tags': {u'source': u'massgis_import_v0.1_20071008165629', u'attribution': u'Office of Geographic and Environmental Information (MassGIS)'}}\n",
      "{u'nodes': [61329534, 61324139, 61324141, 61322515, 61330621, 61330645, 61330647, 61317589, 61330625, 61330619, 61329511, 61329626, 61323757], u'type': u'way', u'id': 8614576, u'tags': {u'lanes': u'2', u'name': u'Appleton Street', u'width': u'14.0', u'source': u'massgis_import_v0.1_20071008165629', u'condition': u'fair', u'attribution': u'Office of Geographic and Environmental Information (MassGIS)', u'massgis:way_id': u'118187', u'highway': u'tertiary'}}\n",
      "{u'lat': 42.377429, u'lon': -71.133381, u'type': u'node', u'id': 61329534}\n",
      "{u'nodes': [61318063, 61321584, 61321586], u'type': u'way', u'id': 8614577, u'tags': {u'lanes': u'2', u'name': u'Cogswell Place', u'width': u'6.1', u'created_by': u'JOSM', u'source': u'massgis_import_v0.1_20071008165629', u'highway': u'residential', u'attribution': u'Office of Geographic and Environmental Information (MassGIS)', u'massgis:way_id': u'186883', u'condition': u'fair'}}\n",
      "{u'lat': 42.390011, u'lon': -71.12515, u'type': u'node', u'id': 61318063}\n",
      "{u'nodes': [61322401, 61322445, 61321406], u'type': u'way', u'id': 8614579, u'tags': {u'lanes': u'2', u'name': u'Churchill Avenue', u'width': u'12.2', u'source': u'massgis_import_v0.1_20071008165629', u'condition': u'fair', u'attribution': u'Office of Geographic and Environmental Information (MassGIS)', u'massgis:way_id': u'191855', u'highway': u'residential'}}\n",
      "{u'lat': 42.399847, u'lon': -71.133426, u'type': u'node', u'id': 61322401, u'tags': {u'highway': u'traffic_signals'}}\n"
     ]
    }
   ],
   "source": [
    "elements = cambridge[0]['elements']\n",
    "\n",
    "# Grab all the ways in a list\n",
    "ways = [x for x in elements if x['type'] == 'way']\n",
    "\n",
    "# Turn the nodes into key value pairs where key is the node id\n",
    "nodes = {x['id']: x for x in elements if x['type'] == 'node'}\n",
    "\n",
    "i = 0\n",
    "# Create multiline strings for all ways\n",
    "for way in ways:\n",
    "    if i < 10:\n",
    "        print way\n",
    "        print nodes[way['nodes'][0]]\n",
    "    i += 1"
   ]
  },
  {
   "cell_type": "code",
   "execution_count": 20,
   "metadata": {},
   "outputs": [
    {
     "name": "stdout",
     "output_type": "stream",
     "text": [
      "[((-71.093746, 42.374253), (-71.09386, 42.374701)), ((-71.09386, 42.374701), (-71.094018, 42.375226)), ((-71.094018, 42.375226), (-71.094088, 42.375508)), ((-71.094088, 42.375508), (-71.094108, 42.375592)), ((-71.094108, 42.375592), (-71.094234, 42.375782)), ((-71.094234, 42.375782), (-71.094708, 42.375808)), ((-71.094708, 42.375808), (-71.095239, 42.375868))]\n",
      "[((-71.0755329, 42.3705222), (-71.0759287, 42.3708229)), ((-71.0759287, 42.3708229), (-71.0761423, 42.3709661)), ((-71.0761423, 42.3709661), (-71.0763655, 42.3711056)), ((-71.0763655, 42.3711056), (-71.0764908, 42.3711798)), ((-71.0764908, 42.3711798), (-71.0766269, 42.3712544)), ((-71.0766269, 42.3712544), (-71.076771, 42.371325)), ((-71.076771, 42.371325), (-71.076939, 42.3713971)), ((-71.076939, 42.3713971), (-71.0771155, 42.3714679)), ((-71.0771155, 42.3714679), (-71.0775623, 42.3716339)), ((-71.0775623, 42.3716339), (-71.0777611, 42.3717095))]\n",
      "[((-71.087917, 42.373499), (-71.087911, 42.373517)), ((-71.087911, 42.373517), (-71.087835, 42.373632)), ((-71.087835, 42.373632), (-71.0876727, 42.3737494)), ((-71.0876727, 42.3737494), (-71.087647, 42.373768))]\n",
      "[((-71.124372, 42.393652), (-71.123772, 42.394059))]\n",
      "[((-71.0864613, 42.3730531), (-71.0858023, 42.3740554)), ((-71.0858023, 42.3740554), (-71.0857118, 42.3741468)), ((-71.0857118, 42.3741468), (-71.0856194, 42.3742077)), ((-71.0856194, 42.3742077), (-71.085252, 42.374305)), ((-71.085252, 42.374305), (-71.0851397, 42.3742938)), ((-71.0851397, 42.3742938), (-71.0850273, 42.3742483)), ((-71.0850273, 42.3742483), (-71.0837788, 42.3736829)), ((-71.0837788, 42.3736829), (-71.0835017, 42.3735574)), ((-71.0835017, 42.3735574), (-71.083456, 42.3735367)), ((-71.083456, 42.3735367), (-71.0832214, 42.3734304))]\n",
      "MULTILINESTRING ((-71.093746 42.374253, -71.09386000000001 42.374701), (-71.09386000000001 42.374701, -71.09401800000001 42.375226), (-71.09401800000001 42.375226, -71.094088 42.375508), (-71.094088 42.375508, -71.09410800000001 42.375592), (-71.09410800000001 42.375592, -71.094234 42.375782), (-71.094234 42.375782, -71.094708 42.375808), (-71.094708 42.375808, -71.09523900000001 42.375868))\n",
      "Found 4535 intersections\n",
      "{u'lat': 42.3793477, u'lon': -71.1141215, u'type': u'node', u'id': 3809869824}\n"
     ]
    }
   ],
   "source": [
    "\n",
    "\n",
    "\n",
    "node_counts = {}\n",
    "dup_nodes = {}\n",
    "# Any node that's shared by more than one way is an intersection\n",
    "\n",
    "j = 0\n",
    "way_lines = []\n",
    "for way in ways:\n",
    "    coords = []\n",
    "    way_nodes = way['nodes']\n",
    "    #for n in way['nodes']:\n",
    "    prev = None\n",
    "    for i in range(len(way_nodes)):\n",
    "        n = way_nodes[i]\n",
    "        if prev:\n",
    "            coords.append((\n",
    "            (prev['lon'], prev['lat']),\n",
    "            (nodes[n]['lon'], nodes[n]['lat']),\n",
    "        ))\n",
    "        prev = nodes[n]\n",
    "\n",
    "        if n in node_counts.keys():\n",
    "            dup_nodes[n] = 1\n",
    "\n",
    "        else:\n",
    "            node_counts[n] = 0\n",
    "        node_counts[n] += 1\n",
    "    # Make the multiline string for this way\n",
    "    if j < 5:\n",
    "        print coords\n",
    "    j += 1\n",
    "    way_lines.append(MultiLineString(coords))\n",
    "\n",
    "print way_lines[0]\n",
    "print \"Found \" + str(len(dup_nodes.keys())) + \" intersections\"\n",
    "print nodes.values()[0]"
   ]
  },
  {
   "cell_type": "code",
   "execution_count": 23,
   "metadata": {},
   "outputs": [
    {
     "name": "stdout",
     "output_type": "stream",
     "text": [
      "/home/jenny/boston-crash-modeling\n",
      "finished 0 of 4535\n",
      "finished 500 of 4535\n",
      "finished 1000 of 4535\n",
      "finished 1500 of 4535\n",
      "finished 2000 of 4535\n",
      "finished 2500 of 4535\n",
      "finished 3000 of 4535\n",
      "finished 3500 of 4535\n",
      "finished 4000 of 4535\n",
      "finished 4500 of 4535\n"
     ]
    }
   ],
   "source": [
    "# Write all the ways out\n",
    "schema = {'geometry': 'MultiLineString', 'properties': {}}\n",
    "util.write_shp(schema, BASE_DIR + '/osm-data/processed/maps/ways.shp', way_lines, 0, 1)\n",
    "print BASE_DIR\n",
    "\n",
    "points = []\n",
    "\n",
    "for node in dup_nodes.keys():\n",
    "    points.append((\n",
    "        Point(nodes[node]['lon'], nodes[node]['lat']),\n",
    "        {'node_id': node}\n",
    "    ))\n",
    "schema = {'geometry': 'Point', 'properties': {'node_id': 'int'}}\n",
    "util.write_points(points, schema, BASE_DIR + '/osm-data/processed/maps/osm_inter.shp')"
   ]
  }
 ],
 "metadata": {
  "kernelspec": {
   "display_name": "Python 2",
   "language": "python",
   "name": "python2"
  },
  "language_info": {
   "codemirror_mode": {
    "name": "ipython",
    "version": 2
   },
   "file_extension": ".py",
   "mimetype": "text/x-python",
   "name": "python",
   "nbconvert_exporter": "python",
   "pygments_lexer": "ipython2",
   "version": "2.7.13"
  }
 },
 "nbformat": 4,
 "nbformat_minor": 2
}
