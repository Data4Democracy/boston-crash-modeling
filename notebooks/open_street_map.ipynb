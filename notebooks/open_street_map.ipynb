{
 "cells": [
  {
   "cell_type": "code",
   "execution_count": 160,
   "metadata": {},
   "outputs": [],
   "source": [
    "import osmnx as ox, geopandas as gpd\n",
    "\n",
    "import os\n",
    "BASE_DIR = os.path.dirname(os.getcwd())\n",
    "os.chdir(BASE_DIR + '/src/data/')\n",
    "import util\n",
    "os.chdir(BASE_DIR + '/notebooks/')"
   ]
  },
  {
   "cell_type": "code",
   "execution_count": 161,
   "metadata": {
    "collapsed": true
   },
   "outputs": [],
   "source": [
    "gdf_place = ox.gdf_from_place('Cambridge, Massachusetts, USA')\n",
    "polygon = gdf_place['geometry'].unary_union\n",
    "cambridge = ox.core.osm_net_download(polygon)"
   ]
  },
  {
   "cell_type": "code",
   "execution_count": 172,
   "metadata": {},
   "outputs": [
    {
     "name": "stdout",
     "output_type": "stream",
     "text": [
      "Found 4534 intersections\n",
      "{u'lat': 42.3793477, u'lon': -71.1141215, u'type': u'node', u'id': 3809869824}\n"
     ]
    }
   ],
   "source": [
    "elements = cambridge[0]['elements']\n",
    "values = {}\n",
    "\n",
    "# Grab all the ways in a list\n",
    "ways = [x for x in elements if x['type'] == 'way']\n",
    "\n",
    "# Turn the nodes into key value pairs where key is the node id\n",
    "nodes = {x['id']: x for x in elements if x['type'] == 'node'}\n",
    "\n",
    "node_counts = {}\n",
    "dup_nodes = {}\n",
    "# Any node that's shared by more than one way is an intersection\n",
    "for way in ways:\n",
    "    for n in way['nodes']:\n",
    "        if n in node_counts.keys():\n",
    "            dup_nodes[n] = 1\n",
    "        else:\n",
    "            node_counts[n] = 0\n",
    "        node_counts[n] += 1\n",
    "\n",
    "print \"Found \" + str(len(dup_nodes.keys())) + \" intersections\"\n",
    "print nodes.values()[0]"
   ]
  },
  {
   "cell_type": "code",
   "execution_count": 183,
   "metadata": {},
   "outputs": [
    {
     "name": "stdout",
     "output_type": "stream",
     "text": [
      "finished 0 of 4534\n",
      "finished 500 of 4534\n",
      "finished 1000 of 4534\n",
      "finished 1500 of 4534\n",
      "finished 2000 of 4534\n",
      "finished 2500 of 4534\n",
      "finished 3000 of 4534\n",
      "finished 3500 of 4534\n",
      "finished 4000 of 4534\n",
      "finished 4500 of 4534\n"
     ]
    }
   ],
   "source": [
    "points = []\n",
    "    \n",
    "from shapely.geometry import Point\n",
    "for node in dup_nodes.keys():\n",
    "    points.append((\n",
    "        Point(nodes[node]['lon'], nodes[node]['lat']),\n",
    "        {'node_id': node}\n",
    "    ))\n",
    "schema = {'geometry': 'Point', 'properties': {'node_id': 'int'}}\n",
    "util.write_points(points, schema, BASE_DIR + '/osm-data/processed/maps/osm_inter.shp')"
   ]
  }
 ],
 "metadata": {
  "kernelspec": {
   "display_name": "Python 2",
   "language": "python",
   "name": "python2"
  },
  "language_info": {
   "codemirror_mode": {
    "name": "ipython",
    "version": 2
   },
   "file_extension": ".py",
   "mimetype": "text/x-python",
   "name": "python",
   "nbconvert_exporter": "python",
   "pygments_lexer": "ipython2",
   "version": "2.7.13"
  }
 },
 "nbformat": 4,
 "nbformat_minor": 2
}
