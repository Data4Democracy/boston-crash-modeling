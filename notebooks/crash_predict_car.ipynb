{
 "cells": [
  {
   "cell_type": "markdown",
   "metadata": {},
   "source": [
    "## CAR Model for crash prediction\n",
    "### Developed by: bpben"
   ]
  },
  {
   "cell_type": "code",
   "execution_count": 4,
   "metadata": {
    "collapsed": true
   },
   "outputs": [],
   "source": [
    "import re\n",
    "import csv\n",
    "import os\n",
    "import numpy as np\n",
    "import pandas as pd\n",
    "import matplotlib.pyplot as plt\n",
    "%matplotlib inline\n",
    "import seaborn as sns\n",
    "import scipy.stats as ss\n",
    "from glob import glob\n",
    "from sklearn.metrics import classification_report\n",
    "from sklearn.preprocessing import StandardScaler, MinMaxScaler\n",
    "from scipy.stats import describe"
   ]
  },
  {
   "cell_type": "code",
   "execution_count": 5,
   "metadata": {
    "collapsed": true
   },
   "outputs": [],
   "source": [
    "import json"
   ]
  },
  {
   "cell_type": "code",
   "execution_count": 6,
   "metadata": {
    "collapsed": true
   },
   "outputs": [],
   "source": [
    "import pymc3 as pm\n",
    "from theano import shared\n",
    "import theano\n",
    "import theano.tensor as tt\n",
    "import theano.sparse\n",
    "import scipy.sparse"
   ]
  },
  {
   "cell_type": "markdown",
   "metadata": {},
   "source": [
    "### Data processing\n",
    "The approach here is to create 3 time-lag features:\n",
    "\n",
    "1. crashes in the past week\n",
    "2. crashes in the past month\n",
    "3. crashes in the past quarter (three months)\n",
    "4. average crashes per week up to target week\n",
    "\n",
    "All features except 4 are calculated to exclude one another.  That is, crashes in the past month does not include the past week's crashes.  Crashes in the past quarter do not include the past month."
   ]
  },
  {
   "cell_type": "code",
   "execution_count": 7,
   "metadata": {
    "collapsed": true
   },
   "outputs": [],
   "source": [
    "SEG_CHARS = ['AADT', 'SPEEDLIMIT', 'Struct_Cnd', 'Surface_Tp', 'F_F_Class']"
   ]
  },
  {
   "cell_type": "code",
   "execution_count": 87,
   "metadata": {
    "collapsed": true
   },
   "outputs": [],
   "source": [
    "# Read in data\n",
    "data = pd.read_csv('../data/processed/vz_predict_dataset.csv.gz', \n",
    "                   compression='gzip', dtype={'segment_id':'str'})\n",
    "data.sort_values(['segment_id', 'year','week'], inplace=True)"
   ]
  },
  {
   "cell_type": "code",
   "execution_count": 89,
   "metadata": {
    "collapsed": true
   },
   "outputs": [],
   "source": [
    "# get segments with non-zero crashes\n",
    "data_nonzero = data.set_index('segment_id').loc[data.groupby('segment_id').crash.sum()>0]\n",
    "data_nonzero.reset_index(inplace=True)"
   ]
  },
  {
   "cell_type": "code",
   "execution_count": 96,
   "metadata": {},
   "outputs": [
    {
     "data": {
      "text/html": [
       "<div>\n",
       "<table border=\"1\" class=\"dataframe\">\n",
       "  <thead>\n",
       "    <tr style=\"text-align: right;\">\n",
       "      <th></th>\n",
       "      <th>segment_id</th>\n",
       "      <th>year</th>\n",
       "      <th>week</th>\n",
       "      <th>crash</th>\n",
       "      <th>concern</th>\n",
       "      <th>AADT</th>\n",
       "      <th>SPEEDLIMIT</th>\n",
       "      <th>Struct_Cnd</th>\n",
       "      <th>Surface_Tp</th>\n",
       "      <th>F_F_Class</th>\n",
       "    </tr>\n",
       "  </thead>\n",
       "  <tbody>\n",
       "    <tr>\n",
       "      <th>0</th>\n",
       "      <td>0010</td>\n",
       "      <td>2015</td>\n",
       "      <td>1</td>\n",
       "      <td>0.0</td>\n",
       "      <td>0.0</td>\n",
       "      <td>0</td>\n",
       "      <td>20</td>\n",
       "      <td>2</td>\n",
       "      <td>6</td>\n",
       "      <td>7</td>\n",
       "    </tr>\n",
       "    <tr>\n",
       "      <th>1</th>\n",
       "      <td>0010</td>\n",
       "      <td>2015</td>\n",
       "      <td>2</td>\n",
       "      <td>0.0</td>\n",
       "      <td>0.0</td>\n",
       "      <td>0</td>\n",
       "      <td>20</td>\n",
       "      <td>2</td>\n",
       "      <td>6</td>\n",
       "      <td>7</td>\n",
       "    </tr>\n",
       "    <tr>\n",
       "      <th>2</th>\n",
       "      <td>0010</td>\n",
       "      <td>2015</td>\n",
       "      <td>3</td>\n",
       "      <td>0.0</td>\n",
       "      <td>0.0</td>\n",
       "      <td>0</td>\n",
       "      <td>20</td>\n",
       "      <td>2</td>\n",
       "      <td>6</td>\n",
       "      <td>7</td>\n",
       "    </tr>\n",
       "    <tr>\n",
       "      <th>3</th>\n",
       "      <td>0010</td>\n",
       "      <td>2015</td>\n",
       "      <td>4</td>\n",
       "      <td>0.0</td>\n",
       "      <td>0.0</td>\n",
       "      <td>0</td>\n",
       "      <td>20</td>\n",
       "      <td>2</td>\n",
       "      <td>6</td>\n",
       "      <td>7</td>\n",
       "    </tr>\n",
       "    <tr>\n",
       "      <th>4</th>\n",
       "      <td>0010</td>\n",
       "      <td>2015</td>\n",
       "      <td>5</td>\n",
       "      <td>0.0</td>\n",
       "      <td>0.0</td>\n",
       "      <td>0</td>\n",
       "      <td>20</td>\n",
       "      <td>2</td>\n",
       "      <td>6</td>\n",
       "      <td>7</td>\n",
       "    </tr>\n",
       "  </tbody>\n",
       "</table>\n",
       "</div>"
      ],
      "text/plain": [
       "  segment_id  year  week  crash  concern  AADT  SPEEDLIMIT  Struct_Cnd  \\\n",
       "0       0010  2015     1    0.0      0.0     0          20           2   \n",
       "1       0010  2015     2    0.0      0.0     0          20           2   \n",
       "2       0010  2015     3    0.0      0.0     0          20           2   \n",
       "3       0010  2015     4    0.0      0.0     0          20           2   \n",
       "4       0010  2015     5    0.0      0.0     0          20           2   \n",
       "\n",
       "   Surface_Tp  F_F_Class  \n",
       "0           6          7  \n",
       "1           6          7  \n",
       "2           6          7  \n",
       "3           6          7  \n",
       "4           6          7  "
      ]
     },
     "execution_count": 96,
     "metadata": {},
     "output_type": "execute_result"
    }
   ],
   "source": [
    "data_nonzero.head()"
   ]
  },
  {
   "cell_type": "code",
   "execution_count": 208,
   "metadata": {},
   "outputs": [],
   "source": [
    "def format_crash_data(data, col, target_week, target_year):\n",
    "    \"\"\" formats crash data for train/test \n",
    "    target_week: week to predict (make into binary target)\n",
    "    target_year: year for predicted week\n",
    "    note: data must be available for 4 months prior to target\n",
    "    gets previous week count, previous month count, previous quarter count, avg per week\n",
    "    \n",
    "    \"\"\"\n",
    "\n",
    "    assert target_week>17    \n",
    "    pre_week = target_week - 1\n",
    "    pre_month = range(pre_week-4, target_week)\n",
    "    pre_quarter = range(pre_month[0]-12, target_week)\n",
    "    \n",
    "    # week interval for each segment\n",
    "    # full range = pre_quarter : target\n",
    "    sliced = data.loc[(slice(None),slice(target_year,target_year), slice(1, target_week)),:]\n",
    "    week_data = sliced[col].unstack(2)\n",
    "    week_data.reset_index(level=1, inplace=True)\n",
    "    \n",
    "    # aggregate\n",
    "    week_data['pre_month'] = week_data[pre_month].sum(axis=1)\n",
    "    week_data['pre_quarter'] = week_data[pre_quarter].sum(axis=1)\n",
    "    week_data['pre_week'] = week_data[pre_week]\n",
    "\n",
    "    # avg as of target week\n",
    "    except_target = data.loc[(slice(None),\n",
    "                       slice(target_year,target_year), \n",
    "                       slice(target_week,None)),:].index\n",
    "    avg_week = data.drop(except_target)\n",
    "    avg_week = avg_week.reset_index().groupby('segment_id')[col].mean()\n",
    "    avg_week.name = 'avg_week'\n",
    "    # join to week data\n",
    "    week_data = week_data.join(avg_week)\n",
    "    \n",
    "    # binarize target\n",
    "    week_data['target'] = (week_data[target_week]>0).astype(int)\n",
    "    week_data = week_data.reset_index()\n",
    "    \n",
    "    return(week_data[['segment_id','target', 'pre_week', \n",
    "                      'pre_month', 'pre_quarter', 'avg_week']])"
   ]
  },
  {
   "cell_type": "code",
   "execution_count": 216,
   "metadata": {},
   "outputs": [],
   "source": [
    "# arbitrarily choosing week = 50\n",
    "crash_lags = format_crash_data(data_nonzero.set_index(['segment_id','year','week']), 'crash', 19, 2017)\n",
    "#crash_lags = format_crash_data(data.set_index(['segment_id','week']), 'crash', 50)"
   ]
  },
  {
   "cell_type": "code",
   "execution_count": 220,
   "metadata": {
    "collapsed": true
   },
   "outputs": [],
   "source": [
    "#data_segs = data_nonzero.groupby('segment_id')[SEG_CHARS].max()\n",
    "data_segs = data.groupby('segment_id')[SEG_CHARS].max()\n",
    "data_segs.reset_index(inplace=True)\n",
    "# add crash lags to segments\n",
    "data_model = crash_lags.merge(data_segs, on='segment_id')"
   ]
  },
  {
   "cell_type": "code",
   "execution_count": 221,
   "metadata": {
    "collapsed": true
   },
   "outputs": [],
   "source": [
    "# read in adj\n",
    "adj = pd.read_csv('../data/processed/adjacency_info.csv', dtype={'segment_id':'str'})\n",
    "# only include adj that are in data model\n",
    "adj = adj[adj.segment_id.isin(data_model.segment_id)]\n",
    "# create adj matrix (1 if is adjacent, 0 otherwise)\n",
    "adj_mat = adj.merge(adj, on='orig_id')\n",
    "adj_mat = adj_mat.drop(['orig_id'], axis=1)\n",
    "adj_mat = pd.concat([adj_mat.segment_id_x, pd.get_dummies(adj_mat.segment_id_y)], axis=1)\n",
    "adj_mat = adj_mat.groupby('segment_id_x').max()\n",
    "adj_mat = adj_mat.apply(lambda x: x.astype(float))\n",
    "# fill diagonal (self) with zero\n",
    "np.fill_diagonal(adj_mat.values, 10**-6)\n",
    "adj_mat.index.name = 'segment_id'"
   ]
  },
  {
   "cell_type": "code",
   "execution_count": 222,
   "metadata": {
    "collapsed": true
   },
   "outputs": [],
   "source": [
    "# add adjacency to maintain order\n",
    "data_model = data_model.merge(adj_mat, left_on='segment_id', \n",
    "                              right_index=True, how='left')\n",
    "amat = data_model[data_model.segment_id.unique()].values"
   ]
  },
  {
   "cell_type": "code",
   "execution_count": 223,
   "metadata": {
    "collapsed": true
   },
   "outputs": [],
   "source": [
    "data_model['speed_g30'] = (data_model.SPEEDLIMIT>30).astype(int)"
   ]
  },
  {
   "cell_type": "code",
   "execution_count": 224,
   "metadata": {
    "collapsed": true
   },
   "outputs": [],
   "source": [
    "# prepare data\n",
    "N = len(data_model) # number of observations\n",
    "O = data_model.target.values"
   ]
  },
  {
   "cell_type": "code",
   "execution_count": 53,
   "metadata": {
    "collapsed": true
   },
   "outputs": [],
   "source": [
    "# try observed as 52 trials\n",
    "o_trials = data_nonzero.set_index(['segment_id','week'])['crash'].unstack()\n",
    "o_trials = o_trials.loc[data_model.segment_id].values"
   ]
  },
  {
   "cell_type": "markdown",
   "metadata": {},
   "source": [
    "## working CAR class and model"
   ]
  },
  {
   "cell_type": "code",
   "execution_count": 225,
   "metadata": {
    "scrolled": true
   },
   "outputs": [
    {
     "name": "stderr",
     "output_type": "stream",
     "text": [
      "Auto-assigning NUTS sampler...\n",
      "Initializing NUTS using advi...\n",
      "\n",
      "  0%|          | 0/200000 [00:00<?, ?it/s]\u001b[A\n",
      "  0%|          | 57/200000 [00:00<05:54, 563.74it/s]\u001b[A\n",
      "  0%|          | 113/200000 [00:00<05:56, 560.77it/s]\u001b[A\n",
      "  0%|          | 164/200000 [00:00<06:07, 543.28it/s]\u001b[A\n",
      "  0%|          | 213/200000 [00:00<06:20, 525.01it/s]\u001b[A\n",
      "  0%|          | 256/200000 [00:00<06:45, 492.03it/s]\u001b[A\n",
      "  0%|          | 313/200000 [00:00<06:30, 511.27it/s]\u001b[A\n",
      "  0%|          | 359/200000 [00:00<06:49, 487.43it/s]\u001b[A\n",
      "  0%|          | 414/200000 [00:00<06:36, 503.72it/s]\u001b[A\n",
      "  0%|          | 464/200000 [00:00<06:38, 501.03it/s]\u001b[A\n",
      "  0%|          | 513/200000 [00:01<06:46, 491.26it/s]\u001b[A\n",
      "  0%|          | 565/200000 [00:01<06:40, 498.07it/s]\u001b[A\n",
      "  0%|          | 614/200000 [00:01<06:45, 491.79it/s]\u001b[A\n",
      "  0%|          | 663/200000 [00:01<06:49, 486.70it/s]\u001b[A\n",
      "  0%|          | 712/200000 [00:01<06:49, 487.15it/s]\u001b[A\n",
      "  0%|          | 761/200000 [00:01<06:59, 475.00it/s]\u001b[A\n",
      "  0%|          | 809/200000 [00:01<07:01, 472.95it/s]\u001b[A\n",
      "  0%|          | 859/200000 [00:01<06:55, 479.18it/s]\u001b[A\n",
      "  0%|          | 907/200000 [00:01<07:04, 468.49it/s]\u001b[A\n",
      "  0%|          | 959/200000 [00:01<06:52, 482.45it/s]\u001b[A\n",
      "  1%|          | 1011/200000 [00:02<06:44, 492.18it/s]\u001b[A\n",
      "  1%|          | 1064/200000 [00:02<06:36, 501.20it/s]\u001b[A\n",
      "  1%|          | 1115/200000 [00:02<06:42, 494.54it/s]\u001b[A\n",
      "  1%|          | 1165/200000 [00:02<06:42, 494.08it/s]\u001b[A\n",
      "  1%|          | 1215/200000 [00:02<06:49, 485.71it/s]\u001b[A\n",
      "  1%|          | 1273/200000 [00:02<06:29, 510.27it/s]\u001b[A\n",
      "  1%|          | 1327/200000 [00:02<06:23, 518.32it/s]\u001b[A\n",
      "  1%|          | 1380/200000 [00:02<06:23, 518.41it/s]\u001b[A\n",
      "  1%|          | 1441/200000 [00:02<06:06, 542.44it/s]\u001b[A\n",
      "  1%|          | 1496/200000 [00:02<06:07, 540.75it/s]\u001b[A\n",
      "  1%|          | 1551/200000 [00:03<06:13, 531.60it/s]\u001b[A\n",
      "  1%|          | 1605/200000 [00:03<06:16, 526.55it/s]\u001b[A\n",
      "  1%|          | 1661/200000 [00:03<06:10, 535.87it/s]\u001b[A\n",
      "  1%|          | 1715/200000 [00:03<06:13, 530.57it/s]\u001b[A\n",
      "  1%|          | 1769/200000 [00:03<06:16, 526.76it/s]\u001b[A\n",
      "  1%|          | 1823/200000 [00:03<06:13, 530.35it/s]\u001b[A\n",
      "  1%|          | 1882/200000 [00:03<06:03, 544.86it/s]\u001b[A\n",
      "  1%|          | 1937/200000 [00:03<06:06, 539.91it/s]\u001b[A\n",
      "  1%|          | 1992/200000 [00:03<06:05, 542.24it/s]\u001b[A\n",
      "  1%|          | 2047/200000 [00:03<06:07, 538.39it/s]\u001b[A\n",
      "  1%|          | 2107/200000 [00:04<05:57, 552.89it/s]\u001b[A\n",
      "  1%|          | 2167/200000 [00:04<05:49, 565.99it/s]\u001b[A\n",
      "  1%|          | 2224/200000 [00:04<05:57, 552.46it/s]\u001b[A\n",
      "  1%|          | 2284/200000 [00:04<05:50, 564.40it/s]\u001b[A\n",
      "  1%|          | 2341/200000 [00:04<05:57, 553.28it/s]\u001b[A\n",
      "  1%|          | 2397/200000 [00:04<05:59, 549.45it/s]\u001b[A\n",
      "  1%|          | 2453/200000 [00:04<06:06, 539.66it/s]\u001b[A\n",
      "  1%|▏         | 2508/200000 [00:04<06:07, 536.99it/s]\u001b[A\n",
      "  1%|▏         | 2563/200000 [00:04<06:06, 538.69it/s]\u001b[A\n",
      "  1%|▏         | 2617/200000 [00:05<06:08, 536.11it/s]\u001b[A\n",
      "  1%|▏         | 2671/200000 [00:05<06:09, 534.30it/s]\u001b[A\n",
      "  1%|▏         | 2725/200000 [00:05<06:10, 532.51it/s]\u001b[A\n",
      "  1%|▏         | 2779/200000 [00:05<06:12, 529.28it/s]\u001b[A\n",
      "  1%|▏         | 2833/200000 [00:05<06:11, 530.49it/s]\u001b[A\n",
      "  1%|▏         | 2887/200000 [00:05<06:12, 529.41it/s]\u001b[A\n",
      "  1%|▏         | 2948/200000 [00:05<05:57, 551.08it/s]\u001b[A\n",
      "  2%|▏         | 3008/200000 [00:05<05:49, 563.32it/s]\u001b[A\n",
      "  2%|▏         | 3065/200000 [00:05<05:55, 554.03it/s]\u001b[A\n",
      "  2%|▏         | 3127/200000 [00:05<05:45, 569.76it/s]\u001b[A\n",
      "  2%|▏         | 3185/200000 [00:06<05:58, 549.36it/s]\u001b[A\n",
      "\n",
      "  2%|▏         | 3241/200000 [00:06<06:18, 520.38it/s]\u001b[A\n",
      "  2%|▏         | 3296/200000 [00:06<06:12, 528.47it/s]\u001b[A\n",
      "  2%|▏         | 3351/200000 [00:06<06:09, 532.79it/s]\u001b[A\n",
      "  2%|▏         | 3405/200000 [00:06<06:15, 524.06it/s]\u001b[A\n",
      "  2%|▏         | 3464/200000 [00:06<06:04, 539.63it/s]\u001b[A\n",
      "  2%|▏         | 3519/200000 [00:06<06:15, 523.46it/s]\u001b[A\n",
      "  2%|▏         | 3572/200000 [00:06<06:21, 514.68it/s]\u001b[A\n",
      "  2%|▏         | 3624/200000 [00:06<06:23, 511.77it/s]\u001b[A\n",
      "  2%|▏         | 3677/200000 [00:07<06:20, 515.85it/s]\u001b[A\n",
      "  2%|▏         | 3729/200000 [00:07<06:20, 516.47it/s]\u001b[A\n",
      "  2%|▏         | 3781/200000 [00:07<06:21, 514.35it/s]\u001b[A\n",
      "  2%|▏         | 3840/200000 [00:07<06:07, 534.23it/s]\u001b[A\n",
      "  2%|▏         | 3900/200000 [00:07<05:56, 550.33it/s]\u001b[A\n",
      "  2%|▏         | 3959/200000 [00:07<05:49, 561.29it/s]\u001b[A\n",
      "  2%|▏         | 4019/200000 [00:07<05:42, 571.41it/s]\u001b[A\n",
      "  2%|▏         | 4077/200000 [00:07<05:48, 561.71it/s]\u001b[A\n",
      "  2%|▏         | 4134/200000 [00:07<05:55, 550.99it/s]\u001b[A\n",
      "  2%|▏         | 4190/200000 [00:07<05:58, 545.74it/s]\u001b[A\n",
      "  2%|▏         | 4245/200000 [00:08<06:02, 539.31it/s]\u001b[A\n",
      "  2%|▏         | 4300/200000 [00:08<06:02, 540.05it/s]\u001b[A\n",
      "  2%|▏         | 4355/200000 [00:08<06:03, 538.96it/s]\u001b[A\n",
      "  2%|▏         | 4409/200000 [00:08<06:03, 537.68it/s]\u001b[A\n",
      "  2%|▏         | 4463/200000 [00:08<06:08, 530.82it/s]\u001b[A\n",
      "  2%|▏         | 4517/200000 [00:08<06:12, 525.04it/s]\u001b[A\n",
      "  2%|▏         | 4571/200000 [00:08<06:09, 528.87it/s]\u001b[A\n",
      "  2%|▏         | 4625/200000 [00:08<06:08, 530.69it/s]\u001b[A\n",
      "  2%|▏         | 4679/200000 [00:08<06:11, 526.06it/s]\u001b[A\n",
      "  2%|▏         | 4740/200000 [00:08<05:55, 548.59it/s]\u001b[A\n",
      "  2%|▏         | 4796/200000 [00:09<05:59, 542.73it/s]\u001b[A\n",
      "  2%|▏         | 4851/200000 [00:09<06:09, 527.57it/s]\u001b[A\n",
      "  2%|▏         | 4904/200000 [00:09<06:10, 526.65it/s]\u001b[A\n",
      "  2%|▏         | 4958/200000 [00:09<06:09, 528.55it/s]\u001b[A\n",
      "  3%|▎         | 5011/200000 [00:09<06:08, 528.76it/s]\u001b[A\n",
      "  3%|▎         | 5064/200000 [00:09<06:09, 527.06it/s]\u001b[A\n",
      "  3%|▎         | 5117/200000 [00:09<06:10, 525.39it/s]\u001b[A\n",
      "  3%|▎         | 5170/200000 [00:09<06:15, 519.40it/s]\u001b[A\n",
      "  3%|▎         | 5228/200000 [00:09<06:04, 534.59it/s]\u001b[A\n",
      "  3%|▎         | 5282/200000 [00:10<06:07, 529.62it/s]\u001b[A\n",
      "  3%|▎         | 5336/200000 [00:10<06:09, 527.04it/s]\u001b[A\n",
      "  3%|▎         | 5389/200000 [00:10<06:15, 518.22it/s]\u001b[A\n",
      "  3%|▎         | 5441/200000 [00:10<06:15, 518.31it/s]\u001b[A\n",
      "  3%|▎         | 5494/200000 [00:10<06:14, 519.49it/s]\u001b[A\n",
      "  3%|▎         | 5547/200000 [00:10<06:13, 521.08it/s]\u001b[A\n",
      "  3%|▎         | 5600/200000 [00:10<06:23, 506.58it/s]\u001b[A\n",
      "  3%|▎         | 5651/200000 [00:10<06:39, 486.45it/s]\u001b[A\n",
      "  3%|▎         | 5700/200000 [00:10<06:49, 474.20it/s]\u001b[A\n",
      "  3%|▎         | 5748/200000 [00:10<07:00, 461.50it/s]\u001b[A\n",
      "  3%|▎         | 5795/200000 [00:11<07:06, 454.93it/s]\u001b[A\n",
      "  3%|▎         | 5841/200000 [00:11<07:05, 455.87it/s]\u001b[A\n",
      "  3%|▎         | 5891/200000 [00:11<06:54, 468.21it/s]\u001b[A\n",
      "  3%|▎         | 5945/200000 [00:11<06:38, 487.07it/s]\u001b[A\n",
      "  3%|▎         | 5995/200000 [00:11<06:41, 482.72it/s]\u001b[A\n",
      "  3%|▎         | 6044/200000 [00:11<06:42, 481.53it/s]\u001b[A\n",
      "  3%|▎         | 6094/200000 [00:11<06:38, 486.29it/s]\u001b[A\n",
      "  3%|▎         | 6148/200000 [00:11<06:27, 500.45it/s]\u001b[A\n",
      "  3%|▎         | 6202/200000 [00:11<06:21, 508.49it/s]\u001b[A\n",
      "  3%|▎         | 6254/200000 [00:11<06:19, 511.16it/s]\u001b[A\n",
      "  3%|▎         | 6307/200000 [00:12<06:16, 514.56it/s]\u001b[A\n",
      "  3%|▎         | 6360/200000 [00:12<06:13, 518.34it/s]\u001b[A\n",
      "  3%|▎         | 6412/200000 [00:12<06:13, 518.44it/s]\u001b[A\n",
      "  3%|▎         | 6464/200000 [00:12<06:14, 517.28it/s]\u001b[A\n",
      "  3%|▎         | 6516/200000 [00:12<06:15, 515.81it/s]\u001b[A\n",
      "  3%|▎         | 6568/200000 [00:12<06:25, 501.35it/s]\u001b[AInterrupted at 6,611 [3%]: Average ELBO = -3.7123e+07\n"
     ]
    },
    {
     "ename": "KeyboardInterrupt",
     "evalue": "",
     "output_type": "error",
     "traceback": [
      "\u001b[0;31m---------------------------------------------------------------------------\u001b[0m",
      "\u001b[0;31mKeyboardInterrupt\u001b[0m                         Traceback (most recent call last)",
      "\u001b[0;32m<ipython-input-225-fb56e1b20ab5>\u001b[0m in \u001b[0;36m<module>\u001b[0;34m()\u001b[0m\n\u001b[1;32m     45\u001b[0m     \u001b[0mobs_crash\u001b[0m \u001b[0;34m=\u001b[0m \u001b[0mpm\u001b[0m\u001b[0;34m.\u001b[0m\u001b[0mBinomial\u001b[0m\u001b[0;34m(\u001b[0m\u001b[0;34m'obs_crash'\u001b[0m\u001b[0;34m,\u001b[0m \u001b[0mn\u001b[0m\u001b[0;34m=\u001b[0m\u001b[0mN\u001b[0m\u001b[0;34m,\u001b[0m \u001b[0mp\u001b[0m\u001b[0;34m=\u001b[0m\u001b[0mtheta\u001b[0m\u001b[0;34m,\u001b[0m \u001b[0mobserved\u001b[0m\u001b[0;34m=\u001b[0m\u001b[0mO\u001b[0m\u001b[0;34m)\u001b[0m\u001b[0;34m\u001b[0m\u001b[0m\n\u001b[1;32m     46\u001b[0m \u001b[0;34m\u001b[0m\u001b[0m\n\u001b[0;32m---> 47\u001b[0;31m     \u001b[0mtrace\u001b[0m \u001b[0;34m=\u001b[0m \u001b[0mpm\u001b[0m\u001b[0;34m.\u001b[0m\u001b[0msample\u001b[0m\u001b[0;34m(\u001b[0m\u001b[0;36m2000\u001b[0m\u001b[0;34m,\u001b[0m \u001b[0mtune\u001b[0m\u001b[0;34m=\u001b[0m\u001b[0;36m1000\u001b[0m\u001b[0;34m,\u001b[0m \u001b[0mnjobs\u001b[0m\u001b[0;34m=\u001b[0m\u001b[0;36m4\u001b[0m\u001b[0;34m)\u001b[0m\u001b[0;34m\u001b[0m\u001b[0m\n\u001b[0m",
      "\u001b[0;32m/Users/B/anaconda/envs/boston-crash-model/lib/python2.7/site-packages/pymc3/sampling.pyc\u001b[0m in \u001b[0;36msample\u001b[0;34m(draws, step, init, n_init, start, trace, chain, njobs, tune, progressbar, model, random_seed)\u001b[0m\n\u001b[1;32m    147\u001b[0m         \u001b[0;31m# By default, use NUTS sampler\u001b[0m\u001b[0;34m\u001b[0m\u001b[0;34m\u001b[0m\u001b[0m\n\u001b[1;32m    148\u001b[0m         \u001b[0mpm\u001b[0m\u001b[0;34m.\u001b[0m\u001b[0m_log\u001b[0m\u001b[0;34m.\u001b[0m\u001b[0minfo\u001b[0m\u001b[0;34m(\u001b[0m\u001b[0;34m'Auto-assigning NUTS sampler...'\u001b[0m\u001b[0;34m)\u001b[0m\u001b[0;34m\u001b[0m\u001b[0m\n\u001b[0;32m--> 149\u001b[0;31m         \u001b[0mstart_\u001b[0m\u001b[0;34m,\u001b[0m \u001b[0mstep\u001b[0m \u001b[0;34m=\u001b[0m \u001b[0minit_nuts\u001b[0m\u001b[0;34m(\u001b[0m\u001b[0minit\u001b[0m\u001b[0;34m=\u001b[0m\u001b[0minit\u001b[0m\u001b[0;34m,\u001b[0m \u001b[0mn_init\u001b[0m\u001b[0;34m=\u001b[0m\u001b[0mn_init\u001b[0m\u001b[0;34m,\u001b[0m \u001b[0mmodel\u001b[0m\u001b[0;34m=\u001b[0m\u001b[0mmodel\u001b[0m\u001b[0;34m)\u001b[0m\u001b[0;34m\u001b[0m\u001b[0m\n\u001b[0m\u001b[1;32m    150\u001b[0m         \u001b[0;32mif\u001b[0m \u001b[0mstart\u001b[0m \u001b[0;32mis\u001b[0m \u001b[0mNone\u001b[0m\u001b[0;34m:\u001b[0m\u001b[0;34m\u001b[0m\u001b[0m\n\u001b[1;32m    151\u001b[0m             \u001b[0mstart\u001b[0m \u001b[0;34m=\u001b[0m \u001b[0mstart_\u001b[0m\u001b[0;34m\u001b[0m\u001b[0m\n",
      "\u001b[0;32m/Users/B/anaconda/envs/boston-crash-model/lib/python2.7/site-packages/pymc3/sampling.pyc\u001b[0m in \u001b[0;36minit_nuts\u001b[0;34m(init, n_init, model, **kwargs)\u001b[0m\n\u001b[1;32m    451\u001b[0m         \u001b[0;32mraise\u001b[0m \u001b[0mNotImplemented\u001b[0m\u001b[0;34m(\u001b[0m\u001b[0;34m'Initializer {} is not supported.'\u001b[0m\u001b[0;34m.\u001b[0m\u001b[0mformat\u001b[0m\u001b[0;34m(\u001b[0m\u001b[0minit\u001b[0m\u001b[0;34m)\u001b[0m\u001b[0;34m)\u001b[0m\u001b[0;34m\u001b[0m\u001b[0m\n\u001b[1;32m    452\u001b[0m \u001b[0;34m\u001b[0m\u001b[0m\n\u001b[0;32m--> 453\u001b[0;31m     \u001b[0mstep\u001b[0m \u001b[0;34m=\u001b[0m \u001b[0mpm\u001b[0m\u001b[0;34m.\u001b[0m\u001b[0mNUTS\u001b[0m\u001b[0;34m(\u001b[0m\u001b[0mscaling\u001b[0m\u001b[0;34m=\u001b[0m\u001b[0mcov\u001b[0m\u001b[0;34m,\u001b[0m \u001b[0mis_cov\u001b[0m\u001b[0;34m=\u001b[0m\u001b[0mTrue\u001b[0m\u001b[0;34m,\u001b[0m \u001b[0;34m**\u001b[0m\u001b[0mkwargs\u001b[0m\u001b[0;34m)\u001b[0m\u001b[0;34m\u001b[0m\u001b[0m\n\u001b[0m\u001b[1;32m    454\u001b[0m \u001b[0;34m\u001b[0m\u001b[0m\n\u001b[1;32m    455\u001b[0m     \u001b[0;32mreturn\u001b[0m \u001b[0mstart\u001b[0m\u001b[0;34m,\u001b[0m \u001b[0mstep\u001b[0m\u001b[0;34m\u001b[0m\u001b[0m\n",
      "\u001b[0;32m/Users/B/anaconda/envs/boston-crash-model/lib/python2.7/site-packages/pymc3/step_methods/nuts.pyc\u001b[0m in \u001b[0;36m__init__\u001b[0;34m(self, vars, scaling, step_scale, is_cov, state, Emax, target_accept, gamma, k, t0, model, profile, **kwargs)\u001b[0m\n\u001b[1;32m    112\u001b[0m             \u001b[0;32mreturn\u001b[0m \u001b[0mE0_func\u001b[0m\u001b[0;34m\u001b[0m\u001b[0m\n\u001b[1;32m    113\u001b[0m \u001b[0;34m\u001b[0m\u001b[0m\n\u001b[0;32m--> 114\u001b[0;31m         \u001b[0mself\u001b[0m\u001b[0;34m.\u001b[0m\u001b[0mH\u001b[0m\u001b[0;34m,\u001b[0m \u001b[0mq\u001b[0m \u001b[0;34m=\u001b[0m \u001b[0mcreate_hamiltonian\u001b[0m\u001b[0;34m(\u001b[0m\u001b[0mvars\u001b[0m\u001b[0;34m,\u001b[0m \u001b[0mshared\u001b[0m\u001b[0;34m,\u001b[0m \u001b[0mmodel\u001b[0m\u001b[0;34m)\u001b[0m\u001b[0;34m\u001b[0m\u001b[0m\n\u001b[0m\u001b[1;32m    115\u001b[0m         \u001b[0mself\u001b[0m\u001b[0;34m.\u001b[0m\u001b[0mcompute_energy\u001b[0m \u001b[0;34m=\u001b[0m \u001b[0mcreate_energy_func\u001b[0m\u001b[0;34m(\u001b[0m\u001b[0mq\u001b[0m\u001b[0;34m)\u001b[0m\u001b[0;34m\u001b[0m\u001b[0m\n\u001b[1;32m    116\u001b[0m \u001b[0;34m\u001b[0m\u001b[0m\n",
      "\u001b[0;32m/Users/B/anaconda/envs/boston-crash-model/lib/python2.7/site-packages/pymc3/step_methods/nuts.pyc\u001b[0m in \u001b[0;36mcreate_hamiltonian\u001b[0;34m(vars, shared, model)\u001b[0m\n\u001b[1;32m     95\u001b[0m \u001b[0;34m\u001b[0m\u001b[0m\n\u001b[1;32m     96\u001b[0m         \u001b[0;32mdef\u001b[0m \u001b[0mcreate_hamiltonian\u001b[0m\u001b[0;34m(\u001b[0m\u001b[0mvars\u001b[0m\u001b[0;34m,\u001b[0m \u001b[0mshared\u001b[0m\u001b[0;34m,\u001b[0m \u001b[0mmodel\u001b[0m\u001b[0;34m)\u001b[0m\u001b[0;34m:\u001b[0m\u001b[0;34m\u001b[0m\u001b[0m\n\u001b[0;32m---> 97\u001b[0;31m             \u001b[0mdlogp\u001b[0m \u001b[0;34m=\u001b[0m \u001b[0mgradient\u001b[0m\u001b[0;34m(\u001b[0m\u001b[0mmodel\u001b[0m\u001b[0;34m.\u001b[0m\u001b[0mlogpt\u001b[0m\u001b[0;34m,\u001b[0m \u001b[0mvars\u001b[0m\u001b[0;34m)\u001b[0m\u001b[0;34m\u001b[0m\u001b[0m\n\u001b[0m\u001b[1;32m     98\u001b[0m             (logp, dlogp), q = join_nonshared_inputs(\n\u001b[1;32m     99\u001b[0m                 [model.logpt, dlogp], vars, shared)\n",
      "\u001b[0;32m/Users/B/anaconda/envs/boston-crash-model/lib/python2.7/site-packages/pymc3/memoize.pyc\u001b[0m in \u001b[0;36mmemoizer\u001b[0;34m(*args, **kwargs)\u001b[0m\n\u001b[1;32m     13\u001b[0m \u001b[0;34m\u001b[0m\u001b[0m\n\u001b[1;32m     14\u001b[0m         \u001b[0;32mif\u001b[0m \u001b[0mkey\u001b[0m \u001b[0;32mnot\u001b[0m \u001b[0;32min\u001b[0m \u001b[0mcache\u001b[0m\u001b[0;34m:\u001b[0m\u001b[0;34m\u001b[0m\u001b[0m\n\u001b[0;32m---> 15\u001b[0;31m             \u001b[0mcache\u001b[0m\u001b[0;34m[\u001b[0m\u001b[0mkey\u001b[0m\u001b[0;34m]\u001b[0m \u001b[0;34m=\u001b[0m \u001b[0mobj\u001b[0m\u001b[0;34m(\u001b[0m\u001b[0;34m*\u001b[0m\u001b[0margs\u001b[0m\u001b[0;34m,\u001b[0m \u001b[0;34m**\u001b[0m\u001b[0mkwargs\u001b[0m\u001b[0;34m)\u001b[0m\u001b[0;34m\u001b[0m\u001b[0m\n\u001b[0m\u001b[1;32m     16\u001b[0m \u001b[0;34m\u001b[0m\u001b[0m\n\u001b[1;32m     17\u001b[0m         \u001b[0;32mreturn\u001b[0m \u001b[0mcache\u001b[0m\u001b[0;34m[\u001b[0m\u001b[0mkey\u001b[0m\u001b[0;34m]\u001b[0m\u001b[0;34m\u001b[0m\u001b[0m\n",
      "\u001b[0;32m/Users/B/anaconda/envs/boston-crash-model/lib/python2.7/site-packages/pymc3/theanof.pyc\u001b[0m in \u001b[0;36mgradient\u001b[0;34m(f, vars)\u001b[0m\n\u001b[1;32m     58\u001b[0m \u001b[0;34m\u001b[0m\u001b[0m\n\u001b[1;32m     59\u001b[0m     \u001b[0;32mif\u001b[0m \u001b[0mvars\u001b[0m\u001b[0;34m:\u001b[0m\u001b[0;34m\u001b[0m\u001b[0m\n\u001b[0;32m---> 60\u001b[0;31m         \u001b[0;32mreturn\u001b[0m \u001b[0mtt\u001b[0m\u001b[0;34m.\u001b[0m\u001b[0mconcatenate\u001b[0m\u001b[0;34m(\u001b[0m\u001b[0;34m[\u001b[0m\u001b[0mgradient1\u001b[0m\u001b[0;34m(\u001b[0m\u001b[0mf\u001b[0m\u001b[0;34m,\u001b[0m \u001b[0mv\u001b[0m\u001b[0;34m)\u001b[0m \u001b[0;32mfor\u001b[0m \u001b[0mv\u001b[0m \u001b[0;32min\u001b[0m \u001b[0mvars\u001b[0m\u001b[0;34m]\u001b[0m\u001b[0;34m,\u001b[0m \u001b[0maxis\u001b[0m\u001b[0;34m=\u001b[0m\u001b[0;36m0\u001b[0m\u001b[0;34m)\u001b[0m\u001b[0;34m\u001b[0m\u001b[0m\n\u001b[0m\u001b[1;32m     61\u001b[0m     \u001b[0;32melse\u001b[0m\u001b[0;34m:\u001b[0m\u001b[0;34m\u001b[0m\u001b[0m\n\u001b[1;32m     62\u001b[0m         \u001b[0;32mreturn\u001b[0m \u001b[0mempty_gradient\u001b[0m\u001b[0;34m\u001b[0m\u001b[0m\n",
      "\u001b[0;32m/Users/B/anaconda/envs/boston-crash-model/lib/python2.7/site-packages/pymc3/theanof.pyc\u001b[0m in \u001b[0;36mgradient1\u001b[0;34m(f, v)\u001b[0m\n\u001b[1;32m     46\u001b[0m \u001b[0;32mdef\u001b[0m \u001b[0mgradient1\u001b[0m\u001b[0;34m(\u001b[0m\u001b[0mf\u001b[0m\u001b[0;34m,\u001b[0m \u001b[0mv\u001b[0m\u001b[0;34m)\u001b[0m\u001b[0;34m:\u001b[0m\u001b[0;34m\u001b[0m\u001b[0m\n\u001b[1;32m     47\u001b[0m     \u001b[0;34m\"\"\"flat gradient of f wrt v\"\"\"\u001b[0m\u001b[0;34m\u001b[0m\u001b[0m\n\u001b[0;32m---> 48\u001b[0;31m     \u001b[0;32mreturn\u001b[0m \u001b[0mtt\u001b[0m\u001b[0;34m.\u001b[0m\u001b[0mflatten\u001b[0m\u001b[0;34m(\u001b[0m\u001b[0mtt\u001b[0m\u001b[0;34m.\u001b[0m\u001b[0mgrad\u001b[0m\u001b[0;34m(\u001b[0m\u001b[0mf\u001b[0m\u001b[0;34m,\u001b[0m \u001b[0mv\u001b[0m\u001b[0;34m,\u001b[0m \u001b[0mdisconnected_inputs\u001b[0m\u001b[0;34m=\u001b[0m\u001b[0;34m'warn'\u001b[0m\u001b[0;34m)\u001b[0m\u001b[0;34m)\u001b[0m\u001b[0;34m\u001b[0m\u001b[0m\n\u001b[0m\u001b[1;32m     49\u001b[0m \u001b[0;34m\u001b[0m\u001b[0m\n\u001b[1;32m     50\u001b[0m \u001b[0;34m\u001b[0m\u001b[0m\n",
      "\u001b[0;32m/Users/B/anaconda/envs/boston-crash-model/lib/python2.7/site-packages/theano/gradient.pyc\u001b[0m in \u001b[0;36mgrad\u001b[0;34m(cost, wrt, consider_constant, disconnected_inputs, add_names, known_grads, return_disconnected, null_gradients)\u001b[0m\n\u001b[1;32m    553\u001b[0m \u001b[0;34m\u001b[0m\u001b[0m\n\u001b[1;32m    554\u001b[0m     rval = _populate_grad_dict(var_to_app_to_idx,\n\u001b[0;32m--> 555\u001b[0;31m                                grad_dict, wrt, cost_name)\n\u001b[0m\u001b[1;32m    556\u001b[0m \u001b[0;34m\u001b[0m\u001b[0m\n\u001b[1;32m    557\u001b[0m     \u001b[0;32mfor\u001b[0m \u001b[0mi\u001b[0m \u001b[0;32min\u001b[0m \u001b[0mxrange\u001b[0m\u001b[0;34m(\u001b[0m\u001b[0mlen\u001b[0m\u001b[0;34m(\u001b[0m\u001b[0mrval\u001b[0m\u001b[0;34m)\u001b[0m\u001b[0;34m)\u001b[0m\u001b[0;34m:\u001b[0m\u001b[0;34m\u001b[0m\u001b[0m\n",
      "\u001b[0;32m/Users/B/anaconda/envs/boston-crash-model/lib/python2.7/site-packages/theano/gradient.pyc\u001b[0m in \u001b[0;36m_populate_grad_dict\u001b[0;34m(var_to_app_to_idx, grad_dict, wrt, cost_name)\u001b[0m\n\u001b[1;32m   1315\u001b[0m         \u001b[0;32mreturn\u001b[0m \u001b[0mgrad_dict\u001b[0m\u001b[0;34m[\u001b[0m\u001b[0mvar\u001b[0m\u001b[0;34m]\u001b[0m\u001b[0;34m\u001b[0m\u001b[0m\n\u001b[1;32m   1316\u001b[0m \u001b[0;34m\u001b[0m\u001b[0m\n\u001b[0;32m-> 1317\u001b[0;31m     \u001b[0mrval\u001b[0m \u001b[0;34m=\u001b[0m \u001b[0;34m[\u001b[0m\u001b[0maccess_grad_cache\u001b[0m\u001b[0;34m(\u001b[0m\u001b[0melem\u001b[0m\u001b[0;34m)\u001b[0m \u001b[0;32mfor\u001b[0m \u001b[0melem\u001b[0m \u001b[0;32min\u001b[0m \u001b[0mwrt\u001b[0m\u001b[0;34m]\u001b[0m\u001b[0;34m\u001b[0m\u001b[0m\n\u001b[0m\u001b[1;32m   1318\u001b[0m \u001b[0;34m\u001b[0m\u001b[0m\n\u001b[1;32m   1319\u001b[0m     \u001b[0;32mreturn\u001b[0m \u001b[0mrval\u001b[0m\u001b[0;34m\u001b[0m\u001b[0m\n",
      "\u001b[0;32m/Users/B/anaconda/envs/boston-crash-model/lib/python2.7/site-packages/theano/gradient.pyc\u001b[0m in \u001b[0;36maccess_grad_cache\u001b[0;34m(var)\u001b[0m\n\u001b[1;32m   1270\u001b[0m                     \u001b[0;32mfor\u001b[0m \u001b[0midx\u001b[0m \u001b[0;32min\u001b[0m \u001b[0mnode_to_idx\u001b[0m\u001b[0;34m[\u001b[0m\u001b[0mnode\u001b[0m\u001b[0;34m]\u001b[0m\u001b[0;34m:\u001b[0m\u001b[0;34m\u001b[0m\u001b[0m\n\u001b[1;32m   1271\u001b[0m \u001b[0;34m\u001b[0m\u001b[0m\n\u001b[0;32m-> 1272\u001b[0;31m                         \u001b[0mterm\u001b[0m \u001b[0;34m=\u001b[0m \u001b[0maccess_term_cache\u001b[0m\u001b[0;34m(\u001b[0m\u001b[0mnode\u001b[0m\u001b[0;34m)\u001b[0m\u001b[0;34m[\u001b[0m\u001b[0midx\u001b[0m\u001b[0;34m]\u001b[0m\u001b[0;34m\u001b[0m\u001b[0m\n\u001b[0m\u001b[1;32m   1273\u001b[0m \u001b[0;34m\u001b[0m\u001b[0m\n\u001b[1;32m   1274\u001b[0m                         \u001b[0;32mif\u001b[0m \u001b[0;32mnot\u001b[0m \u001b[0misinstance\u001b[0m\u001b[0;34m(\u001b[0m\u001b[0mterm\u001b[0m\u001b[0;34m,\u001b[0m \u001b[0mgof\u001b[0m\u001b[0;34m.\u001b[0m\u001b[0mVariable\u001b[0m\u001b[0;34m)\u001b[0m\u001b[0;34m:\u001b[0m\u001b[0;34m\u001b[0m\u001b[0m\n",
      "\u001b[0;32m/Users/B/anaconda/envs/boston-crash-model/lib/python2.7/site-packages/theano/gradient.pyc\u001b[0m in \u001b[0;36maccess_term_cache\u001b[0;34m(node)\u001b[0m\n\u001b[1;32m    965\u001b[0m             \u001b[0minputs\u001b[0m \u001b[0;34m=\u001b[0m \u001b[0mnode\u001b[0m\u001b[0;34m.\u001b[0m\u001b[0minputs\u001b[0m\u001b[0;34m\u001b[0m\u001b[0m\n\u001b[1;32m    966\u001b[0m \u001b[0;34m\u001b[0m\u001b[0m\n\u001b[0;32m--> 967\u001b[0;31m             \u001b[0moutput_grads\u001b[0m \u001b[0;34m=\u001b[0m \u001b[0;34m[\u001b[0m\u001b[0maccess_grad_cache\u001b[0m\u001b[0;34m(\u001b[0m\u001b[0mvar\u001b[0m\u001b[0;34m)\u001b[0m \u001b[0;32mfor\u001b[0m \u001b[0mvar\u001b[0m \u001b[0;32min\u001b[0m \u001b[0mnode\u001b[0m\u001b[0;34m.\u001b[0m\u001b[0moutputs\u001b[0m\u001b[0;34m]\u001b[0m\u001b[0;34m\u001b[0m\u001b[0m\n\u001b[0m\u001b[1;32m    968\u001b[0m \u001b[0;34m\u001b[0m\u001b[0m\n\u001b[1;32m    969\u001b[0m             \u001b[0;31m# list of bools indicating if each output is connected to the cost\u001b[0m\u001b[0;34m\u001b[0m\u001b[0;34m\u001b[0m\u001b[0m\n",
      "\u001b[0;32m/Users/B/anaconda/envs/boston-crash-model/lib/python2.7/site-packages/theano/gradient.pyc\u001b[0m in \u001b[0;36maccess_grad_cache\u001b[0;34m(var)\u001b[0m\n\u001b[1;32m   1270\u001b[0m                     \u001b[0;32mfor\u001b[0m \u001b[0midx\u001b[0m \u001b[0;32min\u001b[0m \u001b[0mnode_to_idx\u001b[0m\u001b[0;34m[\u001b[0m\u001b[0mnode\u001b[0m\u001b[0;34m]\u001b[0m\u001b[0;34m:\u001b[0m\u001b[0;34m\u001b[0m\u001b[0m\n\u001b[1;32m   1271\u001b[0m \u001b[0;34m\u001b[0m\u001b[0m\n\u001b[0;32m-> 1272\u001b[0;31m                         \u001b[0mterm\u001b[0m \u001b[0;34m=\u001b[0m \u001b[0maccess_term_cache\u001b[0m\u001b[0;34m(\u001b[0m\u001b[0mnode\u001b[0m\u001b[0;34m)\u001b[0m\u001b[0;34m[\u001b[0m\u001b[0midx\u001b[0m\u001b[0;34m]\u001b[0m\u001b[0;34m\u001b[0m\u001b[0m\n\u001b[0m\u001b[1;32m   1273\u001b[0m \u001b[0;34m\u001b[0m\u001b[0m\n\u001b[1;32m   1274\u001b[0m                         \u001b[0;32mif\u001b[0m \u001b[0;32mnot\u001b[0m \u001b[0misinstance\u001b[0m\u001b[0;34m(\u001b[0m\u001b[0mterm\u001b[0m\u001b[0;34m,\u001b[0m \u001b[0mgof\u001b[0m\u001b[0;34m.\u001b[0m\u001b[0mVariable\u001b[0m\u001b[0;34m)\u001b[0m\u001b[0;34m:\u001b[0m\u001b[0;34m\u001b[0m\u001b[0m\n",
      "\u001b[0;32m/Users/B/anaconda/envs/boston-crash-model/lib/python2.7/site-packages/theano/gradient.pyc\u001b[0m in \u001b[0;36maccess_term_cache\u001b[0;34m(node)\u001b[0m\n\u001b[1;32m    965\u001b[0m             \u001b[0minputs\u001b[0m \u001b[0;34m=\u001b[0m \u001b[0mnode\u001b[0m\u001b[0;34m.\u001b[0m\u001b[0minputs\u001b[0m\u001b[0;34m\u001b[0m\u001b[0m\n\u001b[1;32m    966\u001b[0m \u001b[0;34m\u001b[0m\u001b[0m\n\u001b[0;32m--> 967\u001b[0;31m             \u001b[0moutput_grads\u001b[0m \u001b[0;34m=\u001b[0m \u001b[0;34m[\u001b[0m\u001b[0maccess_grad_cache\u001b[0m\u001b[0;34m(\u001b[0m\u001b[0mvar\u001b[0m\u001b[0;34m)\u001b[0m \u001b[0;32mfor\u001b[0m \u001b[0mvar\u001b[0m \u001b[0;32min\u001b[0m \u001b[0mnode\u001b[0m\u001b[0;34m.\u001b[0m\u001b[0moutputs\u001b[0m\u001b[0;34m]\u001b[0m\u001b[0;34m\u001b[0m\u001b[0m\n\u001b[0m\u001b[1;32m    968\u001b[0m \u001b[0;34m\u001b[0m\u001b[0m\n\u001b[1;32m    969\u001b[0m             \u001b[0;31m# list of bools indicating if each output is connected to the cost\u001b[0m\u001b[0;34m\u001b[0m\u001b[0;34m\u001b[0m\u001b[0m\n",
      "\u001b[0;32m/Users/B/anaconda/envs/boston-crash-model/lib/python2.7/site-packages/theano/gradient.pyc\u001b[0m in \u001b[0;36maccess_grad_cache\u001b[0;34m(var)\u001b[0m\n\u001b[1;32m   1270\u001b[0m                     \u001b[0;32mfor\u001b[0m \u001b[0midx\u001b[0m \u001b[0;32min\u001b[0m \u001b[0mnode_to_idx\u001b[0m\u001b[0;34m[\u001b[0m\u001b[0mnode\u001b[0m\u001b[0;34m]\u001b[0m\u001b[0;34m:\u001b[0m\u001b[0;34m\u001b[0m\u001b[0m\n\u001b[1;32m   1271\u001b[0m \u001b[0;34m\u001b[0m\u001b[0m\n\u001b[0;32m-> 1272\u001b[0;31m                         \u001b[0mterm\u001b[0m \u001b[0;34m=\u001b[0m \u001b[0maccess_term_cache\u001b[0m\u001b[0;34m(\u001b[0m\u001b[0mnode\u001b[0m\u001b[0;34m)\u001b[0m\u001b[0;34m[\u001b[0m\u001b[0midx\u001b[0m\u001b[0;34m]\u001b[0m\u001b[0;34m\u001b[0m\u001b[0m\n\u001b[0m\u001b[1;32m   1273\u001b[0m \u001b[0;34m\u001b[0m\u001b[0m\n\u001b[1;32m   1274\u001b[0m                         \u001b[0;32mif\u001b[0m \u001b[0;32mnot\u001b[0m \u001b[0misinstance\u001b[0m\u001b[0;34m(\u001b[0m\u001b[0mterm\u001b[0m\u001b[0;34m,\u001b[0m \u001b[0mgof\u001b[0m\u001b[0;34m.\u001b[0m\u001b[0mVariable\u001b[0m\u001b[0;34m)\u001b[0m\u001b[0;34m:\u001b[0m\u001b[0;34m\u001b[0m\u001b[0m\n",
      "\u001b[0;32m/Users/B/anaconda/envs/boston-crash-model/lib/python2.7/site-packages/theano/gradient.pyc\u001b[0m in \u001b[0;36maccess_term_cache\u001b[0;34m(node)\u001b[0m\n\u001b[1;32m    965\u001b[0m             \u001b[0minputs\u001b[0m \u001b[0;34m=\u001b[0m \u001b[0mnode\u001b[0m\u001b[0;34m.\u001b[0m\u001b[0minputs\u001b[0m\u001b[0;34m\u001b[0m\u001b[0m\n\u001b[1;32m    966\u001b[0m \u001b[0;34m\u001b[0m\u001b[0m\n\u001b[0;32m--> 967\u001b[0;31m             \u001b[0moutput_grads\u001b[0m \u001b[0;34m=\u001b[0m \u001b[0;34m[\u001b[0m\u001b[0maccess_grad_cache\u001b[0m\u001b[0;34m(\u001b[0m\u001b[0mvar\u001b[0m\u001b[0;34m)\u001b[0m \u001b[0;32mfor\u001b[0m \u001b[0mvar\u001b[0m \u001b[0;32min\u001b[0m \u001b[0mnode\u001b[0m\u001b[0;34m.\u001b[0m\u001b[0moutputs\u001b[0m\u001b[0;34m]\u001b[0m\u001b[0;34m\u001b[0m\u001b[0m\n\u001b[0m\u001b[1;32m    968\u001b[0m \u001b[0;34m\u001b[0m\u001b[0m\n\u001b[1;32m    969\u001b[0m             \u001b[0;31m# list of bools indicating if each output is connected to the cost\u001b[0m\u001b[0;34m\u001b[0m\u001b[0;34m\u001b[0m\u001b[0m\n",
      "\u001b[0;32m/Users/B/anaconda/envs/boston-crash-model/lib/python2.7/site-packages/theano/gradient.pyc\u001b[0m in \u001b[0;36maccess_grad_cache\u001b[0;34m(var)\u001b[0m\n\u001b[1;32m   1270\u001b[0m                     \u001b[0;32mfor\u001b[0m \u001b[0midx\u001b[0m \u001b[0;32min\u001b[0m \u001b[0mnode_to_idx\u001b[0m\u001b[0;34m[\u001b[0m\u001b[0mnode\u001b[0m\u001b[0;34m]\u001b[0m\u001b[0;34m:\u001b[0m\u001b[0;34m\u001b[0m\u001b[0m\n\u001b[1;32m   1271\u001b[0m \u001b[0;34m\u001b[0m\u001b[0m\n\u001b[0;32m-> 1272\u001b[0;31m                         \u001b[0mterm\u001b[0m \u001b[0;34m=\u001b[0m \u001b[0maccess_term_cache\u001b[0m\u001b[0;34m(\u001b[0m\u001b[0mnode\u001b[0m\u001b[0;34m)\u001b[0m\u001b[0;34m[\u001b[0m\u001b[0midx\u001b[0m\u001b[0;34m]\u001b[0m\u001b[0;34m\u001b[0m\u001b[0m\n\u001b[0m\u001b[1;32m   1273\u001b[0m \u001b[0;34m\u001b[0m\u001b[0m\n\u001b[1;32m   1274\u001b[0m                         \u001b[0;32mif\u001b[0m \u001b[0;32mnot\u001b[0m \u001b[0misinstance\u001b[0m\u001b[0;34m(\u001b[0m\u001b[0mterm\u001b[0m\u001b[0;34m,\u001b[0m \u001b[0mgof\u001b[0m\u001b[0;34m.\u001b[0m\u001b[0mVariable\u001b[0m\u001b[0;34m)\u001b[0m\u001b[0;34m:\u001b[0m\u001b[0;34m\u001b[0m\u001b[0m\n",
      "\u001b[0;32m/Users/B/anaconda/envs/boston-crash-model/lib/python2.7/site-packages/theano/gradient.pyc\u001b[0m in \u001b[0;36maccess_term_cache\u001b[0;34m(node)\u001b[0m\n\u001b[1;32m    965\u001b[0m             \u001b[0minputs\u001b[0m \u001b[0;34m=\u001b[0m \u001b[0mnode\u001b[0m\u001b[0;34m.\u001b[0m\u001b[0minputs\u001b[0m\u001b[0;34m\u001b[0m\u001b[0m\n\u001b[1;32m    966\u001b[0m \u001b[0;34m\u001b[0m\u001b[0m\n\u001b[0;32m--> 967\u001b[0;31m             \u001b[0moutput_grads\u001b[0m \u001b[0;34m=\u001b[0m \u001b[0;34m[\u001b[0m\u001b[0maccess_grad_cache\u001b[0m\u001b[0;34m(\u001b[0m\u001b[0mvar\u001b[0m\u001b[0;34m)\u001b[0m \u001b[0;32mfor\u001b[0m \u001b[0mvar\u001b[0m \u001b[0;32min\u001b[0m \u001b[0mnode\u001b[0m\u001b[0;34m.\u001b[0m\u001b[0moutputs\u001b[0m\u001b[0;34m]\u001b[0m\u001b[0;34m\u001b[0m\u001b[0m\n\u001b[0m\u001b[1;32m    968\u001b[0m \u001b[0;34m\u001b[0m\u001b[0m\n\u001b[1;32m    969\u001b[0m             \u001b[0;31m# list of bools indicating if each output is connected to the cost\u001b[0m\u001b[0;34m\u001b[0m\u001b[0;34m\u001b[0m\u001b[0m\n",
      "\u001b[0;32m/Users/B/anaconda/envs/boston-crash-model/lib/python2.7/site-packages/theano/gradient.pyc\u001b[0m in \u001b[0;36maccess_grad_cache\u001b[0;34m(var)\u001b[0m\n\u001b[1;32m   1270\u001b[0m                     \u001b[0;32mfor\u001b[0m \u001b[0midx\u001b[0m \u001b[0;32min\u001b[0m \u001b[0mnode_to_idx\u001b[0m\u001b[0;34m[\u001b[0m\u001b[0mnode\u001b[0m\u001b[0;34m]\u001b[0m\u001b[0;34m:\u001b[0m\u001b[0;34m\u001b[0m\u001b[0m\n\u001b[1;32m   1271\u001b[0m \u001b[0;34m\u001b[0m\u001b[0m\n\u001b[0;32m-> 1272\u001b[0;31m                         \u001b[0mterm\u001b[0m \u001b[0;34m=\u001b[0m \u001b[0maccess_term_cache\u001b[0m\u001b[0;34m(\u001b[0m\u001b[0mnode\u001b[0m\u001b[0;34m)\u001b[0m\u001b[0;34m[\u001b[0m\u001b[0midx\u001b[0m\u001b[0;34m]\u001b[0m\u001b[0;34m\u001b[0m\u001b[0m\n\u001b[0m\u001b[1;32m   1273\u001b[0m \u001b[0;34m\u001b[0m\u001b[0m\n\u001b[1;32m   1274\u001b[0m                         \u001b[0;32mif\u001b[0m \u001b[0;32mnot\u001b[0m \u001b[0misinstance\u001b[0m\u001b[0;34m(\u001b[0m\u001b[0mterm\u001b[0m\u001b[0;34m,\u001b[0m \u001b[0mgof\u001b[0m\u001b[0;34m.\u001b[0m\u001b[0mVariable\u001b[0m\u001b[0;34m)\u001b[0m\u001b[0;34m:\u001b[0m\u001b[0;34m\u001b[0m\u001b[0m\n",
      "\u001b[0;32m/Users/B/anaconda/envs/boston-crash-model/lib/python2.7/site-packages/theano/gradient.pyc\u001b[0m in \u001b[0;36maccess_term_cache\u001b[0;34m(node)\u001b[0m\n\u001b[1;32m    965\u001b[0m             \u001b[0minputs\u001b[0m \u001b[0;34m=\u001b[0m \u001b[0mnode\u001b[0m\u001b[0;34m.\u001b[0m\u001b[0minputs\u001b[0m\u001b[0;34m\u001b[0m\u001b[0m\n\u001b[1;32m    966\u001b[0m \u001b[0;34m\u001b[0m\u001b[0m\n\u001b[0;32m--> 967\u001b[0;31m             \u001b[0moutput_grads\u001b[0m \u001b[0;34m=\u001b[0m \u001b[0;34m[\u001b[0m\u001b[0maccess_grad_cache\u001b[0m\u001b[0;34m(\u001b[0m\u001b[0mvar\u001b[0m\u001b[0;34m)\u001b[0m \u001b[0;32mfor\u001b[0m \u001b[0mvar\u001b[0m \u001b[0;32min\u001b[0m \u001b[0mnode\u001b[0m\u001b[0;34m.\u001b[0m\u001b[0moutputs\u001b[0m\u001b[0;34m]\u001b[0m\u001b[0;34m\u001b[0m\u001b[0m\n\u001b[0m\u001b[1;32m    968\u001b[0m \u001b[0;34m\u001b[0m\u001b[0m\n\u001b[1;32m    969\u001b[0m             \u001b[0;31m# list of bools indicating if each output is connected to the cost\u001b[0m\u001b[0;34m\u001b[0m\u001b[0;34m\u001b[0m\u001b[0m\n",
      "\u001b[0;32m/Users/B/anaconda/envs/boston-crash-model/lib/python2.7/site-packages/theano/gradient.pyc\u001b[0m in \u001b[0;36maccess_grad_cache\u001b[0;34m(var)\u001b[0m\n\u001b[1;32m   1270\u001b[0m                     \u001b[0;32mfor\u001b[0m \u001b[0midx\u001b[0m \u001b[0;32min\u001b[0m \u001b[0mnode_to_idx\u001b[0m\u001b[0;34m[\u001b[0m\u001b[0mnode\u001b[0m\u001b[0;34m]\u001b[0m\u001b[0;34m:\u001b[0m\u001b[0;34m\u001b[0m\u001b[0m\n\u001b[1;32m   1271\u001b[0m \u001b[0;34m\u001b[0m\u001b[0m\n\u001b[0;32m-> 1272\u001b[0;31m                         \u001b[0mterm\u001b[0m \u001b[0;34m=\u001b[0m \u001b[0maccess_term_cache\u001b[0m\u001b[0;34m(\u001b[0m\u001b[0mnode\u001b[0m\u001b[0;34m)\u001b[0m\u001b[0;34m[\u001b[0m\u001b[0midx\u001b[0m\u001b[0;34m]\u001b[0m\u001b[0;34m\u001b[0m\u001b[0m\n\u001b[0m\u001b[1;32m   1273\u001b[0m \u001b[0;34m\u001b[0m\u001b[0m\n\u001b[1;32m   1274\u001b[0m                         \u001b[0;32mif\u001b[0m \u001b[0;32mnot\u001b[0m \u001b[0misinstance\u001b[0m\u001b[0;34m(\u001b[0m\u001b[0mterm\u001b[0m\u001b[0;34m,\u001b[0m \u001b[0mgof\u001b[0m\u001b[0;34m.\u001b[0m\u001b[0mVariable\u001b[0m\u001b[0;34m)\u001b[0m\u001b[0;34m:\u001b[0m\u001b[0;34m\u001b[0m\u001b[0m\n",
      "\u001b[0;32m/Users/B/anaconda/envs/boston-crash-model/lib/python2.7/site-packages/theano/gradient.pyc\u001b[0m in \u001b[0;36maccess_term_cache\u001b[0;34m(node)\u001b[0m\n\u001b[1;32m    965\u001b[0m             \u001b[0minputs\u001b[0m \u001b[0;34m=\u001b[0m \u001b[0mnode\u001b[0m\u001b[0;34m.\u001b[0m\u001b[0minputs\u001b[0m\u001b[0;34m\u001b[0m\u001b[0m\n\u001b[1;32m    966\u001b[0m \u001b[0;34m\u001b[0m\u001b[0m\n\u001b[0;32m--> 967\u001b[0;31m             \u001b[0moutput_grads\u001b[0m \u001b[0;34m=\u001b[0m \u001b[0;34m[\u001b[0m\u001b[0maccess_grad_cache\u001b[0m\u001b[0;34m(\u001b[0m\u001b[0mvar\u001b[0m\u001b[0;34m)\u001b[0m \u001b[0;32mfor\u001b[0m \u001b[0mvar\u001b[0m \u001b[0;32min\u001b[0m \u001b[0mnode\u001b[0m\u001b[0;34m.\u001b[0m\u001b[0moutputs\u001b[0m\u001b[0;34m]\u001b[0m\u001b[0;34m\u001b[0m\u001b[0m\n\u001b[0m\u001b[1;32m    968\u001b[0m \u001b[0;34m\u001b[0m\u001b[0m\n\u001b[1;32m    969\u001b[0m             \u001b[0;31m# list of bools indicating if each output is connected to the cost\u001b[0m\u001b[0;34m\u001b[0m\u001b[0;34m\u001b[0m\u001b[0m\n",
      "\u001b[0;32m/Users/B/anaconda/envs/boston-crash-model/lib/python2.7/site-packages/theano/gradient.pyc\u001b[0m in \u001b[0;36maccess_grad_cache\u001b[0;34m(var)\u001b[0m\n\u001b[1;32m   1270\u001b[0m                     \u001b[0;32mfor\u001b[0m \u001b[0midx\u001b[0m \u001b[0;32min\u001b[0m \u001b[0mnode_to_idx\u001b[0m\u001b[0;34m[\u001b[0m\u001b[0mnode\u001b[0m\u001b[0;34m]\u001b[0m\u001b[0;34m:\u001b[0m\u001b[0;34m\u001b[0m\u001b[0m\n\u001b[1;32m   1271\u001b[0m \u001b[0;34m\u001b[0m\u001b[0m\n\u001b[0;32m-> 1272\u001b[0;31m                         \u001b[0mterm\u001b[0m \u001b[0;34m=\u001b[0m \u001b[0maccess_term_cache\u001b[0m\u001b[0;34m(\u001b[0m\u001b[0mnode\u001b[0m\u001b[0;34m)\u001b[0m\u001b[0;34m[\u001b[0m\u001b[0midx\u001b[0m\u001b[0;34m]\u001b[0m\u001b[0;34m\u001b[0m\u001b[0m\n\u001b[0m\u001b[1;32m   1273\u001b[0m \u001b[0;34m\u001b[0m\u001b[0m\n\u001b[1;32m   1274\u001b[0m                         \u001b[0;32mif\u001b[0m \u001b[0;32mnot\u001b[0m \u001b[0misinstance\u001b[0m\u001b[0;34m(\u001b[0m\u001b[0mterm\u001b[0m\u001b[0;34m,\u001b[0m \u001b[0mgof\u001b[0m\u001b[0;34m.\u001b[0m\u001b[0mVariable\u001b[0m\u001b[0;34m)\u001b[0m\u001b[0;34m:\u001b[0m\u001b[0;34m\u001b[0m\u001b[0m\n",
      "\u001b[0;32m/Users/B/anaconda/envs/boston-crash-model/lib/python2.7/site-packages/theano/gradient.pyc\u001b[0m in \u001b[0;36maccess_term_cache\u001b[0;34m(node)\u001b[0m\n\u001b[1;32m    965\u001b[0m             \u001b[0minputs\u001b[0m \u001b[0;34m=\u001b[0m \u001b[0mnode\u001b[0m\u001b[0;34m.\u001b[0m\u001b[0minputs\u001b[0m\u001b[0;34m\u001b[0m\u001b[0m\n\u001b[1;32m    966\u001b[0m \u001b[0;34m\u001b[0m\u001b[0m\n\u001b[0;32m--> 967\u001b[0;31m             \u001b[0moutput_grads\u001b[0m \u001b[0;34m=\u001b[0m \u001b[0;34m[\u001b[0m\u001b[0maccess_grad_cache\u001b[0m\u001b[0;34m(\u001b[0m\u001b[0mvar\u001b[0m\u001b[0;34m)\u001b[0m \u001b[0;32mfor\u001b[0m \u001b[0mvar\u001b[0m \u001b[0;32min\u001b[0m \u001b[0mnode\u001b[0m\u001b[0;34m.\u001b[0m\u001b[0moutputs\u001b[0m\u001b[0;34m]\u001b[0m\u001b[0;34m\u001b[0m\u001b[0m\n\u001b[0m\u001b[1;32m    968\u001b[0m \u001b[0;34m\u001b[0m\u001b[0m\n\u001b[1;32m    969\u001b[0m             \u001b[0;31m# list of bools indicating if each output is connected to the cost\u001b[0m\u001b[0;34m\u001b[0m\u001b[0;34m\u001b[0m\u001b[0m\n",
      "\u001b[0;32m/Users/B/anaconda/envs/boston-crash-model/lib/python2.7/site-packages/theano/gradient.pyc\u001b[0m in \u001b[0;36maccess_grad_cache\u001b[0;34m(var)\u001b[0m\n\u001b[1;32m   1270\u001b[0m                     \u001b[0;32mfor\u001b[0m \u001b[0midx\u001b[0m \u001b[0;32min\u001b[0m \u001b[0mnode_to_idx\u001b[0m\u001b[0;34m[\u001b[0m\u001b[0mnode\u001b[0m\u001b[0;34m]\u001b[0m\u001b[0;34m:\u001b[0m\u001b[0;34m\u001b[0m\u001b[0m\n\u001b[1;32m   1271\u001b[0m \u001b[0;34m\u001b[0m\u001b[0m\n\u001b[0;32m-> 1272\u001b[0;31m                         \u001b[0mterm\u001b[0m \u001b[0;34m=\u001b[0m \u001b[0maccess_term_cache\u001b[0m\u001b[0;34m(\u001b[0m\u001b[0mnode\u001b[0m\u001b[0;34m)\u001b[0m\u001b[0;34m[\u001b[0m\u001b[0midx\u001b[0m\u001b[0;34m]\u001b[0m\u001b[0;34m\u001b[0m\u001b[0m\n\u001b[0m\u001b[1;32m   1273\u001b[0m \u001b[0;34m\u001b[0m\u001b[0m\n\u001b[1;32m   1274\u001b[0m                         \u001b[0;32mif\u001b[0m \u001b[0;32mnot\u001b[0m \u001b[0misinstance\u001b[0m\u001b[0;34m(\u001b[0m\u001b[0mterm\u001b[0m\u001b[0;34m,\u001b[0m \u001b[0mgof\u001b[0m\u001b[0;34m.\u001b[0m\u001b[0mVariable\u001b[0m\u001b[0;34m)\u001b[0m\u001b[0;34m:\u001b[0m\u001b[0;34m\u001b[0m\u001b[0m\n",
      "\u001b[0;32m/Users/B/anaconda/envs/boston-crash-model/lib/python2.7/site-packages/theano/gradient.pyc\u001b[0m in \u001b[0;36maccess_term_cache\u001b[0;34m(node)\u001b[0m\n\u001b[1;32m    965\u001b[0m             \u001b[0minputs\u001b[0m \u001b[0;34m=\u001b[0m \u001b[0mnode\u001b[0m\u001b[0;34m.\u001b[0m\u001b[0minputs\u001b[0m\u001b[0;34m\u001b[0m\u001b[0m\n\u001b[1;32m    966\u001b[0m \u001b[0;34m\u001b[0m\u001b[0m\n\u001b[0;32m--> 967\u001b[0;31m             \u001b[0moutput_grads\u001b[0m \u001b[0;34m=\u001b[0m \u001b[0;34m[\u001b[0m\u001b[0maccess_grad_cache\u001b[0m\u001b[0;34m(\u001b[0m\u001b[0mvar\u001b[0m\u001b[0;34m)\u001b[0m \u001b[0;32mfor\u001b[0m \u001b[0mvar\u001b[0m \u001b[0;32min\u001b[0m \u001b[0mnode\u001b[0m\u001b[0;34m.\u001b[0m\u001b[0moutputs\u001b[0m\u001b[0;34m]\u001b[0m\u001b[0;34m\u001b[0m\u001b[0m\n\u001b[0m\u001b[1;32m    968\u001b[0m \u001b[0;34m\u001b[0m\u001b[0m\n\u001b[1;32m    969\u001b[0m             \u001b[0;31m# list of bools indicating if each output is connected to the cost\u001b[0m\u001b[0;34m\u001b[0m\u001b[0;34m\u001b[0m\u001b[0m\n",
      "\u001b[0;32m/Users/B/anaconda/envs/boston-crash-model/lib/python2.7/site-packages/theano/gradient.pyc\u001b[0m in \u001b[0;36maccess_grad_cache\u001b[0;34m(var)\u001b[0m\n\u001b[1;32m   1270\u001b[0m                     \u001b[0;32mfor\u001b[0m \u001b[0midx\u001b[0m \u001b[0;32min\u001b[0m \u001b[0mnode_to_idx\u001b[0m\u001b[0;34m[\u001b[0m\u001b[0mnode\u001b[0m\u001b[0;34m]\u001b[0m\u001b[0;34m:\u001b[0m\u001b[0;34m\u001b[0m\u001b[0m\n\u001b[1;32m   1271\u001b[0m \u001b[0;34m\u001b[0m\u001b[0m\n\u001b[0;32m-> 1272\u001b[0;31m                         \u001b[0mterm\u001b[0m \u001b[0;34m=\u001b[0m \u001b[0maccess_term_cache\u001b[0m\u001b[0;34m(\u001b[0m\u001b[0mnode\u001b[0m\u001b[0;34m)\u001b[0m\u001b[0;34m[\u001b[0m\u001b[0midx\u001b[0m\u001b[0;34m]\u001b[0m\u001b[0;34m\u001b[0m\u001b[0m\n\u001b[0m\u001b[1;32m   1273\u001b[0m \u001b[0;34m\u001b[0m\u001b[0m\n\u001b[1;32m   1274\u001b[0m                         \u001b[0;32mif\u001b[0m \u001b[0;32mnot\u001b[0m \u001b[0misinstance\u001b[0m\u001b[0;34m(\u001b[0m\u001b[0mterm\u001b[0m\u001b[0;34m,\u001b[0m \u001b[0mgof\u001b[0m\u001b[0;34m.\u001b[0m\u001b[0mVariable\u001b[0m\u001b[0;34m)\u001b[0m\u001b[0;34m:\u001b[0m\u001b[0;34m\u001b[0m\u001b[0m\n",
      "\u001b[0;32m/Users/B/anaconda/envs/boston-crash-model/lib/python2.7/site-packages/theano/gradient.pyc\u001b[0m in \u001b[0;36maccess_term_cache\u001b[0;34m(node)\u001b[0m\n\u001b[1;32m    965\u001b[0m             \u001b[0minputs\u001b[0m \u001b[0;34m=\u001b[0m \u001b[0mnode\u001b[0m\u001b[0;34m.\u001b[0m\u001b[0minputs\u001b[0m\u001b[0;34m\u001b[0m\u001b[0m\n\u001b[1;32m    966\u001b[0m \u001b[0;34m\u001b[0m\u001b[0m\n\u001b[0;32m--> 967\u001b[0;31m             \u001b[0moutput_grads\u001b[0m \u001b[0;34m=\u001b[0m \u001b[0;34m[\u001b[0m\u001b[0maccess_grad_cache\u001b[0m\u001b[0;34m(\u001b[0m\u001b[0mvar\u001b[0m\u001b[0;34m)\u001b[0m \u001b[0;32mfor\u001b[0m \u001b[0mvar\u001b[0m \u001b[0;32min\u001b[0m \u001b[0mnode\u001b[0m\u001b[0;34m.\u001b[0m\u001b[0moutputs\u001b[0m\u001b[0;34m]\u001b[0m\u001b[0;34m\u001b[0m\u001b[0m\n\u001b[0m\u001b[1;32m    968\u001b[0m \u001b[0;34m\u001b[0m\u001b[0m\n\u001b[1;32m    969\u001b[0m             \u001b[0;31m# list of bools indicating if each output is connected to the cost\u001b[0m\u001b[0;34m\u001b[0m\u001b[0;34m\u001b[0m\u001b[0m\n",
      "\u001b[0;32m/Users/B/anaconda/envs/boston-crash-model/lib/python2.7/site-packages/theano/gradient.pyc\u001b[0m in \u001b[0;36maccess_grad_cache\u001b[0;34m(var)\u001b[0m\n\u001b[1;32m   1270\u001b[0m                     \u001b[0;32mfor\u001b[0m \u001b[0midx\u001b[0m \u001b[0;32min\u001b[0m \u001b[0mnode_to_idx\u001b[0m\u001b[0;34m[\u001b[0m\u001b[0mnode\u001b[0m\u001b[0;34m]\u001b[0m\u001b[0;34m:\u001b[0m\u001b[0;34m\u001b[0m\u001b[0m\n\u001b[1;32m   1271\u001b[0m \u001b[0;34m\u001b[0m\u001b[0m\n\u001b[0;32m-> 1272\u001b[0;31m                         \u001b[0mterm\u001b[0m \u001b[0;34m=\u001b[0m \u001b[0maccess_term_cache\u001b[0m\u001b[0;34m(\u001b[0m\u001b[0mnode\u001b[0m\u001b[0;34m)\u001b[0m\u001b[0;34m[\u001b[0m\u001b[0midx\u001b[0m\u001b[0;34m]\u001b[0m\u001b[0;34m\u001b[0m\u001b[0m\n\u001b[0m\u001b[1;32m   1273\u001b[0m \u001b[0;34m\u001b[0m\u001b[0m\n\u001b[1;32m   1274\u001b[0m                         \u001b[0;32mif\u001b[0m \u001b[0;32mnot\u001b[0m \u001b[0misinstance\u001b[0m\u001b[0;34m(\u001b[0m\u001b[0mterm\u001b[0m\u001b[0;34m,\u001b[0m \u001b[0mgof\u001b[0m\u001b[0;34m.\u001b[0m\u001b[0mVariable\u001b[0m\u001b[0;34m)\u001b[0m\u001b[0;34m:\u001b[0m\u001b[0;34m\u001b[0m\u001b[0m\n",
      "\u001b[0;32m/Users/B/anaconda/envs/boston-crash-model/lib/python2.7/site-packages/theano/gradient.pyc\u001b[0m in \u001b[0;36maccess_term_cache\u001b[0;34m(node)\u001b[0m\n\u001b[1;32m    965\u001b[0m             \u001b[0minputs\u001b[0m \u001b[0;34m=\u001b[0m \u001b[0mnode\u001b[0m\u001b[0;34m.\u001b[0m\u001b[0minputs\u001b[0m\u001b[0;34m\u001b[0m\u001b[0m\n\u001b[1;32m    966\u001b[0m \u001b[0;34m\u001b[0m\u001b[0m\n\u001b[0;32m--> 967\u001b[0;31m             \u001b[0moutput_grads\u001b[0m \u001b[0;34m=\u001b[0m \u001b[0;34m[\u001b[0m\u001b[0maccess_grad_cache\u001b[0m\u001b[0;34m(\u001b[0m\u001b[0mvar\u001b[0m\u001b[0;34m)\u001b[0m \u001b[0;32mfor\u001b[0m \u001b[0mvar\u001b[0m \u001b[0;32min\u001b[0m \u001b[0mnode\u001b[0m\u001b[0;34m.\u001b[0m\u001b[0moutputs\u001b[0m\u001b[0;34m]\u001b[0m\u001b[0;34m\u001b[0m\u001b[0m\n\u001b[0m\u001b[1;32m    968\u001b[0m \u001b[0;34m\u001b[0m\u001b[0m\n\u001b[1;32m    969\u001b[0m             \u001b[0;31m# list of bools indicating if each output is connected to the cost\u001b[0m\u001b[0;34m\u001b[0m\u001b[0;34m\u001b[0m\u001b[0m\n",
      "\u001b[0;32m/Users/B/anaconda/envs/boston-crash-model/lib/python2.7/site-packages/theano/gradient.pyc\u001b[0m in \u001b[0;36maccess_grad_cache\u001b[0;34m(var)\u001b[0m\n\u001b[1;32m   1270\u001b[0m                     \u001b[0;32mfor\u001b[0m \u001b[0midx\u001b[0m \u001b[0;32min\u001b[0m \u001b[0mnode_to_idx\u001b[0m\u001b[0;34m[\u001b[0m\u001b[0mnode\u001b[0m\u001b[0;34m]\u001b[0m\u001b[0;34m:\u001b[0m\u001b[0;34m\u001b[0m\u001b[0m\n\u001b[1;32m   1271\u001b[0m \u001b[0;34m\u001b[0m\u001b[0m\n\u001b[0;32m-> 1272\u001b[0;31m                         \u001b[0mterm\u001b[0m \u001b[0;34m=\u001b[0m \u001b[0maccess_term_cache\u001b[0m\u001b[0;34m(\u001b[0m\u001b[0mnode\u001b[0m\u001b[0;34m)\u001b[0m\u001b[0;34m[\u001b[0m\u001b[0midx\u001b[0m\u001b[0;34m]\u001b[0m\u001b[0;34m\u001b[0m\u001b[0m\n\u001b[0m\u001b[1;32m   1273\u001b[0m \u001b[0;34m\u001b[0m\u001b[0m\n\u001b[1;32m   1274\u001b[0m                         \u001b[0;32mif\u001b[0m \u001b[0;32mnot\u001b[0m \u001b[0misinstance\u001b[0m\u001b[0;34m(\u001b[0m\u001b[0mterm\u001b[0m\u001b[0;34m,\u001b[0m \u001b[0mgof\u001b[0m\u001b[0;34m.\u001b[0m\u001b[0mVariable\u001b[0m\u001b[0;34m)\u001b[0m\u001b[0;34m:\u001b[0m\u001b[0;34m\u001b[0m\u001b[0m\n",
      "\u001b[0;32m/Users/B/anaconda/envs/boston-crash-model/lib/python2.7/site-packages/theano/gradient.pyc\u001b[0m in \u001b[0;36maccess_term_cache\u001b[0;34m(node)\u001b[0m\n\u001b[1;32m    965\u001b[0m             \u001b[0minputs\u001b[0m \u001b[0;34m=\u001b[0m \u001b[0mnode\u001b[0m\u001b[0;34m.\u001b[0m\u001b[0minputs\u001b[0m\u001b[0;34m\u001b[0m\u001b[0m\n\u001b[1;32m    966\u001b[0m \u001b[0;34m\u001b[0m\u001b[0m\n\u001b[0;32m--> 967\u001b[0;31m             \u001b[0moutput_grads\u001b[0m \u001b[0;34m=\u001b[0m \u001b[0;34m[\u001b[0m\u001b[0maccess_grad_cache\u001b[0m\u001b[0;34m(\u001b[0m\u001b[0mvar\u001b[0m\u001b[0;34m)\u001b[0m \u001b[0;32mfor\u001b[0m \u001b[0mvar\u001b[0m \u001b[0;32min\u001b[0m \u001b[0mnode\u001b[0m\u001b[0;34m.\u001b[0m\u001b[0moutputs\u001b[0m\u001b[0;34m]\u001b[0m\u001b[0;34m\u001b[0m\u001b[0m\n\u001b[0m\u001b[1;32m    968\u001b[0m \u001b[0;34m\u001b[0m\u001b[0m\n\u001b[1;32m    969\u001b[0m             \u001b[0;31m# list of bools indicating if each output is connected to the cost\u001b[0m\u001b[0;34m\u001b[0m\u001b[0;34m\u001b[0m\u001b[0m\n",
      "\u001b[0;32m/Users/B/anaconda/envs/boston-crash-model/lib/python2.7/site-packages/theano/gradient.pyc\u001b[0m in \u001b[0;36maccess_grad_cache\u001b[0;34m(var)\u001b[0m\n\u001b[1;32m   1270\u001b[0m                     \u001b[0;32mfor\u001b[0m \u001b[0midx\u001b[0m \u001b[0;32min\u001b[0m \u001b[0mnode_to_idx\u001b[0m\u001b[0;34m[\u001b[0m\u001b[0mnode\u001b[0m\u001b[0;34m]\u001b[0m\u001b[0;34m:\u001b[0m\u001b[0;34m\u001b[0m\u001b[0m\n\u001b[1;32m   1271\u001b[0m \u001b[0;34m\u001b[0m\u001b[0m\n\u001b[0;32m-> 1272\u001b[0;31m                         \u001b[0mterm\u001b[0m \u001b[0;34m=\u001b[0m \u001b[0maccess_term_cache\u001b[0m\u001b[0;34m(\u001b[0m\u001b[0mnode\u001b[0m\u001b[0;34m)\u001b[0m\u001b[0;34m[\u001b[0m\u001b[0midx\u001b[0m\u001b[0;34m]\u001b[0m\u001b[0;34m\u001b[0m\u001b[0m\n\u001b[0m\u001b[1;32m   1273\u001b[0m \u001b[0;34m\u001b[0m\u001b[0m\n\u001b[1;32m   1274\u001b[0m                         \u001b[0;32mif\u001b[0m \u001b[0;32mnot\u001b[0m \u001b[0misinstance\u001b[0m\u001b[0;34m(\u001b[0m\u001b[0mterm\u001b[0m\u001b[0;34m,\u001b[0m \u001b[0mgof\u001b[0m\u001b[0;34m.\u001b[0m\u001b[0mVariable\u001b[0m\u001b[0;34m)\u001b[0m\u001b[0;34m:\u001b[0m\u001b[0;34m\u001b[0m\u001b[0m\n",
      "\u001b[0;32m/Users/B/anaconda/envs/boston-crash-model/lib/python2.7/site-packages/theano/gradient.pyc\u001b[0m in \u001b[0;36maccess_term_cache\u001b[0;34m(node)\u001b[0m\n\u001b[1;32m    965\u001b[0m             \u001b[0minputs\u001b[0m \u001b[0;34m=\u001b[0m \u001b[0mnode\u001b[0m\u001b[0;34m.\u001b[0m\u001b[0minputs\u001b[0m\u001b[0;34m\u001b[0m\u001b[0m\n\u001b[1;32m    966\u001b[0m \u001b[0;34m\u001b[0m\u001b[0m\n\u001b[0;32m--> 967\u001b[0;31m             \u001b[0moutput_grads\u001b[0m \u001b[0;34m=\u001b[0m \u001b[0;34m[\u001b[0m\u001b[0maccess_grad_cache\u001b[0m\u001b[0;34m(\u001b[0m\u001b[0mvar\u001b[0m\u001b[0;34m)\u001b[0m \u001b[0;32mfor\u001b[0m \u001b[0mvar\u001b[0m \u001b[0;32min\u001b[0m \u001b[0mnode\u001b[0m\u001b[0;34m.\u001b[0m\u001b[0moutputs\u001b[0m\u001b[0;34m]\u001b[0m\u001b[0;34m\u001b[0m\u001b[0m\n\u001b[0m\u001b[1;32m    968\u001b[0m \u001b[0;34m\u001b[0m\u001b[0m\n\u001b[1;32m    969\u001b[0m             \u001b[0;31m# list of bools indicating if each output is connected to the cost\u001b[0m\u001b[0;34m\u001b[0m\u001b[0;34m\u001b[0m\u001b[0m\n",
      "\u001b[0;32m/Users/B/anaconda/envs/boston-crash-model/lib/python2.7/site-packages/theano/gradient.pyc\u001b[0m in \u001b[0;36maccess_grad_cache\u001b[0;34m(var)\u001b[0m\n\u001b[1;32m   1270\u001b[0m                     \u001b[0;32mfor\u001b[0m \u001b[0midx\u001b[0m \u001b[0;32min\u001b[0m \u001b[0mnode_to_idx\u001b[0m\u001b[0;34m[\u001b[0m\u001b[0mnode\u001b[0m\u001b[0;34m]\u001b[0m\u001b[0;34m:\u001b[0m\u001b[0;34m\u001b[0m\u001b[0m\n\u001b[1;32m   1271\u001b[0m \u001b[0;34m\u001b[0m\u001b[0m\n\u001b[0;32m-> 1272\u001b[0;31m                         \u001b[0mterm\u001b[0m \u001b[0;34m=\u001b[0m \u001b[0maccess_term_cache\u001b[0m\u001b[0;34m(\u001b[0m\u001b[0mnode\u001b[0m\u001b[0;34m)\u001b[0m\u001b[0;34m[\u001b[0m\u001b[0midx\u001b[0m\u001b[0;34m]\u001b[0m\u001b[0;34m\u001b[0m\u001b[0m\n\u001b[0m\u001b[1;32m   1273\u001b[0m \u001b[0;34m\u001b[0m\u001b[0m\n\u001b[1;32m   1274\u001b[0m                         \u001b[0;32mif\u001b[0m \u001b[0;32mnot\u001b[0m \u001b[0misinstance\u001b[0m\u001b[0;34m(\u001b[0m\u001b[0mterm\u001b[0m\u001b[0;34m,\u001b[0m \u001b[0mgof\u001b[0m\u001b[0;34m.\u001b[0m\u001b[0mVariable\u001b[0m\u001b[0;34m)\u001b[0m\u001b[0;34m:\u001b[0m\u001b[0;34m\u001b[0m\u001b[0m\n",
      "\u001b[0;32m/Users/B/anaconda/envs/boston-crash-model/lib/python2.7/site-packages/theano/gradient.pyc\u001b[0m in \u001b[0;36maccess_term_cache\u001b[0;34m(node)\u001b[0m\n\u001b[1;32m    965\u001b[0m             \u001b[0minputs\u001b[0m \u001b[0;34m=\u001b[0m \u001b[0mnode\u001b[0m\u001b[0;34m.\u001b[0m\u001b[0minputs\u001b[0m\u001b[0;34m\u001b[0m\u001b[0m\n\u001b[1;32m    966\u001b[0m \u001b[0;34m\u001b[0m\u001b[0m\n\u001b[0;32m--> 967\u001b[0;31m             \u001b[0moutput_grads\u001b[0m \u001b[0;34m=\u001b[0m \u001b[0;34m[\u001b[0m\u001b[0maccess_grad_cache\u001b[0m\u001b[0;34m(\u001b[0m\u001b[0mvar\u001b[0m\u001b[0;34m)\u001b[0m \u001b[0;32mfor\u001b[0m \u001b[0mvar\u001b[0m \u001b[0;32min\u001b[0m \u001b[0mnode\u001b[0m\u001b[0;34m.\u001b[0m\u001b[0moutputs\u001b[0m\u001b[0;34m]\u001b[0m\u001b[0;34m\u001b[0m\u001b[0m\n\u001b[0m\u001b[1;32m    968\u001b[0m \u001b[0;34m\u001b[0m\u001b[0m\n\u001b[1;32m    969\u001b[0m             \u001b[0;31m# list of bools indicating if each output is connected to the cost\u001b[0m\u001b[0;34m\u001b[0m\u001b[0;34m\u001b[0m\u001b[0m\n",
      "\u001b[0;32m/Users/B/anaconda/envs/boston-crash-model/lib/python2.7/site-packages/theano/gradient.pyc\u001b[0m in \u001b[0;36maccess_grad_cache\u001b[0;34m(var)\u001b[0m\n\u001b[1;32m   1270\u001b[0m                     \u001b[0;32mfor\u001b[0m \u001b[0midx\u001b[0m \u001b[0;32min\u001b[0m \u001b[0mnode_to_idx\u001b[0m\u001b[0;34m[\u001b[0m\u001b[0mnode\u001b[0m\u001b[0;34m]\u001b[0m\u001b[0;34m:\u001b[0m\u001b[0;34m\u001b[0m\u001b[0m\n\u001b[1;32m   1271\u001b[0m \u001b[0;34m\u001b[0m\u001b[0m\n\u001b[0;32m-> 1272\u001b[0;31m                         \u001b[0mterm\u001b[0m \u001b[0;34m=\u001b[0m \u001b[0maccess_term_cache\u001b[0m\u001b[0;34m(\u001b[0m\u001b[0mnode\u001b[0m\u001b[0;34m)\u001b[0m\u001b[0;34m[\u001b[0m\u001b[0midx\u001b[0m\u001b[0;34m]\u001b[0m\u001b[0;34m\u001b[0m\u001b[0m\n\u001b[0m\u001b[1;32m   1273\u001b[0m \u001b[0;34m\u001b[0m\u001b[0m\n\u001b[1;32m   1274\u001b[0m                         \u001b[0;32mif\u001b[0m \u001b[0;32mnot\u001b[0m \u001b[0misinstance\u001b[0m\u001b[0;34m(\u001b[0m\u001b[0mterm\u001b[0m\u001b[0;34m,\u001b[0m \u001b[0mgof\u001b[0m\u001b[0;34m.\u001b[0m\u001b[0mVariable\u001b[0m\u001b[0;34m)\u001b[0m\u001b[0;34m:\u001b[0m\u001b[0;34m\u001b[0m\u001b[0m\n",
      "\u001b[0;32m/Users/B/anaconda/envs/boston-crash-model/lib/python2.7/site-packages/theano/gradient.pyc\u001b[0m in \u001b[0;36maccess_term_cache\u001b[0;34m(node)\u001b[0m\n\u001b[1;32m   1106\u001b[0m \u001b[0;34m\u001b[0m\u001b[0m\n\u001b[1;32m   1107\u001b[0m                 input_grads = node.op.L_op(inputs, node.outputs,\n\u001b[0;32m-> 1108\u001b[0;31m                                            new_output_grads)\n\u001b[0m\u001b[1;32m   1109\u001b[0m \u001b[0;34m\u001b[0m\u001b[0m\n\u001b[1;32m   1110\u001b[0m                 \u001b[0;32mif\u001b[0m \u001b[0minput_grads\u001b[0m \u001b[0;32mis\u001b[0m \u001b[0mNone\u001b[0m\u001b[0;34m:\u001b[0m\u001b[0;34m\u001b[0m\u001b[0m\n",
      "\u001b[0;32m/Users/B/anaconda/envs/boston-crash-model/lib/python2.7/site-packages/theano/tensor/elemwise.pyc\u001b[0m in \u001b[0;36mL_op\u001b[0;34m(self, inputs, outs, ograds)\u001b[0m\n\u001b[1;32m    637\u001b[0m \u001b[0;34m\u001b[0m\u001b[0m\n\u001b[1;32m    638\u001b[0m         \u001b[0;31m# compute grad with respect to broadcasted input\u001b[0m\u001b[0;34m\u001b[0m\u001b[0;34m\u001b[0m\u001b[0m\n\u001b[0;32m--> 639\u001b[0;31m         \u001b[0mrval\u001b[0m \u001b[0;34m=\u001b[0m \u001b[0mself\u001b[0m\u001b[0;34m.\u001b[0m\u001b[0m_bgrad\u001b[0m\u001b[0;34m(\u001b[0m\u001b[0minputs\u001b[0m\u001b[0;34m,\u001b[0m \u001b[0mograds\u001b[0m\u001b[0;34m)\u001b[0m\u001b[0;34m\u001b[0m\u001b[0m\n\u001b[0m\u001b[1;32m    640\u001b[0m \u001b[0;34m\u001b[0m\u001b[0m\n\u001b[1;32m    641\u001b[0m         \u001b[0;31m# TODO: make sure that zeros are clearly identifiable\u001b[0m\u001b[0;34m\u001b[0m\u001b[0;34m\u001b[0m\u001b[0m\n",
      "\u001b[0;32m/Users/B/anaconda/envs/boston-crash-model/lib/python2.7/site-packages/theano/tensor/elemwise.pyc\u001b[0m in \u001b[0;36m_bgrad\u001b[0;34m(self, inputs, ograds)\u001b[0m\n\u001b[1;32m    732\u001b[0m                 \u001b[0mret\u001b[0m\u001b[0;34m.\u001b[0m\u001b[0mappend\u001b[0m\u001b[0;34m(\u001b[0m\u001b[0mNone\u001b[0m\u001b[0;34m)\u001b[0m\u001b[0;34m\u001b[0m\u001b[0m\n\u001b[1;32m    733\u001b[0m                 \u001b[0;32mcontinue\u001b[0m\u001b[0;34m\u001b[0m\u001b[0m\n\u001b[0;32m--> 734\u001b[0;31m             \u001b[0mret\u001b[0m\u001b[0;34m.\u001b[0m\u001b[0mappend\u001b[0m\u001b[0;34m(\u001b[0m\u001b[0mtransform\u001b[0m\u001b[0;34m(\u001b[0m\u001b[0mscalar_igrad\u001b[0m\u001b[0;34m)\u001b[0m\u001b[0;34m)\u001b[0m\u001b[0;34m\u001b[0m\u001b[0m\n\u001b[0m\u001b[1;32m    735\u001b[0m \u001b[0;34m\u001b[0m\u001b[0m\n\u001b[1;32m    736\u001b[0m         \u001b[0;32mreturn\u001b[0m \u001b[0mret\u001b[0m\u001b[0;34m\u001b[0m\u001b[0m\n",
      "\u001b[0;32m/Users/B/anaconda/envs/boston-crash-model/lib/python2.7/site-packages/theano/tensor/elemwise.pyc\u001b[0m in \u001b[0;36mtransform\u001b[0;34m(r)\u001b[0m\n\u001b[1;32m    724\u001b[0m \u001b[0;34m\u001b[0m\u001b[0m\n\u001b[1;32m    725\u001b[0m             new_r = Elemwise(node.op, {})(\n\u001b[0;32m--> 726\u001b[0;31m                 *[transform(ipt) for ipt in node.inputs])\n\u001b[0m\u001b[1;32m    727\u001b[0m             \u001b[0;32mreturn\u001b[0m \u001b[0mnew_r\u001b[0m\u001b[0;34m\u001b[0m\u001b[0m\n\u001b[1;32m    728\u001b[0m         \u001b[0mret\u001b[0m \u001b[0;34m=\u001b[0m \u001b[0;34m[\u001b[0m\u001b[0;34m]\u001b[0m\u001b[0;34m\u001b[0m\u001b[0m\n",
      "\u001b[0;32m/Users/B/anaconda/envs/boston-crash-model/lib/python2.7/site-packages/theano/tensor/elemwise.pyc\u001b[0m in \u001b[0;36mtransform\u001b[0;34m(r)\u001b[0m\n\u001b[1;32m    724\u001b[0m \u001b[0;34m\u001b[0m\u001b[0m\n\u001b[1;32m    725\u001b[0m             new_r = Elemwise(node.op, {})(\n\u001b[0;32m--> 726\u001b[0;31m                 *[transform(ipt) for ipt in node.inputs])\n\u001b[0m\u001b[1;32m    727\u001b[0m             \u001b[0;32mreturn\u001b[0m \u001b[0mnew_r\u001b[0m\u001b[0;34m\u001b[0m\u001b[0m\n\u001b[1;32m    728\u001b[0m         \u001b[0mret\u001b[0m \u001b[0;34m=\u001b[0m \u001b[0;34m[\u001b[0m\u001b[0;34m]\u001b[0m\u001b[0;34m\u001b[0m\u001b[0m\n",
      "\u001b[0;32m/Users/B/anaconda/envs/boston-crash-model/lib/python2.7/site-packages/theano/gof/op.pyc\u001b[0m in \u001b[0;36m__call__\u001b[0;34m(self, *inputs, **kwargs)\u001b[0m\n\u001b[1;32m    672\u001b[0m                 \u001b[0mthunk\u001b[0m\u001b[0;34m.\u001b[0m\u001b[0moutputs\u001b[0m \u001b[0;34m=\u001b[0m \u001b[0;34m[\u001b[0m\u001b[0mstorage_map\u001b[0m\u001b[0;34m[\u001b[0m\u001b[0mv\u001b[0m\u001b[0;34m]\u001b[0m \u001b[0;32mfor\u001b[0m \u001b[0mv\u001b[0m \u001b[0;32min\u001b[0m \u001b[0mnode\u001b[0m\u001b[0;34m.\u001b[0m\u001b[0moutputs\u001b[0m\u001b[0;34m]\u001b[0m\u001b[0;34m\u001b[0m\u001b[0m\n\u001b[1;32m    673\u001b[0m \u001b[0;34m\u001b[0m\u001b[0m\n\u001b[0;32m--> 674\u001b[0;31m                 \u001b[0mrequired\u001b[0m \u001b[0;34m=\u001b[0m \u001b[0mthunk\u001b[0m\u001b[0;34m(\u001b[0m\u001b[0;34m)\u001b[0m\u001b[0;34m\u001b[0m\u001b[0m\n\u001b[0m\u001b[1;32m    675\u001b[0m                 \u001b[0;32massert\u001b[0m \u001b[0;32mnot\u001b[0m \u001b[0mrequired\u001b[0m  \u001b[0;31m# We provided all inputs\u001b[0m\u001b[0;34m\u001b[0m\u001b[0m\n\u001b[1;32m    676\u001b[0m \u001b[0;34m\u001b[0m\u001b[0m\n",
      "\u001b[0;32m/Users/B/anaconda/envs/boston-crash-model/lib/python2.7/site-packages/theano/gof/op.pyc\u001b[0m in \u001b[0;36mrval\u001b[0;34m()\u001b[0m\n\u001b[1;32m    842\u001b[0m         \u001b[0;32mdef\u001b[0m \u001b[0mrval\u001b[0m\u001b[0;34m(\u001b[0m\u001b[0;34m)\u001b[0m\u001b[0;34m:\u001b[0m\u001b[0;34m\u001b[0m\u001b[0m\n\u001b[1;32m    843\u001b[0m             \u001b[0mfill_storage\u001b[0m\u001b[0;34m(\u001b[0m\u001b[0;34m)\u001b[0m\u001b[0;34m\u001b[0m\u001b[0m\n\u001b[0;32m--> 844\u001b[0;31m             \u001b[0;32mfor\u001b[0m \u001b[0mo\u001b[0m \u001b[0;32min\u001b[0m \u001b[0mnode\u001b[0m\u001b[0;34m.\u001b[0m\u001b[0moutputs\u001b[0m\u001b[0;34m:\u001b[0m\u001b[0;34m\u001b[0m\u001b[0m\n\u001b[0m\u001b[1;32m    845\u001b[0m                 \u001b[0mcompute_map\u001b[0m\u001b[0;34m[\u001b[0m\u001b[0mo\u001b[0m\u001b[0;34m]\u001b[0m\u001b[0;34m[\u001b[0m\u001b[0;36m0\u001b[0m\u001b[0;34m]\u001b[0m \u001b[0;34m=\u001b[0m \u001b[0mTrue\u001b[0m\u001b[0;34m\u001b[0m\u001b[0m\n\u001b[1;32m    846\u001b[0m \u001b[0;34m\u001b[0m\u001b[0m\n",
      "\u001b[0;31mKeyboardInterrupt\u001b[0m: "
     ]
    }
   ],
   "source": [
    "class CAR(pm.distributions.distribution.Continuous):\n",
    "    def __init__(self, alpha, adjacency, *args, **kwargs):\n",
    "        if not isinstance(adjacency, np.ndarray):\n",
    "            raise ValueError(\"Adjacency matrix is not an ndarray.\")\n",
    "        n, m = adjacency.shape\n",
    "        if n != m or np.any(adjacency != adjacency.T):\n",
    "            raise ValueError('Adjacency matrix must be symmetric.')\n",
    "        if 'shape' in kwargs and kwargs['shape'] == n:\n",
    "            raise ValueError('Invalid shape: Must match matrix dimension.')\n",
    "        kwargs['shape'] = n\n",
    "        super(CAR, self).__init__(*args, **kwargs)\n",
    "        self.n = n\n",
    "        self.alpha = tt.as_tensor_variable(alpha)\n",
    "        adjacency_sparse = scipy.sparse.csr_matrix(adjacency)\n",
    "        self.adjacency = theano.sparse.as_sparse_variable(adjacency_sparse)\n",
    "        self.neighbors = tt.as_tensor_variable(adjacency.sum(0))\n",
    "        self.mean = tt.zeros(n)\n",
    "        self.median = self.mean\n",
    "        adj = adjacency.astype('d').copy()\n",
    "        sqrt_neighbors = 1 / np.sqrt(adjacency.sum(0))\n",
    "        adj[:] *= sqrt_neighbors[:, None]\n",
    "        adj[:] *= sqrt_neighbors[None, :]\n",
    "        self.eigs = scipy.linalg.eigvalsh(adj)\n",
    "\n",
    "    def logp(self, x):\n",
    "        Wx = theano.sparse.dot(self.adjacency, x.reshape((self.n, 1)))\n",
    "        tau_dot_x = self.neighbors * x - self.alpha * Wx.ravel()\n",
    "        logdet = tt.log(1 - self.alpha * self.eigs).sum()\n",
    "        logp = 0.5 * (logdet - tt.dot(x, tau_dot_x))\n",
    "        return logp\n",
    "\n",
    "with pm.Model() as model:\n",
    "    b0 = pm.Normal('intercept', mu=5.4, sd=2)\n",
    "    b1 = pm.Cauchy('avg_week', alpha=0, beta=2)\n",
    "    b2 = pm.Uniform('speed_limit_g30', lower=0, upper=1)\n",
    "\n",
    "    # random effect precision parameter\n",
    "    sd = pm.HalfCauchy('sd', beta=2)\n",
    "    # strength of spatial correlation\n",
    "    alpha = pm.Uniform('alpha', lower=0, upper=1)\n",
    "    phi = CAR('mu_phi', alpha=alpha, adjacency=amat)\n",
    "    \n",
    "    theta = pm.invlogit(b0 + b1 * data_model.avg_week.values + \\\n",
    "                        b2 * data_model.speed_g30.values + sd * phi)\n",
    "    \n",
    "    obs_crash = pm.Binomial('obs_crash', n=N, p=theta, observed=O)\n",
    "    \n",
    "    trace = pm.sample(2000, tune=1000, njobs=4)"
   ]
  },
  {
   "cell_type": "code",
   "execution_count": null,
   "metadata": {},
   "outputs": [],
   "source": [
    "pm.traceplot(trace[1500:]);"
   ]
  },
  {
   "cell_type": "code",
   "execution_count": 21,
   "metadata": {
    "collapsed": true
   },
   "outputs": [],
   "source": []
  },
  {
   "cell_type": "code",
   "execution_count": 66,
   "metadata": {
    "collapsed": true
   },
   "outputs": [],
   "source": [
    "from sklearn.metrics import roc_auc_score"
   ]
  },
  {
   "cell_type": "code",
   "execution_count": 72,
   "metadata": {
    "scrolled": true
   },
   "outputs": [
    {
     "name": "stderr",
     "output_type": "stream",
     "text": [
      "\n",
      "  0%|          | 0/5000 [00:00<?, ?it/s]\u001b[A\n",
      "  0%|          | 6/5000 [00:00<01:30, 55.11it/s]\u001b[A\n",
      "  0%|          | 15/5000 [00:00<01:21, 61.14it/s]\u001b[A\n",
      "  0%|          | 23/5000 [00:00<01:16, 65.18it/s]\u001b[A\n",
      "  1%|          | 31/5000 [00:00<01:12, 68.90it/s]\u001b[A\n",
      "  1%|          | 40/5000 [00:00<01:08, 72.68it/s]\u001b[A\n",
      "  1%|          | 48/5000 [00:00<01:06, 74.29it/s]\u001b[A\n",
      "  1%|          | 56/5000 [00:00<01:06, 74.70it/s]\u001b[A\n",
      "  1%|▏         | 64/5000 [00:00<01:06, 74.27it/s]\u001b[A\n",
      "  1%|▏         | 74/5000 [00:00<01:02, 79.11it/s]\u001b[A\n",
      "  2%|▏         | 83/5000 [00:01<01:01, 79.77it/s]\u001b[A\n",
      "  2%|▏         | 92/5000 [00:01<00:59, 82.12it/s]\u001b[A\n",
      "  2%|▏         | 101/5000 [00:01<00:58, 84.05it/s]\u001b[A\n",
      "  2%|▏         | 110/5000 [00:01<00:59, 82.46it/s]\u001b[A\n",
      "  2%|▏         | 119/5000 [00:01<00:58, 83.08it/s]\u001b[A\n",
      "  3%|▎         | 128/5000 [00:01<01:04, 75.16it/s]\u001b[A\n",
      "  3%|▎         | 136/5000 [00:01<01:03, 76.40it/s]\u001b[A\n",
      "  3%|▎         | 146/5000 [00:01<00:59, 81.75it/s]\u001b[A\n",
      "  3%|▎         | 155/5000 [00:01<01:00, 80.58it/s]\u001b[A\n",
      "  3%|▎         | 165/5000 [00:02<00:57, 83.37it/s]\u001b[A\n",
      "  3%|▎         | 174/5000 [00:02<01:04, 75.05it/s]\u001b[A\n",
      "  4%|▎         | 182/5000 [00:02<01:06, 72.49it/s]\u001b[A\n",
      "  4%|▍         | 191/5000 [00:02<01:04, 74.89it/s]\u001b[A\n",
      "  4%|▍         | 201/5000 [00:02<01:00, 79.24it/s]\u001b[A\n",
      "  4%|▍         | 211/5000 [00:02<00:58, 81.72it/s]\u001b[A\n",
      "  4%|▍         | 221/5000 [00:02<00:55, 85.82it/s]\u001b[A\n",
      "  5%|▍         | 231/5000 [00:02<00:54, 88.27it/s]\u001b[A\n",
      "  5%|▍         | 240/5000 [00:02<00:55, 85.11it/s]\u001b[A\n",
      "  5%|▍         | 249/5000 [00:03<01:00, 78.71it/s]\u001b[A\n",
      "  5%|▌         | 258/5000 [00:03<01:00, 78.26it/s]\u001b[A\n",
      "  5%|▌         | 268/5000 [00:03<00:57, 81.86it/s]\u001b[A\n",
      "  6%|▌         | 278/5000 [00:03<00:55, 84.65it/s]\u001b[A\n",
      "  6%|▌         | 287/5000 [00:03<00:54, 85.88it/s]\u001b[A\n",
      "  6%|▌         | 296/5000 [00:03<00:55, 84.50it/s]\u001b[A\n",
      "  6%|▌         | 305/5000 [00:03<00:54, 85.56it/s]\u001b[A\n",
      "  6%|▋         | 315/5000 [00:03<00:52, 89.37it/s]\u001b[A\n",
      "  6%|▋         | 325/5000 [00:03<00:53, 87.81it/s]\u001b[A\n",
      "  7%|▋         | 335/5000 [00:04<00:51, 90.67it/s]\u001b[A\n",
      "  7%|▋         | 345/5000 [00:04<00:52, 88.03it/s]\u001b[A\n",
      "  7%|▋         | 355/5000 [00:04<00:51, 90.73it/s]\u001b[A\n",
      "  7%|▋         | 365/5000 [00:04<00:50, 91.75it/s]\u001b[A\n",
      "  8%|▊         | 375/5000 [00:04<00:50, 90.90it/s]\u001b[A\n",
      "  8%|▊         | 385/5000 [00:04<00:52, 88.61it/s]\u001b[A\n",
      "  8%|▊         | 394/5000 [00:04<00:52, 88.34it/s]\u001b[A\n",
      "  8%|▊         | 405/5000 [00:04<00:49, 92.32it/s]\u001b[A\n",
      "  8%|▊         | 415/5000 [00:04<00:51, 88.82it/s]\u001b[A\n",
      "  8%|▊         | 424/5000 [00:05<00:51, 88.54it/s]\u001b[A\n",
      "  9%|▊         | 433/5000 [00:05<00:53, 85.13it/s]\u001b[A\n",
      "  9%|▉         | 443/5000 [00:05<00:51, 88.95it/s]\u001b[A\n",
      "  9%|▉         | 452/5000 [00:05<00:52, 86.53it/s]\u001b[A\n",
      "  9%|▉         | 462/5000 [00:05<00:50, 89.92it/s]\u001b[A\n",
      "  9%|▉         | 472/5000 [00:05<00:49, 91.13it/s]\u001b[A\n",
      " 10%|▉         | 482/5000 [00:05<00:49, 91.41it/s]\u001b[A\n",
      " 10%|▉         | 493/5000 [00:05<00:47, 94.54it/s]\u001b[A\n",
      " 10%|█         | 503/5000 [00:05<00:47, 93.76it/s]\u001b[A\n",
      " 10%|█         | 513/5000 [00:06<00:47, 94.18it/s]\u001b[A\n",
      " 10%|█         | 523/5000 [00:06<00:48, 91.78it/s]\u001b[A\n",
      " 11%|█         | 533/5000 [00:06<00:48, 92.30it/s]\u001b[A\n",
      " 11%|█         | 543/5000 [00:06<00:49, 89.56it/s]\u001b[A\n",
      " 11%|█         | 553/5000 [00:06<00:48, 90.97it/s]\u001b[A\n",
      " 11%|█▏        | 563/5000 [00:06<00:48, 90.76it/s]\u001b[A\n",
      " 11%|█▏        | 573/5000 [00:06<00:50, 87.61it/s]\u001b[A\n",
      " 12%|█▏        | 583/5000 [00:06<00:49, 90.05it/s]\u001b[A\n",
      " 12%|█▏        | 593/5000 [00:06<00:49, 88.52it/s]\u001b[A\n",
      " 12%|█▏        | 604/5000 [00:07<00:47, 91.83it/s]\u001b[A\n",
      " 12%|█▏        | 614/5000 [00:07<00:47, 91.53it/s]\u001b[A\n",
      " 12%|█▏        | 624/5000 [00:07<00:47, 91.25it/s]\u001b[A\n",
      " 13%|█▎        | 634/5000 [00:07<00:47, 92.31it/s]\u001b[A\n",
      " 13%|█▎        | 644/5000 [00:07<00:47, 91.15it/s]\u001b[A\n",
      " 13%|█▎        | 655/5000 [00:07<00:46, 93.14it/s]\u001b[A\n",
      " 13%|█▎        | 665/5000 [00:07<00:47, 90.78it/s]\u001b[A\n",
      " 14%|█▎        | 675/5000 [00:07<00:46, 92.28it/s]\u001b[A\n",
      " 14%|█▎        | 685/5000 [00:07<00:46, 91.93it/s]\u001b[A\n",
      " 14%|█▍        | 695/5000 [00:08<00:47, 90.56it/s]\u001b[A\n",
      " 14%|█▍        | 705/5000 [00:08<00:48, 89.27it/s]\u001b[A\n",
      " 14%|█▍        | 715/5000 [00:08<00:47, 89.33it/s]\u001b[A\n",
      " 14%|█▍        | 725/5000 [00:08<00:47, 89.71it/s]\u001b[A\n",
      " 15%|█▍        | 734/5000 [00:08<00:48, 88.56it/s]\u001b[A\n",
      " 15%|█▍        | 743/5000 [00:08<00:49, 86.38it/s]\u001b[A\n",
      " 15%|█▌        | 752/5000 [00:08<00:49, 85.60it/s]\u001b[A\n",
      " 15%|█▌        | 761/5000 [00:08<00:48, 86.67it/s]\u001b[A\n",
      " 15%|█▌        | 770/5000 [00:08<00:48, 87.60it/s]\u001b[A\n",
      " 16%|█▌        | 781/5000 [00:09<00:46, 91.15it/s]\u001b[A\n",
      " 16%|█▌        | 791/5000 [00:09<00:46, 90.71it/s]\u001b[A\n",
      " 16%|█▌        | 801/5000 [00:09<00:45, 92.02it/s]\u001b[A\n",
      " 16%|█▌        | 811/5000 [00:09<00:47, 88.99it/s]\u001b[A\n",
      " 16%|█▋        | 821/5000 [00:09<00:46, 88.97it/s]\u001b[A\n",
      " 17%|█▋        | 832/5000 [00:09<00:45, 92.21it/s]\u001b[A\n",
      " 17%|█▋        | 842/5000 [00:09<00:46, 90.00it/s]\u001b[A\n",
      " 17%|█▋        | 853/5000 [00:09<00:44, 92.85it/s]\u001b[A\n",
      " 17%|█▋        | 863/5000 [00:09<00:45, 91.40it/s]\u001b[A\n",
      " 17%|█▋        | 873/5000 [00:10<00:46, 87.98it/s]\u001b[A\n",
      " 18%|█▊        | 883/5000 [00:10<00:45, 90.10it/s]\u001b[A\n",
      " 18%|█▊        | 893/5000 [00:10<00:45, 89.83it/s]\u001b[A\n",
      " 18%|█▊        | 903/5000 [00:10<00:45, 89.26it/s]\u001b[A\n",
      " 18%|█▊        | 913/5000 [00:10<00:45, 90.49it/s]\u001b[A\n",
      " 18%|█▊        | 923/5000 [00:10<00:44, 91.62it/s]\u001b[A\n",
      " 19%|█▊        | 933/5000 [00:10<00:44, 91.37it/s]\u001b[A\n",
      " 19%|█▉        | 943/5000 [00:10<00:45, 89.13it/s]\u001b[A\n",
      " 19%|█▉        | 953/5000 [00:10<00:44, 91.83it/s]\u001b[A\n",
      " 19%|█▉        | 963/5000 [00:11<00:45, 89.38it/s]\u001b[A\n",
      " 19%|█▉        | 974/5000 [00:11<00:43, 92.55it/s]\u001b[A\n",
      " 20%|█▉        | 984/5000 [00:11<00:43, 92.47it/s]\u001b[A\n",
      " 20%|█▉        | 994/5000 [00:11<00:43, 93.00it/s]\u001b[A\n",
      " 20%|██        | 1004/5000 [00:11<00:43, 91.23it/s]\u001b[A\n",
      " 20%|██        | 1014/5000 [00:11<00:43, 91.63it/s]\u001b[A\n",
      " 20%|██        | 1024/5000 [00:11<00:43, 91.02it/s]\u001b[A\n",
      " 21%|██        | 1034/5000 [00:11<00:43, 91.52it/s]\u001b[A\n",
      " 21%|██        | 1044/5000 [00:11<00:43, 90.90it/s]\u001b[A\n",
      " 21%|██        | 1054/5000 [00:12<00:43, 90.25it/s]\u001b[A\n",
      " 21%|██▏       | 1064/5000 [00:12<00:43, 90.41it/s]\u001b[A\n",
      " 21%|██▏       | 1074/5000 [00:12<00:44, 88.39it/s]\u001b[A\n",
      " 22%|██▏       | 1083/5000 [00:12<00:44, 87.24it/s]\u001b[A\n",
      " 22%|██▏       | 1093/5000 [00:12<00:43, 90.56it/s]\u001b[A\n",
      " 22%|██▏       | 1103/5000 [00:12<00:44, 88.22it/s]\u001b[A\n",
      " 22%|██▏       | 1113/5000 [00:12<00:43, 89.83it/s]\u001b[A\n",
      " 22%|██▏       | 1123/5000 [00:12<00:42, 91.11it/s]\u001b[A\n",
      " 23%|██▎       | 1133/5000 [00:12<00:42, 91.24it/s]\u001b[A\n",
      " 23%|██▎       | 1143/5000 [00:13<00:41, 92.85it/s]\u001b[A\n",
      " 23%|██▎       | 1153/5000 [00:13<00:41, 92.19it/s]\u001b[A\n",
      " 23%|██▎       | 1163/5000 [00:13<00:41, 92.00it/s]\u001b[A\n",
      " 23%|██▎       | 1173/5000 [00:13<00:41, 91.47it/s]\u001b[A\n",
      " 24%|██▎       | 1183/5000 [00:13<00:42, 90.55it/s]\u001b[A\n",
      " 24%|██▍       | 1193/5000 [00:13<00:41, 91.02it/s]\u001b[A\n",
      " 24%|██▍       | 1203/5000 [00:13<00:41, 91.50it/s]\u001b[A\n",
      " 24%|██▍       | 1213/5000 [00:13<00:42, 88.96it/s]\u001b[A\n",
      " 24%|██▍       | 1223/5000 [00:13<00:41, 90.85it/s]\u001b[A\n",
      " 25%|██▍       | 1233/5000 [00:14<00:40, 92.14it/s]\u001b[A\n",
      " 25%|██▍       | 1243/5000 [00:14<00:42, 88.32it/s]\u001b[A\n",
      " 25%|██▌       | 1253/5000 [00:14<00:41, 90.87it/s]\u001b[A\n",
      " 25%|██▌       | 1263/5000 [00:14<00:41, 89.05it/s]\u001b[A\n",
      " 25%|██▌       | 1274/5000 [00:14<00:40, 92.57it/s]\u001b[A\n",
      " 26%|██▌       | 1284/5000 [00:14<00:41, 89.14it/s]\u001b[A\n",
      " 26%|██▌       | 1294/5000 [00:14<00:41, 89.46it/s]\u001b[A\n",
      " 26%|██▌       | 1303/5000 [00:14<00:41, 89.11it/s]\u001b[A\n",
      " 26%|██▋       | 1313/5000 [00:14<00:40, 89.99it/s]\u001b[A\n",
      " 26%|██▋       | 1323/5000 [00:15<00:40, 90.04it/s]\u001b[A\n",
      " 27%|██▋       | 1333/5000 [00:15<00:40, 89.84it/s]\u001b[A\n",
      " 27%|██▋       | 1342/5000 [00:15<00:42, 86.41it/s]\u001b[A\n",
      " 27%|██▋       | 1352/5000 [00:15<00:41, 88.65it/s]\u001b[A\n",
      " 27%|██▋       | 1362/5000 [00:15<00:40, 89.87it/s]\u001b[A\n",
      " 27%|██▋       | 1372/5000 [00:15<00:39, 91.17it/s]\u001b[A\n",
      " 28%|██▊       | 1382/5000 [00:15<00:40, 89.14it/s]\u001b[A\n",
      " 28%|██▊       | 1391/5000 [00:15<00:41, 88.01it/s]\u001b[A\n",
      " 28%|██▊       | 1401/5000 [00:15<00:40, 89.27it/s]\u001b[A\n",
      " 28%|██▊       | 1410/5000 [00:15<00:40, 88.95it/s]\u001b[A\n",
      " 28%|██▊       | 1419/5000 [00:16<00:41, 87.15it/s]\u001b[A\n",
      " 29%|██▊       | 1428/5000 [00:16<00:41, 87.11it/s]\u001b[A\n",
      " 29%|██▊       | 1437/5000 [00:16<00:40, 87.28it/s]\u001b[A\n",
      " 29%|██▉       | 1447/5000 [00:16<00:39, 90.55it/s]\u001b[A\n",
      " 29%|██▉       | 1457/5000 [00:16<00:40, 88.55it/s]\u001b[A\n",
      " 29%|██▉       | 1467/5000 [00:16<00:39, 89.85it/s]\u001b[A\n",
      " 30%|██▉       | 1477/5000 [00:16<00:39, 89.01it/s]\u001b[A\n",
      " 30%|██▉       | 1486/5000 [00:16<00:40, 86.22it/s]\u001b[A\n",
      " 30%|██▉       | 1497/5000 [00:16<00:38, 90.25it/s]\u001b[A\n",
      " 30%|███       | 1507/5000 [00:17<00:38, 90.10it/s]\u001b[A\n",
      " 30%|███       | 1518/5000 [00:17<00:37, 93.25it/s]\u001b[A\n",
      " 31%|███       | 1528/5000 [00:17<00:37, 93.55it/s]\u001b[A\n",
      " 31%|███       | 1539/5000 [00:17<00:36, 95.34it/s]\u001b[A\n",
      " 31%|███       | 1549/5000 [00:17<00:36, 94.35it/s]\u001b[A\n",
      " 31%|███       | 1559/5000 [00:17<00:35, 95.81it/s]\u001b[A\n",
      " 31%|███▏      | 1569/5000 [00:17<00:35, 96.23it/s]\u001b[A\n",
      " 32%|███▏      | 1579/5000 [00:17<00:35, 97.30it/s]\u001b[A\n",
      " 32%|███▏      | 1589/5000 [00:17<00:36, 94.61it/s]\u001b[A\n",
      " 32%|███▏      | 1600/5000 [00:18<00:34, 97.63it/s]\u001b[A\n",
      " 32%|███▏      | 1611/5000 [00:18<00:34, 98.32it/s]\u001b[A\n",
      " 32%|███▏      | 1621/5000 [00:18<00:34, 97.18it/s]\u001b[A\n",
      " 33%|███▎      | 1632/5000 [00:18<00:33, 99.10it/s]\u001b[A\n",
      " 33%|███▎      | 1642/5000 [00:18<00:34, 98.53it/s]\u001b[A\n",
      " 33%|███▎      | 1652/5000 [00:18<00:34, 97.06it/s]\u001b[A\n",
      " 33%|███▎      | 1662/5000 [00:18<00:34, 97.38it/s]\u001b[A\n",
      " 33%|███▎      | 1672/5000 [00:18<00:34, 97.41it/s]\u001b[A\n",
      " 34%|███▎      | 1682/5000 [00:18<00:34, 97.31it/s]\u001b[A\n",
      " 34%|███▍      | 1692/5000 [00:18<00:33, 97.98it/s]\u001b[A\n",
      " 34%|███▍      | 1702/5000 [00:19<00:33, 98.25it/s]\u001b[A\n",
      " 34%|███▍      | 1712/5000 [00:19<00:33, 97.73it/s]\u001b[A\n",
      " 34%|███▍      | 1723/5000 [00:19<00:32, 100.09it/s]\u001b[A\n",
      " 35%|███▍      | 1734/5000 [00:19<00:33, 97.99it/s] \u001b[A\n",
      " 35%|███▍      | 1745/5000 [00:19<00:32, 98.79it/s]\u001b[A\n",
      " 35%|███▌      | 1756/5000 [00:19<00:32, 99.74it/s]\u001b[A\n",
      " 35%|███▌      | 1766/5000 [00:19<00:32, 99.28it/s]\u001b[A\n",
      " 36%|███▌      | 1777/5000 [00:19<00:32, 99.66it/s]\u001b[A\n",
      " 36%|███▌      | 1787/5000 [00:19<00:32, 98.20it/s]\u001b[A\n",
      " 36%|███▌      | 1797/5000 [00:20<00:33, 94.49it/s]\u001b[A\n",
      " 36%|███▌      | 1808/5000 [00:20<00:33, 96.49it/s]\u001b[A\n",
      " 36%|███▋      | 1818/5000 [00:20<00:32, 97.39it/s]\u001b[A\n",
      " 37%|███▋      | 1828/5000 [00:20<00:34, 91.46it/s]\u001b[A\n",
      " 37%|███▋      | 1838/5000 [00:20<00:36, 87.27it/s]\u001b[A\n",
      " 37%|███▋      | 1847/5000 [00:20<00:36, 87.54it/s]\u001b[A\n",
      " 37%|███▋      | 1857/5000 [00:20<00:35, 89.70it/s]\u001b[A\n",
      " 37%|███▋      | 1867/5000 [00:20<00:35, 89.19it/s]\u001b[A\n",
      " 38%|███▊      | 1876/5000 [00:20<00:36, 85.49it/s]\u001b[A\n",
      " 38%|███▊      | 1886/5000 [00:21<00:35, 87.63it/s]\u001b[A\n",
      " 38%|███▊      | 1896/5000 [00:21<00:34, 89.24it/s]\u001b[A\n",
      " 38%|███▊      | 1905/5000 [00:21<00:35, 87.64it/s]\u001b[A\n",
      " 38%|███▊      | 1914/5000 [00:21<00:35, 87.03it/s]\u001b[A\n",
      " 38%|███▊      | 1923/5000 [00:21<00:35, 87.27it/s]\u001b[A\n",
      " 39%|███▊      | 1932/5000 [00:21<00:36, 84.49it/s]\u001b[A\n",
      " 39%|███▉      | 1941/5000 [00:21<00:36, 83.77it/s]\u001b[A\n",
      " 39%|███▉      | 1950/5000 [00:21<00:36, 84.26it/s]\u001b[A\n",
      " 39%|███▉      | 1960/5000 [00:21<00:35, 86.41it/s]\u001b[A\n",
      " 39%|███▉      | 1969/5000 [00:22<00:37, 80.61it/s]\u001b[A\n",
      " 40%|███▉      | 1978/5000 [00:22<00:36, 82.07it/s]\u001b[A\n",
      " 40%|███▉      | 1988/5000 [00:22<00:34, 86.34it/s]\u001b[A\n",
      " 40%|███▉      | 1997/5000 [00:22<00:35, 85.71it/s]\u001b[A\n",
      " 40%|████      | 2006/5000 [00:22<00:35, 85.50it/s]\u001b[A\n",
      " 40%|████      | 2015/5000 [00:22<00:44, 66.65it/s]\u001b[A\n",
      " 40%|████      | 2023/5000 [00:22<00:47, 62.86it/s]\u001b[A\n",
      " 41%|████      | 2030/5000 [00:22<00:49, 59.85it/s]\u001b[A\n",
      " 41%|████      | 2037/5000 [00:23<00:49, 60.43it/s]\u001b[A\n",
      " 41%|████      | 2044/5000 [00:23<00:52, 56.12it/s]\u001b[A\n",
      " 41%|████      | 2050/5000 [00:23<00:52, 55.99it/s]\u001b[A\n",
      " 41%|████      | 2056/5000 [00:23<00:53, 55.47it/s]\u001b[A\n",
      " 41%|████▏     | 2068/5000 [00:23<00:44, 65.45it/s]\u001b[A\n",
      " 42%|████▏     | 2079/5000 [00:23<00:39, 73.60it/s]\u001b[A\n",
      " 42%|████▏     | 2088/5000 [00:23<00:40, 72.78it/s]\u001b[A\n",
      " 42%|████▏     | 2097/5000 [00:23<00:37, 77.00it/s]\u001b[A\n",
      " 42%|████▏     | 2108/5000 [00:23<00:34, 83.73it/s]\u001b[A\n",
      " 42%|████▏     | 2117/5000 [00:24<00:34, 83.48it/s]\u001b[A\n",
      " 43%|████▎     | 2126/5000 [00:24<00:35, 81.91it/s]\u001b[A\n",
      " 43%|████▎     | 2135/5000 [00:24<00:36, 78.77it/s]\u001b[A\n",
      " 43%|████▎     | 2144/5000 [00:24<00:35, 80.48it/s]\u001b[A\n",
      " 43%|████▎     | 2153/5000 [00:24<00:34, 82.70it/s]\u001b[A\n",
      " 43%|████▎     | 2164/5000 [00:24<00:31, 89.00it/s]\u001b[A\n",
      " 44%|████▎     | 2175/5000 [00:24<00:30, 91.95it/s]\u001b[A\n",
      " 44%|████▎     | 2185/5000 [00:24<00:30, 92.02it/s]\u001b[A\n",
      " 44%|████▍     | 2197/5000 [00:24<00:28, 98.57it/s]\u001b[A\n",
      " 44%|████▍     | 2208/5000 [00:25<00:31, 87.92it/s]\u001b[A\n",
      " 44%|████▍     | 2218/5000 [00:25<00:30, 90.43it/s]\u001b[A\n",
      " 45%|████▍     | 2228/5000 [00:25<00:29, 92.59it/s]\u001b[A\n",
      " 45%|████▍     | 2239/5000 [00:25<00:28, 96.33it/s]\u001b[A\n",
      " 45%|████▌     | 2250/5000 [00:25<00:28, 98.07it/s]\u001b[A\n",
      " 45%|████▌     | 2261/5000 [00:25<00:27, 99.18it/s]\u001b[A\n",
      " 45%|████▌     | 2272/5000 [00:25<00:27, 100.76it/s]\u001b[A\n",
      " 46%|████▌     | 2283/5000 [00:25<00:28, 95.85it/s] \u001b[A\n",
      " 46%|████▌     | 2293/5000 [00:25<00:31, 84.85it/s]\u001b[A\n",
      " 46%|████▌     | 2302/5000 [00:26<00:32, 82.43it/s]\u001b[A\n",
      " 46%|████▌     | 2311/5000 [00:26<00:35, 75.54it/s]\u001b[A\n",
      " 46%|████▋     | 2319/5000 [00:26<00:35, 76.11it/s]\u001b[A\n",
      " 47%|████▋     | 2327/5000 [00:26<00:34, 76.62it/s]\u001b[A\n",
      " 47%|████▋     | 2336/5000 [00:26<00:33, 79.49it/s]\u001b[A\n",
      " 47%|████▋     | 2345/5000 [00:26<00:34, 76.12it/s]\u001b[A\n",
      " 47%|████▋     | 2353/5000 [00:27<00:54, 48.52it/s]\u001b[A\n",
      " 47%|████▋     | 2360/5000 [00:27<00:50, 52.60it/s]\u001b[A\n",
      " 47%|████▋     | 2367/5000 [00:27<00:47, 55.27it/s]\u001b[A\n",
      " 48%|████▊     | 2377/5000 [00:27<00:41, 62.77it/s]\u001b[A\n",
      " 48%|████▊     | 2387/5000 [00:27<00:37, 70.50it/s]\u001b[A\n",
      " 48%|████▊     | 2395/5000 [00:27<00:36, 71.04it/s]\u001b[A\n",
      " 48%|████▊     | 2403/5000 [00:27<00:37, 68.57it/s]\u001b[A\n",
      " 48%|████▊     | 2411/5000 [00:27<00:37, 68.37it/s]\u001b[A\n",
      " 48%|████▊     | 2419/5000 [00:27<00:36, 70.65it/s]\u001b[A\n",
      " 49%|████▊     | 2428/5000 [00:27<00:34, 74.53it/s]\u001b[A\n",
      " 49%|████▊     | 2436/5000 [00:28<00:34, 75.12it/s]\u001b[A\n",
      " 49%|████▉     | 2444/5000 [00:28<00:34, 74.19it/s]\u001b[A\n",
      " 49%|████▉     | 2453/5000 [00:28<00:32, 78.27it/s]\u001b[A\n",
      " 49%|████▉     | 2461/5000 [00:28<00:35, 71.60it/s]\u001b[A\n",
      " 49%|████▉     | 2469/5000 [00:28<00:34, 73.21it/s]\u001b[A\n",
      " 50%|████▉     | 2477/5000 [00:28<00:36, 69.28it/s]\u001b[A\n",
      " 50%|████▉     | 2485/5000 [00:28<00:36, 68.91it/s]\u001b[A\n",
      " 50%|████▉     | 2493/5000 [00:28<00:35, 71.45it/s]\u001b[A\n",
      " 50%|█████     | 2501/5000 [00:28<00:33, 73.60it/s]\u001b[A\n",
      " 50%|█████     | 2510/5000 [00:29<00:32, 75.96it/s]\u001b[A\n",
      " 50%|█████     | 2520/5000 [00:29<00:30, 81.25it/s]\u001b[A\n",
      " 51%|█████     | 2531/5000 [00:29<00:28, 86.20it/s]\u001b[A\n",
      " 51%|█████     | 2541/5000 [00:29<00:27, 89.30it/s]\u001b[A\n",
      " 51%|█████     | 2551/5000 [00:29<00:29, 81.80it/s]\u001b[A\n",
      " 51%|█████     | 2560/5000 [00:29<00:32, 75.60it/s]\u001b[A\n",
      " 51%|█████▏    | 2568/5000 [00:29<00:33, 71.66it/s]\u001b[A\n",
      " 52%|█████▏    | 2576/5000 [00:29<00:38, 63.71it/s]\u001b[A\n",
      " 52%|█████▏    | 2583/5000 [00:30<00:41, 58.88it/s]\u001b[A\n",
      " 52%|█████▏    | 2590/5000 [00:30<00:39, 60.66it/s]\u001b[A\n",
      " 52%|█████▏    | 2601/5000 [00:30<00:34, 69.60it/s]\u001b[A\n",
      " 52%|█████▏    | 2613/5000 [00:30<00:30, 78.46it/s]\u001b[A\n",
      " 52%|█████▏    | 2624/5000 [00:30<00:27, 85.72it/s]\u001b[A\n",
      " 53%|█████▎    | 2635/5000 [00:30<00:25, 91.05it/s]\u001b[A\n",
      " 53%|█████▎    | 2647/5000 [00:30<00:24, 96.43it/s]\u001b[A\n",
      " 53%|█████▎    | 2658/5000 [00:30<00:24, 95.67it/s]\u001b[A\n",
      " 53%|█████▎    | 2670/5000 [00:30<00:23, 100.92it/s]\u001b[A\n",
      " 54%|█████▎    | 2681/5000 [00:31<00:22, 101.97it/s]\u001b[A\n",
      " 54%|█████▍    | 2693/5000 [00:31<00:21, 105.06it/s]\u001b[A\n",
      " 54%|█████▍    | 2704/5000 [00:31<00:23, 97.15it/s] \u001b[A\n",
      " 54%|█████▍    | 2714/5000 [00:31<00:25, 89.66it/s]\u001b[A\n",
      " 54%|█████▍    | 2724/5000 [00:31<00:26, 84.48it/s]\u001b[A\n",
      " 55%|█████▍    | 2733/5000 [00:31<00:27, 83.29it/s]\u001b[A\n",
      " 55%|█████▍    | 2744/5000 [00:31<00:25, 89.78it/s]\u001b[A\n",
      " 55%|█████▌    | 2756/5000 [00:31<00:23, 94.41it/s]\u001b[A\n",
      " 55%|█████▌    | 2766/5000 [00:32<00:25, 88.27it/s]\u001b[A\n",
      " 56%|█████▌    | 2776/5000 [00:32<00:33, 66.47it/s]\u001b[A\n",
      " 56%|█████▌    | 2786/5000 [00:32<00:30, 72.37it/s]\u001b[A\n",
      " 56%|█████▌    | 2795/5000 [00:32<00:29, 75.92it/s]\u001b[A\n",
      " 56%|█████▌    | 2805/5000 [00:32<00:27, 79.94it/s]\u001b[A\n",
      " 56%|█████▋    | 2814/5000 [00:32<00:26, 81.97it/s]\u001b[A\n",
      " 56%|█████▋    | 2823/5000 [00:32<00:26, 82.12it/s]\u001b[A\n",
      " 57%|█████▋    | 2832/5000 [00:32<00:25, 84.21it/s]\u001b[A\n",
      " 57%|█████▋    | 2842/5000 [00:33<00:25, 86.28it/s]\u001b[A\n",
      " 57%|█████▋    | 2851/5000 [00:33<00:26, 81.68it/s]\u001b[A\n",
      " 57%|█████▋    | 2860/5000 [00:33<00:27, 76.51it/s]\u001b[A\n",
      " 57%|█████▋    | 2868/5000 [00:33<00:28, 74.01it/s]\u001b[A\n",
      " 58%|█████▊    | 2876/5000 [00:33<00:30, 70.17it/s]\u001b[A\n"
     ]
    },
    {
     "name": "stderr",
     "output_type": "stream",
     "text": [
      " 58%|█████▊    | 2884/5000 [00:33<00:31, 66.51it/s]\u001b[A\n",
      " 58%|█████▊    | 2893/5000 [00:33<00:31, 67.66it/s]\u001b[A\n",
      " 58%|█████▊    | 2900/5000 [00:33<00:30, 68.25it/s]\u001b[A\n",
      " 58%|█████▊    | 2908/5000 [00:34<00:29, 70.64it/s]\u001b[A\n",
      " 58%|█████▊    | 2921/5000 [00:34<00:25, 80.82it/s]\u001b[A\n",
      " 59%|█████▊    | 2932/5000 [00:34<00:23, 86.85it/s]\u001b[A\n",
      " 59%|█████▉    | 2944/5000 [00:34<00:22, 92.96it/s]\u001b[A\n",
      " 59%|█████▉    | 2956/5000 [00:34<00:20, 97.77it/s]\u001b[A\n",
      " 59%|█████▉    | 2969/5000 [00:34<00:19, 103.80it/s]\u001b[A\n",
      " 60%|█████▉    | 2982/5000 [00:34<00:18, 107.93it/s]\u001b[A\n",
      " 60%|█████▉    | 2994/5000 [00:34<00:18, 110.81it/s]\u001b[A\n",
      " 60%|██████    | 3007/5000 [00:34<00:17, 113.54it/s]\u001b[A\n",
      " 60%|██████    | 3019/5000 [00:34<00:17, 114.24it/s]\u001b[A\n",
      " 61%|██████    | 3031/5000 [00:35<00:17, 114.30it/s]\u001b[A\n",
      " 61%|██████    | 3043/5000 [00:35<00:17, 111.46it/s]\u001b[A\n",
      " 61%|██████    | 3055/5000 [00:35<00:17, 113.59it/s]\u001b[A\n",
      " 61%|██████▏   | 3067/5000 [00:35<00:16, 114.25it/s]\u001b[A\n",
      " 62%|██████▏   | 3079/5000 [00:35<00:16, 115.68it/s]\u001b[A\n",
      " 62%|██████▏   | 3091/5000 [00:35<00:16, 115.96it/s]\u001b[A\n",
      " 62%|██████▏   | 3103/5000 [00:35<00:16, 114.77it/s]\u001b[A\n",
      " 62%|██████▏   | 3116/5000 [00:35<00:16, 116.96it/s]\u001b[A\n",
      " 63%|██████▎   | 3128/5000 [00:35<00:15, 117.55it/s]\u001b[A\n",
      " 63%|██████▎   | 3140/5000 [00:36<00:15, 117.54it/s]\u001b[A\n",
      " 63%|██████▎   | 3152/5000 [00:36<00:15, 117.88it/s]\u001b[A\n",
      " 63%|██████▎   | 3164/5000 [00:36<00:15, 116.28it/s]\u001b[A\n",
      " 64%|██████▎   | 3176/5000 [00:36<00:15, 116.51it/s]\u001b[A\n",
      " 64%|██████▍   | 3188/5000 [00:36<00:15, 115.40it/s]\u001b[A\n",
      " 64%|██████▍   | 3200/5000 [00:36<00:16, 108.51it/s]\u001b[A\n",
      " 64%|██████▍   | 3211/5000 [00:36<00:17, 104.81it/s]\u001b[A\n",
      " 64%|██████▍   | 3222/5000 [00:36<00:17, 101.40it/s]\u001b[A\n",
      " 65%|██████▍   | 3233/5000 [00:36<00:17, 98.56it/s] \u001b[A\n",
      " 65%|██████▍   | 3243/5000 [00:36<00:18, 97.11it/s]\u001b[A\n",
      " 65%|██████▌   | 3253/5000 [00:37<00:19, 87.66it/s]\u001b[A\n",
      " 65%|██████▌   | 3262/5000 [00:37<00:19, 87.47it/s]\u001b[A\n",
      " 65%|██████▌   | 3272/5000 [00:37<00:19, 89.16it/s]\u001b[A\n",
      " 66%|██████▌   | 3282/5000 [00:37<00:19, 88.88it/s]\u001b[A\n",
      " 66%|██████▌   | 3292/5000 [00:37<00:19, 89.49it/s]\u001b[A\n",
      " 66%|██████▌   | 3302/5000 [00:37<00:18, 90.83it/s]\u001b[A\n",
      " 66%|██████▌   | 3312/5000 [00:37<00:18, 91.39it/s]\u001b[A\n",
      " 66%|██████▋   | 3322/5000 [00:37<00:17, 93.67it/s]\u001b[A\n",
      " 67%|██████▋   | 3332/5000 [00:37<00:17, 94.37it/s]\u001b[A\n",
      " 67%|██████▋   | 3343/5000 [00:38<00:17, 97.06it/s]\u001b[A\n",
      " 67%|██████▋   | 3353/5000 [00:38<00:16, 97.60it/s]\u001b[A\n",
      " 67%|██████▋   | 3363/5000 [00:38<00:18, 89.35it/s]\u001b[A\n",
      " 67%|██████▋   | 3373/5000 [00:38<00:18, 88.03it/s]\u001b[A\n",
      " 68%|██████▊   | 3382/5000 [00:38<00:19, 82.87it/s]\u001b[A\n",
      " 68%|██████▊   | 3391/5000 [00:38<00:19, 80.76it/s]\u001b[A\n",
      " 68%|██████▊   | 3400/5000 [00:38<00:21, 73.39it/s]\u001b[A\n",
      " 68%|██████▊   | 3408/5000 [00:38<00:21, 73.18it/s]\u001b[A\n",
      " 68%|██████▊   | 3420/5000 [00:39<00:19, 81.50it/s]\u001b[A\n",
      " 69%|██████▊   | 3431/5000 [00:39<00:17, 88.09it/s]\u001b[A\n",
      " 69%|██████▉   | 3442/5000 [00:39<00:16, 93.58it/s]\u001b[A\n",
      " 69%|██████▉   | 3453/5000 [00:39<00:15, 97.77it/s]\u001b[A\n",
      " 69%|██████▉   | 3464/5000 [00:39<00:15, 99.71it/s]\u001b[A\n",
      " 70%|██████▉   | 3475/5000 [00:39<00:15, 98.28it/s]\u001b[A\n",
      " 70%|██████▉   | 3486/5000 [00:39<00:15, 100.75it/s]\u001b[A\n",
      " 70%|██████▉   | 3497/5000 [00:39<00:14, 102.21it/s]\u001b[A\n",
      " 70%|███████   | 3508/5000 [00:39<00:15, 98.34it/s] \u001b[A\n",
      " 70%|███████   | 3519/5000 [00:40<00:14, 100.41it/s]\u001b[A\n",
      " 71%|███████   | 3531/5000 [00:40<00:14, 102.93it/s]\u001b[A\n",
      " 71%|███████   | 3542/5000 [00:40<00:14, 102.74it/s]\u001b[A\n",
      " 71%|███████   | 3553/5000 [00:40<00:13, 103.95it/s]\u001b[A\n",
      " 71%|███████▏  | 3565/5000 [00:40<00:13, 107.47it/s]\u001b[A\n",
      " 72%|███████▏  | 3577/5000 [00:40<00:13, 108.64it/s]\u001b[A\n",
      " 72%|███████▏  | 3588/5000 [00:40<00:14, 98.87it/s] \u001b[A\n",
      " 72%|███████▏  | 3600/5000 [00:40<00:13, 102.67it/s]\u001b[A\n",
      " 72%|███████▏  | 3612/5000 [00:40<00:13, 104.04it/s]\u001b[A\n",
      " 72%|███████▏  | 3623/5000 [00:41<00:13, 105.23it/s]\u001b[A\n",
      " 73%|███████▎  | 3635/5000 [00:41<00:12, 107.03it/s]\u001b[A\n",
      " 73%|███████▎  | 3646/5000 [00:41<00:12, 107.79it/s]\u001b[A\n",
      " 73%|███████▎  | 3657/5000 [00:41<00:12, 105.40it/s]\u001b[A\n",
      " 73%|███████▎  | 3669/5000 [00:41<00:12, 107.36it/s]\u001b[A\n",
      " 74%|███████▎  | 3681/5000 [00:41<00:12, 108.99it/s]\u001b[A\n",
      " 74%|███████▍  | 3693/5000 [00:41<00:11, 109.55it/s]\u001b[A\n",
      " 74%|███████▍  | 3705/5000 [00:41<00:11, 110.84it/s]\u001b[A\n",
      " 74%|███████▍  | 3717/5000 [00:41<00:11, 110.63it/s]\u001b[A\n",
      " 75%|███████▍  | 3729/5000 [00:41<00:11, 109.53it/s]\u001b[A\n",
      " 75%|███████▍  | 3741/5000 [00:42<00:11, 109.84it/s]\u001b[A\n",
      " 75%|███████▌  | 3753/5000 [00:42<00:11, 110.58it/s]\u001b[A\n",
      " 75%|███████▌  | 3765/5000 [00:42<00:11, 108.63it/s]\u001b[A\n",
      " 76%|███████▌  | 3777/5000 [00:42<00:11, 110.09it/s]\u001b[A\n",
      " 76%|███████▌  | 3789/5000 [00:42<00:10, 110.80it/s]\u001b[A\n",
      " 76%|███████▌  | 3801/5000 [00:42<00:10, 110.27it/s]\u001b[A\n",
      " 76%|███████▋  | 3813/5000 [00:42<00:10, 111.00it/s]\u001b[A\n",
      " 76%|███████▋  | 3825/5000 [00:42<00:10, 112.48it/s]\u001b[A\n",
      " 77%|███████▋  | 3837/5000 [00:42<00:10, 111.19it/s]\u001b[A\n",
      " 77%|███████▋  | 3849/5000 [00:43<00:10, 108.47it/s]\u001b[A\n",
      " 77%|███████▋  | 3860/5000 [00:43<00:13, 84.01it/s] \u001b[A\n",
      " 77%|███████▋  | 3870/5000 [00:43<00:14, 78.40it/s]\u001b[A\n",
      " 78%|███████▊  | 3879/5000 [00:43<00:13, 81.21it/s]\u001b[A\n",
      " 78%|███████▊  | 3890/5000 [00:43<00:12, 85.74it/s]\u001b[A\n",
      " 78%|███████▊  | 3901/5000 [00:43<00:12, 90.84it/s]\u001b[A\n",
      " 78%|███████▊  | 3911/5000 [00:43<00:12, 90.18it/s]\u001b[A\n",
      " 78%|███████▊  | 3921/5000 [00:43<00:11, 90.72it/s]\u001b[A\n",
      " 79%|███████▊  | 3931/5000 [00:44<00:11, 92.07it/s]\u001b[A\n",
      " 79%|███████▉  | 3941/5000 [00:44<00:11, 93.64it/s]\u001b[A\n",
      " 79%|███████▉  | 3951/5000 [00:44<00:11, 94.86it/s]\u001b[A\n",
      " 79%|███████▉  | 3961/5000 [00:44<00:10, 95.49it/s]\u001b[A\n",
      " 79%|███████▉  | 3972/5000 [00:44<00:10, 96.64it/s]\u001b[A\n",
      " 80%|███████▉  | 3983/5000 [00:44<00:10, 97.65it/s]\u001b[A\n",
      " 80%|███████▉  | 3995/5000 [00:44<00:09, 102.16it/s]\u001b[A\n",
      " 80%|████████  | 4006/5000 [00:44<00:09, 102.35it/s]\u001b[A\n",
      " 80%|████████  | 4017/5000 [00:44<00:09, 102.04it/s]\u001b[A\n",
      " 81%|████████  | 4028/5000 [00:45<00:09, 99.55it/s] \u001b[A\n",
      " 81%|████████  | 4039/5000 [00:45<00:09, 101.66it/s]\u001b[A\n",
      " 81%|████████  | 4050/5000 [00:45<00:09, 99.02it/s] \u001b[A\n",
      " 81%|████████  | 4061/5000 [00:45<00:09, 101.50it/s]\u001b[A\n",
      " 81%|████████▏ | 4073/5000 [00:45<00:08, 105.53it/s]\u001b[A\n",
      " 82%|████████▏ | 4084/5000 [00:45<00:08, 105.70it/s]\u001b[A\n",
      " 82%|████████▏ | 4095/5000 [00:45<00:08, 102.27it/s]\u001b[A\n",
      " 82%|████████▏ | 4107/5000 [00:45<00:08, 105.36it/s]\u001b[A\n",
      " 82%|████████▏ | 4119/5000 [00:45<00:08, 107.66it/s]\u001b[A\n",
      " 83%|████████▎ | 4131/5000 [00:45<00:08, 108.29it/s]\u001b[A\n",
      " 83%|████████▎ | 4142/5000 [00:46<00:07, 108.61it/s]\u001b[A\n",
      " 83%|████████▎ | 4154/5000 [00:46<00:07, 110.69it/s]\u001b[A\n",
      " 83%|████████▎ | 4166/5000 [00:46<00:07, 111.66it/s]\u001b[A\n",
      " 84%|████████▎ | 4178/5000 [00:46<00:07, 111.76it/s]\u001b[A\n",
      " 84%|████████▍ | 4190/5000 [00:46<00:07, 112.45it/s]\u001b[A\n",
      " 84%|████████▍ | 4202/5000 [00:46<00:07, 112.58it/s]\u001b[A\n",
      " 84%|████████▍ | 4214/5000 [00:46<00:07, 110.54it/s]\u001b[A\n",
      " 85%|████████▍ | 4226/5000 [00:46<00:06, 111.10it/s]\u001b[A\n",
      " 85%|████████▍ | 4238/5000 [00:46<00:06, 111.81it/s]\u001b[A\n",
      " 85%|████████▌ | 4250/5000 [00:47<00:06, 111.93it/s]\u001b[A\n",
      " 85%|████████▌ | 4262/5000 [00:47<00:06, 112.60it/s]\u001b[A\n",
      " 85%|████████▌ | 4274/5000 [00:47<00:06, 113.95it/s]\u001b[A\n",
      " 86%|████████▌ | 4286/5000 [00:47<00:06, 112.91it/s]\u001b[A\n",
      " 86%|████████▌ | 4298/5000 [00:47<00:06, 113.53it/s]\u001b[A\n",
      " 86%|████████▌ | 4310/5000 [00:47<00:05, 115.37it/s]\u001b[A\n",
      " 86%|████████▋ | 4322/5000 [00:47<00:05, 114.02it/s]\u001b[A\n",
      " 87%|████████▋ | 4334/5000 [00:47<00:05, 115.11it/s]\u001b[A\n",
      " 87%|████████▋ | 4346/5000 [00:47<00:05, 116.25it/s]\u001b[A\n",
      " 87%|████████▋ | 4358/5000 [00:47<00:05, 113.55it/s]\u001b[A\n",
      " 87%|████████▋ | 4370/5000 [00:48<00:05, 113.52it/s]\u001b[A\n",
      " 88%|████████▊ | 4382/5000 [00:48<00:05, 114.06it/s]\u001b[A\n",
      " 88%|████████▊ | 4394/5000 [00:48<00:05, 113.01it/s]\u001b[A\n",
      " 88%|████████▊ | 4406/5000 [00:48<00:05, 100.06it/s]\u001b[A\n",
      " 88%|████████▊ | 4417/5000 [00:48<00:05, 102.67it/s]\u001b[A\n",
      " 89%|████████▊ | 4428/5000 [00:48<00:05, 104.73it/s]\u001b[A\n",
      " 89%|████████▉ | 4439/5000 [00:48<00:05, 105.90it/s]\u001b[A\n",
      " 89%|████████▉ | 4451/5000 [00:48<00:05, 107.80it/s]\u001b[A\n",
      " 89%|████████▉ | 4463/5000 [00:48<00:04, 109.12it/s]\u001b[A\n",
      " 90%|████████▉ | 4475/5000 [00:49<00:04, 111.27it/s]\u001b[A\n",
      " 90%|████████▉ | 4487/5000 [00:49<00:04, 112.50it/s]\u001b[A\n",
      " 90%|████████▉ | 4499/5000 [00:49<00:04, 111.63it/s]\u001b[A\n",
      " 90%|█████████ | 4511/5000 [00:49<00:04, 111.90it/s]\u001b[A\n",
      " 90%|█████████ | 4523/5000 [00:49<00:04, 110.47it/s]\u001b[A\n",
      " 91%|█████████ | 4535/5000 [00:49<00:04, 111.33it/s]\u001b[A\n",
      " 91%|█████████ | 4547/5000 [00:49<00:04, 110.42it/s]\u001b[A\n",
      " 91%|█████████ | 4559/5000 [00:49<00:03, 111.57it/s]\u001b[A\n",
      " 91%|█████████▏| 4571/5000 [00:49<00:03, 113.34it/s]\u001b[A\n",
      " 92%|█████████▏| 4583/5000 [00:50<00:03, 111.79it/s]\u001b[A\n",
      " 92%|█████████▏| 4595/5000 [00:50<00:03, 110.82it/s]\u001b[A\n",
      " 92%|█████████▏| 4607/5000 [00:50<00:03, 108.99it/s]\u001b[A\n",
      " 92%|█████████▏| 4618/5000 [00:50<00:04, 93.89it/s] \u001b[A\n",
      " 93%|█████████▎| 4628/5000 [00:50<00:03, 93.40it/s]\u001b[A\n",
      " 93%|█████████▎| 4638/5000 [00:50<00:03, 90.96it/s]\u001b[A\n",
      " 93%|█████████▎| 4648/5000 [00:50<00:03, 90.76it/s]\u001b[A\n",
      " 93%|█████████▎| 4659/5000 [00:50<00:03, 95.70it/s]\u001b[A\n",
      " 93%|█████████▎| 4669/5000 [00:50<00:03, 91.08it/s]\u001b[A\n",
      " 94%|█████████▎| 4681/5000 [00:51<00:03, 97.98it/s]\u001b[A\n",
      " 94%|█████████▍| 4693/5000 [00:51<00:03, 101.97it/s]\u001b[A\n",
      " 94%|█████████▍| 4705/5000 [00:51<00:02, 105.31it/s]\u001b[A\n",
      " 94%|█████████▍| 4716/5000 [00:51<00:02, 101.52it/s]\u001b[A\n",
      " 95%|█████████▍| 4728/5000 [00:51<00:02, 106.29it/s]\u001b[A\n",
      " 95%|█████████▍| 4740/5000 [00:51<00:02, 109.86it/s]\u001b[A\n",
      " 95%|█████████▌| 4753/5000 [00:51<00:02, 112.62it/s]\u001b[A\n",
      " 95%|█████████▌| 4766/5000 [00:51<00:02, 115.27it/s]\u001b[A\n",
      " 96%|█████████▌| 4778/5000 [00:51<00:01, 115.91it/s]\u001b[A\n",
      " 96%|█████████▌| 4791/5000 [00:52<00:01, 117.41it/s]\u001b[A\n",
      " 96%|█████████▌| 4803/5000 [00:52<00:01, 116.65it/s]\u001b[A\n",
      " 96%|█████████▋| 4816/5000 [00:52<00:01, 118.67it/s]\u001b[A\n",
      " 97%|█████████▋| 4828/5000 [00:52<00:01, 114.63it/s]\u001b[A\n",
      " 97%|█████████▋| 4840/5000 [00:52<00:01, 114.87it/s]\u001b[A\n",
      " 97%|█████████▋| 4852/5000 [00:52<00:01, 115.33it/s]\u001b[A\n",
      " 97%|█████████▋| 4864/5000 [00:52<00:01, 116.51it/s]\u001b[A\n",
      " 98%|█████████▊| 4876/5000 [00:52<00:01, 116.47it/s]\u001b[A\n",
      " 98%|█████████▊| 4888/5000 [00:52<00:00, 115.13it/s]\u001b[A\n",
      " 98%|█████████▊| 4900/5000 [00:52<00:00, 116.36it/s]\u001b[A\n",
      " 98%|█████████▊| 4913/5000 [00:53<00:00, 117.27it/s]\u001b[A\n",
      " 98%|█████████▊| 4925/5000 [00:53<00:00, 116.06it/s]\u001b[A\n",
      " 99%|█████████▊| 4937/5000 [00:53<00:00, 113.17it/s]\u001b[A\n",
      " 99%|█████████▉| 4949/5000 [00:53<00:00, 114.22it/s]\u001b[A\n",
      " 99%|█████████▉| 4961/5000 [00:53<00:00, 115.19it/s]\u001b[A\n",
      " 99%|█████████▉| 4974/5000 [00:53<00:00, 117.03it/s]\u001b[A\n",
      "100%|█████████▉| 4986/5000 [00:53<00:00, 113.64it/s]\u001b[A\n",
      "100%|█████████▉| 4998/5000 [00:53<00:00, 114.47it/s]\u001b[A\n",
      "100%|██████████| 5000/5000 [00:53<00:00, 92.86it/s] \u001b[A"
     ]
    }
   ],
   "source": [
    "ppc = pm.sample_ppc(trace[1000:], model=model, samples=5000)"
   ]
  },
  {
   "cell_type": "code",
   "execution_count": 73,
   "metadata": {
    "collapsed": true
   },
   "outputs": [],
   "source": [
    "pred_y = np.mean(ppc['obs_crash'], axis=0)"
   ]
  },
  {
   "cell_type": "code",
   "execution_count": 74,
   "metadata": {},
   "outputs": [
    {
     "data": {
      "text/plain": [
       "0.57142249326336692"
      ]
     },
     "execution_count": 74,
     "metadata": {},
     "output_type": "execute_result"
    }
   ],
   "source": [
    "# convert target to binary\n",
    "O_int = (O>0).astype(int)\n",
    "roc_auc_score(O_int, pred_y)"
   ]
  },
  {
   "cell_type": "code",
   "execution_count": 25,
   "metadata": {},
   "outputs": [
    {
     "data": {
      "text/plain": [
       "0.63576797617359238"
      ]
     },
     "execution_count": 25,
     "metadata": {},
     "output_type": "execute_result"
    }
   ],
   "source": [
    "# convert target to binary\n",
    "O_int = (O>0).astype(int)\n",
    "roc_auc_score(O_int, pred_y)"
   ]
  },
  {
   "cell_type": "code",
   "execution_count": 26,
   "metadata": {},
   "outputs": [
    {
     "name": "stdout",
     "output_type": "stream",
     "text": [
      "MAE is : 0.0575229524772\n"
     ]
    }
   ],
   "source": [
    "#MAE\n",
    "print \"MAE is : {}\".format(\n",
    "    np.mean(abs(pred_y - O_int))\n",
    ")"
   ]
  },
  {
   "cell_type": "code",
   "execution_count": 31,
   "metadata": {},
   "outputs": [
    {
     "name": "stdout",
     "output_type": "stream",
     "text": [
      "reading  ../data/processed/inters_data.json\n",
      "reading  ../data/processed/maps/non_inters_segments.shp\n"
     ]
    },
    {
     "ename": "NameError",
     "evalue": "global name 'read_shp' is not defined",
     "output_type": "error",
     "traceback": [
      "\u001b[0;31m---------------------------------------------------------------------------\u001b[0m",
      "\u001b[0;31mNameError\u001b[0m                                 Traceback (most recent call last)",
      "\u001b[0;32m<ipython-input-31-04dd06d1ca18>\u001b[0m in \u001b[0;36m<module>\u001b[0;34m()\u001b[0m\n\u001b[0;32m----> 1\u001b[0;31m \u001b[0mcombined\u001b[0m \u001b[0;34m=\u001b[0m \u001b[0mroad_make\u001b[0m\u001b[0;34m(\u001b[0m\u001b[0minters_fp\u001b[0m\u001b[0;34m,\u001b[0m \u001b[0mnon_inters_fp\u001b[0m\u001b[0;34m)\u001b[0m\u001b[0;34m\u001b[0m\u001b[0m\n\u001b[0m",
      "\u001b[0;32m<ipython-input-30-5e0ea38c20b6>\u001b[0m in \u001b[0;36mroad_make\u001b[0;34m(inters_fp, non_inters_fp, agg)\u001b[0m\n\u001b[1;32m     18\u001b[0m     \u001b[0;31m# Read in non_inters data:\u001b[0m\u001b[0;34m\u001b[0m\u001b[0;34m\u001b[0m\u001b[0m\n\u001b[1;32m     19\u001b[0m     \u001b[0;32mprint\u001b[0m \u001b[0;34m\"reading \"\u001b[0m\u001b[0;34m,\u001b[0m \u001b[0mnon_inters_fp\u001b[0m\u001b[0;34m\u001b[0m\u001b[0m\n\u001b[0;32m---> 20\u001b[0;31m     \u001b[0mnon_inters\u001b[0m \u001b[0;34m=\u001b[0m \u001b[0mread_shp\u001b[0m\u001b[0;34m(\u001b[0m\u001b[0mnon_inters_fp\u001b[0m\u001b[0;34m)\u001b[0m\u001b[0;34m\u001b[0m\u001b[0m\n\u001b[0m\u001b[1;32m     21\u001b[0m     \u001b[0mnon_inters_df\u001b[0m \u001b[0;34m=\u001b[0m \u001b[0mpd\u001b[0m\u001b[0;34m.\u001b[0m\u001b[0mDataFrame\u001b[0m\u001b[0;34m(\u001b[0m\u001b[0;34m[\u001b[0m\u001b[0mx\u001b[0m\u001b[0;34m[\u001b[0m\u001b[0;36m1\u001b[0m\u001b[0;34m]\u001b[0m \u001b[0;32mfor\u001b[0m \u001b[0mx\u001b[0m \u001b[0;32min\u001b[0m \u001b[0mnon_inters\u001b[0m\u001b[0;34m]\u001b[0m\u001b[0;34m)\u001b[0m\u001b[0;34m\u001b[0m\u001b[0m\n\u001b[1;32m     22\u001b[0m     \u001b[0mnon_inters_df\u001b[0m\u001b[0;34m.\u001b[0m\u001b[0mset_index\u001b[0m\u001b[0;34m(\u001b[0m\u001b[0;34m'id'\u001b[0m\u001b[0;34m,\u001b[0m \u001b[0minplace\u001b[0m\u001b[0;34m=\u001b[0m\u001b[0mTrue\u001b[0m\u001b[0;34m)\u001b[0m\u001b[0;34m\u001b[0m\u001b[0m\n",
      "\u001b[0;31mNameError\u001b[0m: global name 'read_shp' is not defined"
     ]
    }
   ],
   "source": [
    "combined = road_make(inters_fp, non_inters_fp)"
   ]
  },
  {
   "cell_type": "code",
   "execution_count": 64,
   "metadata": {
    "scrolled": true
   },
   "outputs": [
    {
     "name": "stderr",
     "output_type": "stream",
     "text": [
      "\r",
      "  0%|          | 0/5000 [00:00<?, ?it/s]"
     ]
    },
    {
     "name": "stdout",
     "output_type": "stream",
     "text": [
      "run 0\n"
     ]
    },
    {
     "name": "stderr",
     "output_type": "stream",
     "text": [
      "100%|██████████| 5000/5000 [00:02<00:00, 2002.06it/s]\n",
      "  0%|          | 0/5000 [00:00<?, ?it/s]"
     ]
    },
    {
     "name": "stdout",
     "output_type": "stream",
     "text": [
      "run 1\n"
     ]
    },
    {
     "name": "stderr",
     "output_type": "stream",
     "text": [
      "100%|██████████| 5000/5000 [00:02<00:00, 2033.37it/s]\n",
      "  0%|          | 0/5000 [00:00<?, ?it/s]"
     ]
    },
    {
     "name": "stdout",
     "output_type": "stream",
     "text": [
      "run 2\n"
     ]
    },
    {
     "name": "stderr",
     "output_type": "stream",
     "text": [
      "100%|██████████| 5000/5000 [00:02<00:00, 2005.70it/s]\n",
      "  0%|          | 0/5000 [00:00<?, ?it/s]"
     ]
    },
    {
     "name": "stdout",
     "output_type": "stream",
     "text": [
      "run 3\n"
     ]
    },
    {
     "name": "stderr",
     "output_type": "stream",
     "text": [
      "100%|██████████| 5000/5000 [00:02<00:00, 1928.29it/s]\n",
      "  0%|          | 0/5000 [00:00<?, ?it/s]"
     ]
    },
    {
     "name": "stdout",
     "output_type": "stream",
     "text": [
      "run 4\n"
     ]
    },
    {
     "name": "stderr",
     "output_type": "stream",
     "text": [
      "100%|██████████| 5000/5000 [00:02<00:00, 1941.40it/s]\n",
      "  0%|          | 0/5000 [00:00<?, ?it/s]"
     ]
    },
    {
     "name": "stdout",
     "output_type": "stream",
     "text": [
      "run 5\n"
     ]
    },
    {
     "name": "stderr",
     "output_type": "stream",
     "text": [
      "100%|██████████| 5000/5000 [00:02<00:00, 1762.22it/s]\n",
      "  0%|          | 0/5000 [00:00<?, ?it/s]"
     ]
    },
    {
     "name": "stdout",
     "output_type": "stream",
     "text": [
      "run 6\n"
     ]
    },
    {
     "name": "stderr",
     "output_type": "stream",
     "text": [
      "100%|██████████| 5000/5000 [00:02<00:00, 1935.07it/s]\n",
      "  0%|          | 0/5000 [00:00<?, ?it/s]"
     ]
    },
    {
     "name": "stdout",
     "output_type": "stream",
     "text": [
      "run 7\n"
     ]
    },
    {
     "name": "stderr",
     "output_type": "stream",
     "text": [
      "100%|██████████| 5000/5000 [00:02<00:00, 1900.68it/s]\n",
      "  0%|          | 0/5000 [00:00<?, ?it/s]"
     ]
    },
    {
     "name": "stdout",
     "output_type": "stream",
     "text": [
      "run 8\n"
     ]
    },
    {
     "name": "stderr",
     "output_type": "stream",
     "text": [
      "100%|██████████| 5000/5000 [00:02<00:00, 1870.05it/s]\n",
      "  0%|          | 0/5000 [00:00<?, ?it/s]"
     ]
    },
    {
     "name": "stdout",
     "output_type": "stream",
     "text": [
      "run 9\n"
     ]
    },
    {
     "name": "stderr",
     "output_type": "stream",
     "text": [
      "100%|██████████| 5000/5000 [00:02<00:00, 1862.13it/s]\n",
      "  0%|          | 0/5000 [00:00<?, ?it/s]"
     ]
    },
    {
     "name": "stdout",
     "output_type": "stream",
     "text": [
      "run 10\n"
     ]
    },
    {
     "name": "stderr",
     "output_type": "stream",
     "text": [
      "100%|██████████| 5000/5000 [00:02<00:00, 1925.42it/s]\n",
      "  0%|          | 0/5000 [00:00<?, ?it/s]"
     ]
    },
    {
     "name": "stdout",
     "output_type": "stream",
     "text": [
      "run 11\n"
     ]
    },
    {
     "name": "stderr",
     "output_type": "stream",
     "text": [
      "100%|██████████| 5000/5000 [00:02<00:00, 1919.54it/s]\n",
      "  0%|          | 0/5000 [00:00<?, ?it/s]"
     ]
    },
    {
     "name": "stdout",
     "output_type": "stream",
     "text": [
      "run 12\n"
     ]
    },
    {
     "name": "stderr",
     "output_type": "stream",
     "text": [
      "100%|██████████| 5000/5000 [00:02<00:00, 1932.02it/s]\n",
      "  0%|          | 0/5000 [00:00<?, ?it/s]"
     ]
    },
    {
     "name": "stdout",
     "output_type": "stream",
     "text": [
      "run 13\n"
     ]
    },
    {
     "name": "stderr",
     "output_type": "stream",
     "text": [
      "100%|██████████| 5000/5000 [00:02<00:00, 2003.35it/s]\n",
      "  0%|          | 0/5000 [00:00<?, ?it/s]"
     ]
    },
    {
     "name": "stdout",
     "output_type": "stream",
     "text": [
      "run 14\n"
     ]
    },
    {
     "name": "stderr",
     "output_type": "stream",
     "text": [
      "100%|██████████| 5000/5000 [00:02<00:00, 1975.16it/s]\n",
      "  0%|          | 0/5000 [00:00<?, ?it/s]"
     ]
    },
    {
     "name": "stdout",
     "output_type": "stream",
     "text": [
      "run 15\n"
     ]
    },
    {
     "name": "stderr",
     "output_type": "stream",
     "text": [
      "100%|██████████| 5000/5000 [00:02<00:00, 1957.71it/s]\n",
      "  0%|          | 0/5000 [00:00<?, ?it/s]"
     ]
    },
    {
     "name": "stdout",
     "output_type": "stream",
     "text": [
      "run 16\n"
     ]
    },
    {
     "name": "stderr",
     "output_type": "stream",
     "text": [
      "100%|██████████| 5000/5000 [00:02<00:00, 1968.78it/s]\n",
      "  0%|          | 0/5000 [00:00<?, ?it/s]"
     ]
    },
    {
     "name": "stdout",
     "output_type": "stream",
     "text": [
      "run 17\n"
     ]
    },
    {
     "name": "stderr",
     "output_type": "stream",
     "text": [
      "100%|██████████| 5000/5000 [00:02<00:00, 1955.93it/s]\n",
      "  0%|          | 0/5000 [00:00<?, ?it/s]"
     ]
    },
    {
     "name": "stdout",
     "output_type": "stream",
     "text": [
      "run 18\n"
     ]
    },
    {
     "name": "stderr",
     "output_type": "stream",
     "text": [
      "100%|██████████| 5000/5000 [00:02<00:00, 1959.75it/s]\n",
      "  0%|          | 0/5000 [00:00<?, ?it/s]"
     ]
    },
    {
     "name": "stdout",
     "output_type": "stream",
     "text": [
      "run 19\n"
     ]
    },
    {
     "name": "stderr",
     "output_type": "stream",
     "text": [
      "100%|██████████| 5000/5000 [00:02<00:00, 1808.12it/s]\n",
      "  0%|          | 0/5000 [00:00<?, ?it/s]"
     ]
    },
    {
     "name": "stdout",
     "output_type": "stream",
     "text": [
      "run 20\n"
     ]
    },
    {
     "name": "stderr",
     "output_type": "stream",
     "text": [
      "100%|██████████| 5000/5000 [00:02<00:00, 1879.55it/s]\n",
      "  0%|          | 0/5000 [00:00<?, ?it/s]"
     ]
    },
    {
     "name": "stdout",
     "output_type": "stream",
     "text": [
      "run 21\n"
     ]
    },
    {
     "name": "stderr",
     "output_type": "stream",
     "text": [
      "100%|██████████| 5000/5000 [00:02<00:00, 1945.66it/s]\n",
      "  0%|          | 0/5000 [00:00<?, ?it/s]"
     ]
    },
    {
     "name": "stdout",
     "output_type": "stream",
     "text": [
      "run 22\n"
     ]
    },
    {
     "name": "stderr",
     "output_type": "stream",
     "text": [
      "100%|██████████| 5000/5000 [00:02<00:00, 1961.60it/s]\n",
      "  0%|          | 0/5000 [00:00<?, ?it/s]"
     ]
    },
    {
     "name": "stdout",
     "output_type": "stream",
     "text": [
      "run 23\n"
     ]
    },
    {
     "name": "stderr",
     "output_type": "stream",
     "text": [
      "100%|██████████| 5000/5000 [00:02<00:00, 1980.43it/s]\n",
      "  0%|          | 0/5000 [00:00<?, ?it/s]"
     ]
    },
    {
     "name": "stdout",
     "output_type": "stream",
     "text": [
      "run 24\n"
     ]
    },
    {
     "name": "stderr",
     "output_type": "stream",
     "text": [
      "100%|██████████| 5000/5000 [00:02<00:00, 1976.50it/s]\n",
      "  0%|          | 0/5000 [00:00<?, ?it/s]"
     ]
    },
    {
     "name": "stdout",
     "output_type": "stream",
     "text": [
      "run 25\n"
     ]
    },
    {
     "name": "stderr",
     "output_type": "stream",
     "text": [
      "100%|██████████| 5000/5000 [00:02<00:00, 2014.65it/s]\n",
      "  0%|          | 0/5000 [00:00<?, ?it/s]"
     ]
    },
    {
     "name": "stdout",
     "output_type": "stream",
     "text": [
      "run 26\n"
     ]
    },
    {
     "name": "stderr",
     "output_type": "stream",
     "text": [
      "100%|██████████| 5000/5000 [00:02<00:00, 2014.30it/s]\n",
      "  0%|          | 0/5000 [00:00<?, ?it/s]"
     ]
    },
    {
     "name": "stdout",
     "output_type": "stream",
     "text": [
      "run 27\n"
     ]
    },
    {
     "name": "stderr",
     "output_type": "stream",
     "text": [
      "100%|██████████| 5000/5000 [00:02<00:00, 1940.49it/s]\n",
      "  0%|          | 0/5000 [00:00<?, ?it/s]"
     ]
    },
    {
     "name": "stdout",
     "output_type": "stream",
     "text": [
      "run 28\n"
     ]
    },
    {
     "name": "stderr",
     "output_type": "stream",
     "text": [
      "100%|██████████| 5000/5000 [00:02<00:00, 2007.01it/s]\n",
      "  0%|          | 0/5000 [00:00<?, ?it/s]"
     ]
    },
    {
     "name": "stdout",
     "output_type": "stream",
     "text": [
      "run 29\n"
     ]
    },
    {
     "name": "stderr",
     "output_type": "stream",
     "text": [
      "100%|██████████| 5000/5000 [00:02<00:00, 1890.15it/s]\n",
      "  0%|          | 0/5000 [00:00<?, ?it/s]"
     ]
    },
    {
     "name": "stdout",
     "output_type": "stream",
     "text": [
      "run 30\n"
     ]
    },
    {
     "name": "stderr",
     "output_type": "stream",
     "text": [
      "100%|██████████| 5000/5000 [00:02<00:00, 1970.70it/s]\n",
      "  0%|          | 0/5000 [00:00<?, ?it/s]"
     ]
    },
    {
     "name": "stdout",
     "output_type": "stream",
     "text": [
      "run 31\n"
     ]
    },
    {
     "name": "stderr",
     "output_type": "stream",
     "text": [
      "100%|██████████| 5000/5000 [00:02<00:00, 1997.38it/s]\n",
      "  0%|          | 0/5000 [00:00<?, ?it/s]"
     ]
    },
    {
     "name": "stdout",
     "output_type": "stream",
     "text": [
      "run 32\n"
     ]
    },
    {
     "name": "stderr",
     "output_type": "stream",
     "text": [
      "100%|██████████| 5000/5000 [00:02<00:00, 1971.05it/s]\n",
      "  0%|          | 0/5000 [00:00<?, ?it/s]"
     ]
    },
    {
     "name": "stdout",
     "output_type": "stream",
     "text": [
      "run 33\n"
     ]
    },
    {
     "name": "stderr",
     "output_type": "stream",
     "text": [
      "100%|██████████| 5000/5000 [00:02<00:00, 1939.55it/s]\n",
      "  0%|          | 0/5000 [00:00<?, ?it/s]"
     ]
    },
    {
     "name": "stdout",
     "output_type": "stream",
     "text": [
      "run 34\n"
     ]
    },
    {
     "name": "stderr",
     "output_type": "stream",
     "text": [
      "100%|██████████| 5000/5000 [00:02<00:00, 1995.54it/s]\n",
      "  0%|          | 0/5000 [00:00<?, ?it/s]"
     ]
    },
    {
     "name": "stdout",
     "output_type": "stream",
     "text": [
      "run 35\n"
     ]
    },
    {
     "name": "stderr",
     "output_type": "stream",
     "text": [
      "100%|██████████| 5000/5000 [00:02<00:00, 2008.55it/s]\n",
      "  0%|          | 0/5000 [00:00<?, ?it/s]"
     ]
    },
    {
     "name": "stdout",
     "output_type": "stream",
     "text": [
      "run 36\n"
     ]
    },
    {
     "name": "stderr",
     "output_type": "stream",
     "text": [
      "100%|██████████| 5000/5000 [00:02<00:00, 2002.19it/s]\n",
      "  0%|          | 0/5000 [00:00<?, ?it/s]"
     ]
    },
    {
     "name": "stdout",
     "output_type": "stream",
     "text": [
      "run 37\n"
     ]
    },
    {
     "name": "stderr",
     "output_type": "stream",
     "text": [
      "100%|██████████| 5000/5000 [00:02<00:00, 1990.10it/s]\n",
      "  0%|          | 0/5000 [00:00<?, ?it/s]"
     ]
    },
    {
     "name": "stdout",
     "output_type": "stream",
     "text": [
      "run 38\n"
     ]
    },
    {
     "name": "stderr",
     "output_type": "stream",
     "text": [
      "100%|██████████| 5000/5000 [00:02<00:00, 2007.82it/s]\n",
      "  0%|          | 0/5000 [00:00<?, ?it/s]"
     ]
    },
    {
     "name": "stdout",
     "output_type": "stream",
     "text": [
      "run 39\n"
     ]
    },
    {
     "name": "stderr",
     "output_type": "stream",
     "text": [
      "100%|██████████| 5000/5000 [00:02<00:00, 2015.62it/s]\n",
      "  0%|          | 0/5000 [00:00<?, ?it/s]"
     ]
    },
    {
     "name": "stdout",
     "output_type": "stream",
     "text": [
      "run 40\n"
     ]
    },
    {
     "name": "stderr",
     "output_type": "stream",
     "text": [
      "100%|██████████| 5000/5000 [00:02<00:00, 1939.00it/s]\n",
      "  0%|          | 0/5000 [00:00<?, ?it/s]"
     ]
    },
    {
     "name": "stdout",
     "output_type": "stream",
     "text": [
      "run 41\n"
     ]
    },
    {
     "name": "stderr",
     "output_type": "stream",
     "text": [
      "100%|██████████| 5000/5000 [00:02<00:00, 1968.72it/s]\n",
      "  0%|          | 0/5000 [00:00<?, ?it/s]"
     ]
    },
    {
     "name": "stdout",
     "output_type": "stream",
     "text": [
      "run 42\n"
     ]
    },
    {
     "name": "stderr",
     "output_type": "stream",
     "text": [
      "100%|██████████| 5000/5000 [00:02<00:00, 1991.35it/s]\n",
      "  0%|          | 0/5000 [00:00<?, ?it/s]"
     ]
    },
    {
     "name": "stdout",
     "output_type": "stream",
     "text": [
      "run 43\n"
     ]
    },
    {
     "name": "stderr",
     "output_type": "stream",
     "text": [
      "100%|██████████| 5000/5000 [00:02<00:00, 2011.29it/s]\n",
      "  0%|          | 0/5000 [00:00<?, ?it/s]"
     ]
    },
    {
     "name": "stdout",
     "output_type": "stream",
     "text": [
      "run 44\n"
     ]
    },
    {
     "name": "stderr",
     "output_type": "stream",
     "text": [
      "100%|██████████| 5000/5000 [00:02<00:00, 2014.12it/s]\n",
      "  0%|          | 0/5000 [00:00<?, ?it/s]"
     ]
    },
    {
     "name": "stdout",
     "output_type": "stream",
     "text": [
      "run 45\n"
     ]
    },
    {
     "name": "stderr",
     "output_type": "stream",
     "text": [
      "100%|██████████| 5000/5000 [00:02<00:00, 1998.32it/s]\n",
      "  0%|          | 0/5000 [00:00<?, ?it/s]"
     ]
    },
    {
     "name": "stdout",
     "output_type": "stream",
     "text": [
      "run 46\n"
     ]
    },
    {
     "name": "stderr",
     "output_type": "stream",
     "text": [
      "100%|██████████| 5000/5000 [00:02<00:00, 1988.36it/s]\n",
      "  0%|          | 0/5000 [00:00<?, ?it/s]"
     ]
    },
    {
     "name": "stdout",
     "output_type": "stream",
     "text": [
      "run 47\n"
     ]
    },
    {
     "name": "stderr",
     "output_type": "stream",
     "text": [
      "100%|██████████| 5000/5000 [00:02<00:00, 1826.39it/s]\n",
      "  0%|          | 0/5000 [00:00<?, ?it/s]"
     ]
    },
    {
     "name": "stdout",
     "output_type": "stream",
     "text": [
      "run 48\n"
     ]
    },
    {
     "name": "stderr",
     "output_type": "stream",
     "text": [
      "100%|██████████| 5000/5000 [00:02<00:00, 1863.99it/s]\n",
      "  0%|          | 0/5000 [00:00<?, ?it/s]"
     ]
    },
    {
     "name": "stdout",
     "output_type": "stream",
     "text": [
      "run 49\n"
     ]
    },
    {
     "name": "stderr",
     "output_type": "stream",
     "text": [
      "100%|██████████| 5000/5000 [00:02<00:00, 1830.71it/s]\n",
      "  0%|          | 0/5000 [00:00<?, ?it/s]"
     ]
    },
    {
     "name": "stdout",
     "output_type": "stream",
     "text": [
      "run 50\n"
     ]
    },
    {
     "name": "stderr",
     "output_type": "stream",
     "text": [
      "100%|██████████| 5000/5000 [00:02<00:00, 1946.40it/s]\n",
      "  0%|          | 0/5000 [00:00<?, ?it/s]"
     ]
    },
    {
     "name": "stdout",
     "output_type": "stream",
     "text": [
      "run 51\n"
     ]
    },
    {
     "name": "stderr",
     "output_type": "stream",
     "text": [
      "100%|██████████| 5000/5000 [00:02<00:00, 1770.20it/s]\n",
      "  0%|          | 0/5000 [00:00<?, ?it/s]"
     ]
    },
    {
     "name": "stdout",
     "output_type": "stream",
     "text": [
      "run 52\n"
     ]
    },
    {
     "name": "stderr",
     "output_type": "stream",
     "text": [
      "100%|██████████| 5000/5000 [00:02<00:00, 1863.87it/s]\n"
     ]
    },
    {
     "name": "stdout",
     "output_type": "stream",
     "text": [
      "run 53\n"
     ]
    },
    {
     "name": "stderr",
     "output_type": "stream",
     "text": [
      "100%|██████████| 5000/5000 [00:02<00:00, 1749.49it/s]\n"
     ]
    }
   ],
   "source": [
    "# run 53 times, for each week\n",
    "preds_all = data_model['segment_id'].values.reshape(-1,1)\n",
    "for i in range(54):\n",
    "    print 'run ' + str(i)\n",
    "    ppc = pm.sample_ppc(trace[1500:], model=model, samples=5000)\n",
    "    pred_y = np.mean(ppc['obs_crash'], axis=0).reshape(-1,1)\n",
    "    preds_all = np.concatenate([preds_all, pred_y], axis=1)"
   ]
  },
  {
   "cell_type": "code",
   "execution_count": 66,
   "metadata": {
    "collapsed": true
   },
   "outputs": [],
   "source": [
    "# week predictions\n",
    "preds_all_df = pd.DataFrame(preds_all)\n",
    "preds_all_df.columns = ['segment_id'] + range(54)\n",
    "preds_all_df.to_csv('../data/processed/car_preds_weekly.csv')\n",
    "#pd.DataFrame(zip(data_model['segment_id'].values, pred_y),\n",
    "#            columns=['segment_id', 'pred']).to_csv('../data/processed/car_preds.csv')"
   ]
  },
  {
   "cell_type": "code",
   "execution_count": 37,
   "metadata": {},
   "outputs": [
    {
     "name": "stdout",
     "output_type": "stream",
     "text": [
      "MAE is : 0.0575438827098\n"
     ]
    }
   ],
   "source": []
  },
  {
   "cell_type": "code",
   "execution_count": 38,
   "metadata": {
    "collapsed": true
   },
   "outputs": [],
   "source": [
    "# output predicted probabilities\n",
    "pd.DataFrame(zip(data_model['segment_id'].values, pred_y),\n",
    "            columns=['segment_id', 'pred']).to_csv('../data/processed/car_preds.csv')"
   ]
  },
  {
   "cell_type": "code",
   "execution_count": null,
   "metadata": {
    "collapsed": true
   },
   "outputs": [],
   "source": []
  }
 ],
 "metadata": {
  "kernelspec": {
   "display_name": "Python 2",
   "language": "python",
   "name": "python2"
  },
  "language_info": {
   "codemirror_mode": {
    "name": "ipython",
    "version": 2
   },
   "file_extension": ".py",
   "mimetype": "text/x-python",
   "name": "python",
   "nbconvert_exporter": "python",
   "pygments_lexer": "ipython2",
   "version": "2.7.13"
  }
 },
 "nbformat": 4,
 "nbformat_minor": 1
}
