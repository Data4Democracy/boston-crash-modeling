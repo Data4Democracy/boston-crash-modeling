{
 "cells": [
  {
   "cell_type": "markdown",
   "metadata": {
    "collapsed": false
   },
   "source": [
    "## Time-series Model for crash prediction\n",
    "### Developed by: bpben\n",
    "#### Details steps of data processing, feature engineering and model tuning/testing for crash, concern and road data"
   ]
  },
  {
   "cell_type": "code",
   "execution_count": 6,
   "metadata": {
    "collapsed": false
   },
   "outputs": [],
   "source": [
    "import re\n",
    "import csv\n",
    "import numpy as np\n",
    "import pandas as pd\n",
    "import matplotlib.pyplot as plt\n",
    "%matplotlib inline\n",
    "import seaborn as sns\n",
    "import scipy.stats as ss\n",
    "from glob import glob\n",
    "from simpledbf import Dbf5"
   ]
  },
  {
   "cell_type": "markdown",
   "metadata": {},
   "source": [
    "Helpers for tuning/testing models, available [here](https://github.com/bpben/model_helpers) as well"
   ]
  },
  {
   "cell_type": "code",
   "execution_count": 57,
   "metadata": {
    "collapsed": false
   },
   "outputs": [],
   "source": [
    "import sklearn.ensemble as ske\n",
    "import sklearn.linear_model as skl\n",
    "from sklearn import metrics\n",
    "from sklearn import metrics\n",
    "from sklearn.model_selection import RandomizedSearchCV\n",
    "from sklearn.calibration import CalibratedClassifierCV\n",
    "from sklearn import cross_validation as cv\n",
    "\n",
    "class Indata():\n",
    "    scoring = None\n",
    "    data = None\n",
    "    train_x, train_y, test_x, test_y = None, None, None, None\n",
    "    is_split = 0\n",
    "    \n",
    "    #init with pandas DF and target column name, specify scoring observations\n",
    "    def __init__(self, data, target, scoring=None):\n",
    "        #If scoring observations, store under scoring attribute\n",
    "        if scoring is not None:\n",
    "            self.data = data[~(scoring)]\n",
    "            self.scoring = data[scoring]\n",
    "        else:\n",
    "            self.data = data\n",
    "        self.target = target\n",
    "    \n",
    "    # Split into train/test\n",
    "    # pct = percent training observations\n",
    "    # datesort = specify date column for sorting values\n",
    "    #   If this is not None, split will be non-random (i.e. split on sorted obs)\n",
    "    def tr_te_split(self, pct, datesort=None):\n",
    "        if datesort:\n",
    "            self.data.sort_values(datesort, inplace=True)\n",
    "            self.data.reset_index(drop=True, inplace=True)\n",
    "            inds = np.arange(0.0,len(self.data)) / len(self.data) < pct\n",
    "        else:\n",
    "            inds = np.random.rand(len(self.data)) < pct\n",
    "        self.train_x = self.data[inds]\n",
    "        print 'Train obs:', len(self.train_x)\n",
    "        self.train_y = self.data[self.target][inds]\n",
    "        self.test_x = self.data[~inds]\n",
    "        print 'Test obs:', len(self.test_x)\n",
    "        self.test_y = self.data[self.target][~inds]\n",
    "        self.is_split = 1\n",
    "        \n",
    "class Tuner():\n",
    "    \"\"\"\n",
    "    Initiates with indata class, will tune series of models according to parameters.  \n",
    "    Outputs RandomizedGridCV results and parameterized model in dictionary\n",
    "    \"\"\"\n",
    "    \n",
    "    data = None\n",
    "    train_x, train_y = None, None\n",
    "    \n",
    "    def __init__(self, indata, best_models=None, grid_results=None):\n",
    "        if indata.is_split == 0:\n",
    "            raise ValueError('Data is not split, cannot be tested')\n",
    "        else:\n",
    "            self.data = indata.data\n",
    "            self.train_x = indata.train_x\n",
    "            self.train_y = indata.train_y\n",
    "            if best_models is None:\n",
    "                self.best_models = {}\n",
    "            if grid_results is None:\n",
    "                self.grid_results = pd.DataFrame()\n",
    "        \n",
    "            \n",
    "    def make_grid(self, model, obs, cvparams, mparams):\n",
    "        #Makes CV grid\n",
    "        grid = RandomizedSearchCV(\n",
    "                    model(),scoring=cvparams['pmetric'], \n",
    "                    cv = cv.KFold(obs,cvparams['folds']), \n",
    "                    refit=False, n_iter=cvparams['iter'],\n",
    "                    param_distributions=mparams, verbose=1)\n",
    "        return(grid)\n",
    "    \n",
    "    def run_grid(self, grid, train_x, train_y):\n",
    "        grid.fit(train_x, train_y)\n",
    "        results = pd.DataFrame(grid.cv_results_)[['mean_test_score','mean_train_score','params']]\n",
    "        best = {}\n",
    "        best['bp'] = grid.best_params_\n",
    "        best[grid.scoring] = grid.best_score_\n",
    "        return(best, results)\n",
    "            \n",
    "    def tune(self, name, m_name, features, cvparams, mparams):\n",
    "        if hasattr(ske, m_name):\n",
    "            model = getattr(ske, m_name)\n",
    "        elif hasattr(skl, m_name):\n",
    "            model = getattr(skl, m_name)\n",
    "        else:\n",
    "            raise ValueError('Model name is invalid.')\n",
    "        grid = self.make_grid(model, len(self.train_x), cvparams, mparams)\n",
    "        best, results = self.run_grid(grid, self.train_x[features], self.train_y)\n",
    "        results['name'] = name\n",
    "        results['m_name'] = m_name\n",
    "        self.grid_results = self.grid_results.append(results)\n",
    "        best['model'] = model(**best['bp'])\n",
    "        best['features'] = list(features)\n",
    "        self.best_models.update({name: best}) \n",
    "        \n",
    "class Tester():\n",
    "    \"\"\"\n",
    "    Initiates with indata class, receives parameterized sklearn models, prints and stores results\n",
    "    \"\"\"\n",
    "    \n",
    "    def __init__(self, data, rundict=None):\n",
    "        if data.is_split == 0 :\n",
    "            raise ValueError('Data is not split, cannot be tested')\n",
    "        else:\n",
    "            self.data = data\n",
    "            if rundict is None:\n",
    "                self.rundict = {}\n",
    "            \n",
    "    #Add tuner object, will populate rundict with names, models, feature\n",
    "    def init_tuned(self, tuned):\n",
    "        if tuned.best_models=={}:\n",
    "            raise ValueError('No tuned models found')\n",
    "        else:\n",
    "            self.rundict.update(tuned.best_models)\n",
    "    \n",
    "    #Produce predicted class and probabilities\n",
    "    def predsprobs(self, model, test_x):\n",
    "        preds = model.predict(test_x)\n",
    "        probs = model.predict_proba(test_x)[:,1]\n",
    "        return(preds, probs)\n",
    "    \n",
    "    #Produce metrics\n",
    "    def get_metrics(self, preds, probs, test_y):\n",
    "        f1_s = metrics.f1_score(test_y, preds)\n",
    "        brier = metrics.brier_score_loss(test_y, probs)\n",
    "        return(f1_s, brier)\n",
    "    \n",
    "    #Run production, output dictionary\n",
    "    def make_result(self, model, test_x, test_y):\n",
    "        preds, probs = self.predsprobs(model, test_x)\n",
    "        f1_s, brier = self.get_metrics(preds, probs, test_y)\n",
    "        print \"f1_score: \", f1_s\n",
    "        print \"brier_score: \", brier\n",
    "        result = {}\n",
    "        #result['preds'] = [int(i) for i in preds]\n",
    "        #result['probs'] = [float(i) for i in probs]\n",
    "        result['f1_s'] = f1_s\n",
    "        result['brier'] = brier\n",
    "        return(result)\n",
    "\n",
    "    # Run model - Specify model, with parameters, features\n",
    "    # Stores it to rundict, can later be output\n",
    "    # Will overwrite previous run if name is not different\n",
    "    def run_model(self, name, model, features, cal=True, cal_m='sigmoid'):\n",
    "        results = {}\n",
    "        results['features'] = list(features)\n",
    "        print \"Fitting {} model with {} features\".format(name, len(features))\n",
    "        if cal:\n",
    "            # Need disjoint calibration/training datasets\n",
    "            # Split 50/50\n",
    "            rnd_ind = np.random.rand(len(self.data.train_x)) < .5\n",
    "            train_x = self.data.train_x[features][rnd_ind]\n",
    "            train_y = self.data.train_y[rnd_ind]\n",
    "            cal_x = self.data.train_x[features][~rnd_ind]\n",
    "            cal_y = self.data.train_y[~rnd_ind]\n",
    "        else:\n",
    "            train_x = self.data.train_x[features]\n",
    "            train_y = self.data.train_y\n",
    "\n",
    "        m_fit = model.fit(train_x, train_y)\n",
    "        result = self.make_result(\n",
    "            m_fit,\n",
    "            self.data.test_x[features],\n",
    "            self.data.test_y)\n",
    "\n",
    "        results['raw'] = result\n",
    "        results['m_fit'] = m_fit\n",
    "        if cal:\n",
    "            print \"calibrated:\"\n",
    "            m_c = CalibratedClassifierCV(m_fit, method = cal_m, cv='prefit')\n",
    "            m_fit_c = m_c.fit(cal_x, cal_y)\n",
    "            result_c = self.make_result(m_fit_c, self.data.test_x[features], self.data.test_y)\n",
    "            results['calibrated'] = result_c              \n",
    "            print \"\\n\"\n",
    "        if name in self.rundict:\n",
    "            self.rundict[name].update(results)\n",
    "        else:\n",
    "            self.rundict.update({name:results})\n",
    "    \n",
    "    #Run from tuned set\n",
    "    def run_tuned(self, name, cal=True, cal_m='sigmoid'):\n",
    "        self.run_model(name, self.rundict[name]['model'], self.rundict[name]['features'], cal, cal_m)\n",
    "    \n",
    "    #Output rundict to csv\n",
    "    def to_csv(self):\n",
    "        if self.rundict == {}:\n",
    "            raise ValueError('No results found')\n",
    "        else:\n",
    "            now = pd.to_datetime('today').value\n",
    "            #Make dataframe, transpose so each row = model\n",
    "            pd.DataFrame(self.rundict).T.to_csv('results_{}.csv'.format(now))"
   ]
  },
  {
   "cell_type": "code",
   "execution_count": 58,
   "metadata": {
    "collapsed": true
   },
   "outputs": [],
   "source": [
    "def read_data(filepath):\n",
    "    if filepath[-3:]=='dbf':\n",
    "        db = Dbf5(filepath)\n",
    "        df = db.to_dataframe()\n",
    "    else:\n",
    "        df = pd.read_csv(filepath)\n",
    "    df.columns = [x.lower() for x in df.columns]\n",
    "    return(df)"
   ]
  },
  {
   "cell_type": "code",
   "execution_count": 59,
   "metadata": {
    "collapsed": false
   },
   "outputs": [],
   "source": [
    "#Function for finding cumsum and then time-shifting forward one\n",
    "#Creates feature of road's history of crash/concerns\n",
    "def cumsum_timeshift(group, cols):\n",
    "    #Fillna for weeks with no data\n",
    "    r = group[cols].fillna(0)\n",
    "    r = r.cumsum(skipna=False)\n",
    "    r = r.shift(1)\n",
    "    #Fillna for the first observation\n",
    "    r = r.fillna(0)\n",
    "    return(r)"
   ]
  },
  {
   "cell_type": "markdown",
   "metadata": {},
   "source": [
    "### Data processing"
   ]
  },
  {
   "cell_type": "code",
   "execution_count": 10,
   "metadata": {
    "collapsed": false
   },
   "outputs": [],
   "source": [
    "#Read in data\n",
    "crash = read_data('./data/all_crashes.dbf')\n",
    "concern = read_data('./data/all_concerns.dbf')\n",
    "incidents = read_data('./data/incidents.csv')\n",
    "roads = read_data('./data/boston_road_massdot2015.dbf')"
   ]
  },
  {
   "cell_type": "code",
   "execution_count": 11,
   "metadata": {
    "collapsed": false
   },
   "outputs": [],
   "source": [
    "#Concern cleaning\n",
    "#Concern columns have html mixed up in their names\n",
    "concern['requesttyp'] = concern['requesttyp'].apply(lambda x: re.sub('.*;','',x))"
   ]
  },
  {
   "cell_type": "code",
   "execution_count": 12,
   "metadata": {
    "collapsed": false
   },
   "outputs": [],
   "source": [
    "#Concern count by week\n",
    "con_date = pd.concat([pd.get_dummies(concern['requesttyp']), concern[['near_fid','requestdat']]], axis=1)\n",
    "con_date = con_date.groupby(['near_fid','requestdat']).sum()\n",
    "con_date['tot_concerns'] = con_date.apply(sum, axis=1)\n",
    "con_date.reset_index(inplace=True)"
   ]
  },
  {
   "cell_type": "code",
   "execution_count": 13,
   "metadata": {
    "collapsed": true
   },
   "outputs": [],
   "source": [
    "#Drop duplicates in incidents\n",
    "in_dedup = incidents.groupby('incident').apply(lambda x: x.apply(lambda y: str(y.unique()[0])))\n",
    "in_dedup.reset_index(drop=True, inplace=True)\n",
    "#Merge to crash data\n",
    "cr_in = pd.merge(crash, in_dedup, on='incident', how='left')\n",
    "cr_in['datetime'] = pd.to_datetime(cr_in['date'])\n",
    "cr_in['date'] = pd.to_datetime(cr_in.datetime.apply(lambda x: x.date()))"
   ]
  },
  {
   "cell_type": "code",
   "execution_count": 14,
   "metadata": {
    "collapsed": false
   },
   "outputs": [],
   "source": [
    "#Limit to crashes in 2016\n",
    "#Concerns = 2016, crash should = 2016\n",
    "cr_in = cr_in.set_index('date').loc['2016']\n",
    "cr_in.reset_index(inplace=True)"
   ]
  },
  {
   "cell_type": "code",
   "execution_count": 15,
   "metadata": {
    "collapsed": false
   },
   "outputs": [],
   "source": [
    "#Crash by road index (near_fid)\n",
    "#near_fid = result of snapping incident lat/longs to road segments\n",
    "cr_date = pd.concat([pd.get_dummies(cr_in['mode']),cr_in[['near_fid','date']]], axis=1)\n",
    "cr_date = cr_date.groupby(['near_fid','date']).sum()\n",
    "cr_date['tot_crash'] = cr_date.apply(sum, axis=1)\n",
    "#Extra field for shifting time (i.e. crashes as of previous period)\n",
    "cr_date['tot_crash_shift'] = cr_date['tot_crash']\n",
    "cr_date.reset_index(inplace=True)"
   ]
  },
  {
   "cell_type": "code",
   "execution_count": 17,
   "metadata": {
    "collapsed": true
   },
   "outputs": [],
   "source": [
    "#Merge on fid and date\n",
    "con_date.requestdat = pd.to_datetime(con_date.requestdat)\n",
    "cr_date['date'] = pd.to_datetime(cr_date['date'])\n",
    "cr_con_date = pd.merge(\n",
    "    con_date, cr_date, how='outer', \n",
    "    left_on=['near_fid', 'requestdat'], right_on=['near_fid', 'date'], indicator=True)"
   ]
  },
  {
   "cell_type": "code",
   "execution_count": 25,
   "metadata": {
    "collapsed": false
   },
   "outputs": [],
   "source": [
    "#Merge on fid and date\n",
    "con_date.requestdat = pd.to_datetime(con_date.requestdat)\n",
    "cr_date['date'] = pd.to_datetime(cr_date['date'])\n",
    "cr_con_date = pd.merge(\n",
    "    con_date, cr_date, how='outer', \n",
    "    left_on=['near_fid', 'requestdat'], right_on=['near_fid', 'date'], indicator=True)\n",
    "#Agg by week\n",
    "#Take whichever date is not missing, find the week number\n",
    "cr_con_date['week'] = cr_con_date.apply(\n",
    "    lambda x: x[['date','requestdat']].dropna().max().week, axis=1)\n",
    "cr_con_date = cr_con_date.groupby(['near_fid','week']).sum()\n",
    "cr_con_date.reset_index(inplace=True)"
   ]
  },
  {
   "cell_type": "code",
   "execution_count": 26,
   "metadata": {
    "collapsed": false
   },
   "outputs": [],
   "source": [
    "#Cumulative sum (for observed weeks rather than all weeks)\n",
    "cr_con_week = pd.concat([\n",
    "        cr_con_date[['near_fid','week','tot_crash']],\n",
    "        cr_con_date.groupby('near_fid').apply(\n",
    "            lambda x: cumsum_timeshift(\n",
    "                x, cr_con_date.columns.difference(['near_fid','week','tot_crash']))\n",
    "        )], axis=1)"
   ]
  },
  {
   "cell_type": "code",
   "execution_count": 27,
   "metadata": {
    "collapsed": true
   },
   "outputs": [],
   "source": [
    "#Binary indicator for crash\n",
    "cr_con_week['crash_binary'] = cr_con_week['tot_crash'].notnull().astype(int)"
   ]
  },
  {
   "cell_type": "code",
   "execution_count": 28,
   "metadata": {
    "collapsed": false
   },
   "outputs": [],
   "source": [
    "#Join AADT\n",
    "full = cr_con_week.merge(roads.reset_index(), left_on='near_fid', right_on='index')"
   ]
  },
  {
   "cell_type": "markdown",
   "metadata": {},
   "source": [
    "### Model tuning"
   ]
  },
  {
   "cell_type": "code",
   "execution_count": 76,
   "metadata": {
    "collapsed": false
   },
   "outputs": [
    {
     "name": "stdout",
     "output_type": "stream",
     "text": [
      "Train obs: 7356\n",
      "Test obs: 3310\n"
     ]
    }
   ],
   "source": [
    "#Initialize data\n",
    "#Fill missing 0 (Only affects tot_crash)\n",
    "df = Indata(full.fillna(0), 'crash_binary')\n",
    "#Create train/test split\n",
    "df.tr_te_split(.7)"
   ]
  },
  {
   "cell_type": "code",
   "execution_count": 77,
   "metadata": {
    "collapsed": false
   },
   "outputs": [],
   "source": [
    "#Parameters for model\n",
    "#Model parameters\n",
    "params = dict()\n",
    "\n",
    "#cv parameters\n",
    "cvp = dict()\n",
    "cvp['pmetric'] = 'f1'\n",
    "cvp['iter'] = 5 #number of iterations\n",
    "cvp['folds'] = 5 #folds for cv (default)\n",
    "\n",
    "#LR parameters\n",
    "mp = dict()\n",
    "mp['LogisticRegression'] = dict()\n",
    "mp['LogisticRegression']['penalty'] = ['l1','l2']\n",
    "mp['LogisticRegression']['C'] = ss.beta(a=5,b=2) #beta distribution for selecting reg strength\n",
    "\n",
    "#RF model parameters\n",
    "mp['RandomForestClassifier'] = dict()\n",
    "mp['RandomForestClassifier']['n_estimators'] = [2**8] #number of trees in the forest\n",
    "mp['RandomForestClassifier']['max_features'] = ss.beta(a=5,b=2) #number of features at split\n",
    "mp['RandomForestClassifier']['max_leaf_nodes'] = ss.nbinom(n=2,p=0.001,loc=100) #max number of leaves to create"
   ]
  },
  {
   "cell_type": "code",
   "execution_count": 78,
   "metadata": {
    "collapsed": false
   },
   "outputs": [],
   "source": [
    "#Features = shifted crash/concern count, aadt, curb type, sidewalk type, \n",
    "#    federal road class,facility type (e.g. ramp), two-way/one-way, condition, pavement condition, speed limit\n",
    "features = ['tot_crash_shift','tot_concerns',\n",
    "            u'aadt', u'curb', u'lt_sidewlk', u'rt_sidewlk',\n",
    "            'f_f_class', 'facility', 'operation', 'struct_cnd', 'psi', 'speed_lim']"
   ]
  },
  {
   "cell_type": "code",
   "execution_count": 79,
   "metadata": {
    "collapsed": false
   },
   "outputs": [],
   "source": [
    "#Initialize tuner\n",
    "tune = Tuner(df)"
   ]
  },
  {
   "cell_type": "code",
   "execution_count": 80,
   "metadata": {
    "collapsed": false
   },
   "outputs": [
    {
     "name": "stdout",
     "output_type": "stream",
     "text": [
      "Fitting 5 folds for each of 5 candidates, totalling 25 fits\n"
     ]
    },
    {
     "name": "stderr",
     "output_type": "stream",
     "text": [
      "[Parallel(n_jobs=1)]: Done  25 out of  25 | elapsed:  1.5min finished\n"
     ]
    }
   ],
   "source": [
    "#Base RF model\n",
    "tune.tune('RF_base', 'RandomForestClassifier', features, cvp, mp['RandomForestClassifier'])"
   ]
  },
  {
   "cell_type": "code",
   "execution_count": 81,
   "metadata": {
    "collapsed": false
   },
   "outputs": [
    {
     "name": "stdout",
     "output_type": "stream",
     "text": [
      "Fitting 5 folds for each of 5 candidates, totalling 25 fits\n"
     ]
    },
    {
     "name": "stderr",
     "output_type": "stream",
     "text": [
      "[Parallel(n_jobs=1)]: Done  25 out of  25 | elapsed:    1.2s finished\n"
     ]
    }
   ],
   "source": [
    "#Base LR model\n",
    "tune.tune('LR_base', 'LogisticRegression', features, cvp, mp['LogisticRegression'])"
   ]
  },
  {
   "cell_type": "code",
   "execution_count": 82,
   "metadata": {
    "collapsed": false
   },
   "outputs": [
    {
     "data": {
      "text/html": [
       "<div>\n",
       "<table border=\"1\" class=\"dataframe\">\n",
       "  <thead>\n",
       "    <tr style=\"text-align: right;\">\n",
       "      <th></th>\n",
       "      <th>mean_test_score</th>\n",
       "      <th>mean_train_score</th>\n",
       "      <th>params</th>\n",
       "      <th>name</th>\n",
       "      <th>m_name</th>\n",
       "    </tr>\n",
       "  </thead>\n",
       "  <tbody>\n",
       "    <tr>\n",
       "      <th>0</th>\n",
       "      <td>0.592792</td>\n",
       "      <td>0.899667</td>\n",
       "      <td>{u'max_features': 0.365891220184, u'max_leaf_n...</td>\n",
       "      <td>RF_base</td>\n",
       "      <td>RandomForestClassifier</td>\n",
       "    </tr>\n",
       "    <tr>\n",
       "      <th>1</th>\n",
       "      <td>0.585564</td>\n",
       "      <td>0.899932</td>\n",
       "      <td>{u'max_features': 0.691485121616, u'max_leaf_n...</td>\n",
       "      <td>RF_base</td>\n",
       "      <td>RandomForestClassifier</td>\n",
       "    </tr>\n",
       "    <tr>\n",
       "      <th>2</th>\n",
       "      <td>0.589186</td>\n",
       "      <td>0.899813</td>\n",
       "      <td>{u'max_features': 0.548387645008, u'max_leaf_n...</td>\n",
       "      <td>RF_base</td>\n",
       "      <td>RandomForestClassifier</td>\n",
       "    </tr>\n",
       "    <tr>\n",
       "      <th>3</th>\n",
       "      <td>0.588578</td>\n",
       "      <td>0.899974</td>\n",
       "      <td>{u'max_features': 0.772160826759, u'max_leaf_n...</td>\n",
       "      <td>RF_base</td>\n",
       "      <td>RandomForestClassifier</td>\n",
       "    </tr>\n",
       "    <tr>\n",
       "      <th>4</th>\n",
       "      <td>0.588344</td>\n",
       "      <td>0.899713</td>\n",
       "      <td>{u'max_features': 0.629170040876, u'max_leaf_n...</td>\n",
       "      <td>RF_base</td>\n",
       "      <td>RandomForestClassifier</td>\n",
       "    </tr>\n",
       "    <tr>\n",
       "      <th>0</th>\n",
       "      <td>0.513033</td>\n",
       "      <td>0.550830</td>\n",
       "      <td>{u'penalty': u'l2', u'C': 0.625542635643}</td>\n",
       "      <td>LR_base</td>\n",
       "      <td>LogisticRegression</td>\n",
       "    </tr>\n",
       "    <tr>\n",
       "      <th>1</th>\n",
       "      <td>0.518593</td>\n",
       "      <td>0.551278</td>\n",
       "      <td>{u'penalty': u'l2', u'C': 0.710603675517}</td>\n",
       "      <td>LR_base</td>\n",
       "      <td>LogisticRegression</td>\n",
       "    </tr>\n",
       "    <tr>\n",
       "      <th>2</th>\n",
       "      <td>0.522844</td>\n",
       "      <td>0.539951</td>\n",
       "      <td>{u'penalty': u'l1', u'C': 0.806202175778}</td>\n",
       "      <td>LR_base</td>\n",
       "      <td>LogisticRegression</td>\n",
       "    </tr>\n",
       "    <tr>\n",
       "      <th>3</th>\n",
       "      <td>0.525839</td>\n",
       "      <td>0.540757</td>\n",
       "      <td>{u'penalty': u'l1', u'C': 0.992306646752}</td>\n",
       "      <td>LR_base</td>\n",
       "      <td>LogisticRegression</td>\n",
       "    </tr>\n",
       "    <tr>\n",
       "      <th>4</th>\n",
       "      <td>0.515912</td>\n",
       "      <td>0.552355</td>\n",
       "      <td>{u'penalty': u'l2', u'C': 0.591905782397}</td>\n",
       "      <td>LR_base</td>\n",
       "      <td>LogisticRegression</td>\n",
       "    </tr>\n",
       "  </tbody>\n",
       "</table>\n",
       "</div>"
      ],
      "text/plain": [
       "   mean_test_score  mean_train_score  \\\n",
       "0         0.592792          0.899667   \n",
       "1         0.585564          0.899932   \n",
       "2         0.589186          0.899813   \n",
       "3         0.588578          0.899974   \n",
       "4         0.588344          0.899713   \n",
       "0         0.513033          0.550830   \n",
       "1         0.518593          0.551278   \n",
       "2         0.522844          0.539951   \n",
       "3         0.525839          0.540757   \n",
       "4         0.515912          0.552355   \n",
       "\n",
       "                                              params     name  \\\n",
       "0  {u'max_features': 0.365891220184, u'max_leaf_n...  RF_base   \n",
       "1  {u'max_features': 0.691485121616, u'max_leaf_n...  RF_base   \n",
       "2  {u'max_features': 0.548387645008, u'max_leaf_n...  RF_base   \n",
       "3  {u'max_features': 0.772160826759, u'max_leaf_n...  RF_base   \n",
       "4  {u'max_features': 0.629170040876, u'max_leaf_n...  RF_base   \n",
       "0          {u'penalty': u'l2', u'C': 0.625542635643}  LR_base   \n",
       "1          {u'penalty': u'l2', u'C': 0.710603675517}  LR_base   \n",
       "2          {u'penalty': u'l1', u'C': 0.806202175778}  LR_base   \n",
       "3          {u'penalty': u'l1', u'C': 0.992306646752}  LR_base   \n",
       "4          {u'penalty': u'l2', u'C': 0.591905782397}  LR_base   \n",
       "\n",
       "                   m_name  \n",
       "0  RandomForestClassifier  \n",
       "1  RandomForestClassifier  \n",
       "2  RandomForestClassifier  \n",
       "3  RandomForestClassifier  \n",
       "4  RandomForestClassifier  \n",
       "0      LogisticRegression  \n",
       "1      LogisticRegression  \n",
       "2      LogisticRegression  \n",
       "3      LogisticRegression  \n",
       "4      LogisticRegression  "
      ]
     },
     "execution_count": 82,
     "metadata": {},
     "output_type": "execute_result"
    }
   ],
   "source": [
    "#Display results\n",
    "tune.grid_results"
   ]
  },
  {
   "cell_type": "markdown",
   "metadata": {},
   "source": [
    "### Testing model (based on tuned parameters)"
   ]
  },
  {
   "cell_type": "code",
   "execution_count": 83,
   "metadata": {
    "collapsed": false
   },
   "outputs": [
    {
     "name": "stdout",
     "output_type": "stream",
     "text": [
      "Fitting RF_base model with 12 features\n",
      "f1_score:  0.618487394958\n",
      "brier_score:  0.1935973748\n",
      "calibrated:\n",
      "f1_score:  0.597119161938\n",
      "brier_score:  0.187588718883\n",
      "\n",
      "\n",
      "Fitting LR_base model with 12 features\n",
      "f1_score:  0.54674796748\n",
      "brier_score:  0.186792334087\n",
      "calibrated:\n",
      "f1_score:  0.551931761164\n",
      "brier_score:  0.188370377984\n",
      "\n",
      "\n"
     ]
    }
   ],
   "source": [
    "test = Tester(df)\n",
    "test.init_tuned(tune)\n",
    "test.run_tuned('RF_base')\n",
    "test.run_tuned('LR_base')"
   ]
  },
  {
   "cell_type": "code",
   "execution_count": 84,
   "metadata": {
    "collapsed": true
   },
   "outputs": [],
   "source": [
    "#Add week to features \n",
    "features_plusdate = features + ['week']"
   ]
  },
  {
   "cell_type": "code",
   "execution_count": 85,
   "metadata": {
    "collapsed": false
   },
   "outputs": [
    {
     "name": "stdout",
     "output_type": "stream",
     "text": [
      "Fitting plusdate model with 13 features\n",
      "f1_score:  0.758539458186\n",
      "brier_score:  0.139468616801\n",
      "calibrated:\n",
      "f1_score:  0.758484609313\n",
      "brier_score:  0.138007791785\n",
      "\n",
      "\n"
     ]
    }
   ],
   "source": [
    "#Test with added week information using based tuned parameters\n",
    "test.run_model('plusdate', ske.RandomForestClassifier(**test.rundict['RF_base']['bp']), \n",
    "               features_plusdate)"
   ]
  },
  {
   "cell_type": "code",
   "execution_count": 86,
   "metadata": {
    "collapsed": false
   },
   "outputs": [],
   "source": [
    "#Predict prob of crash, compare to actual crash binary\n",
    "fit_m = test.rundict['plusdate']['m_fit'].predict_proba(test.data.test_x[features_plusdate])[:,1]\n",
    "crash_mean = pd.DataFrame.from_records(zip(test.data.test_y, fit_m), columns = ['crash_binary', 'predicted'])\n",
    "crash_mean['decile'] = pd.qcut(crash_mean['predicted'], 10)\n",
    "crash_mean = crash_mean.groupby('decile')['crash_binary'].mean()"
   ]
  },
  {
   "cell_type": "markdown",
   "metadata": {},
   "source": [
    "### Examine predictions"
   ]
  },
  {
   "cell_type": "code",
   "execution_count": 87,
   "metadata": {
    "collapsed": false
   },
   "outputs": [
    {
     "data": {
      "image/png": "[encoded data removed]",
      "text/plain": [
       "<matplotlib.figure.Figure at 0x115241750>"
      ]
     },
     "metadata": {},
     "output_type": "display_data"
    },
    {
     "data": {
      "text/plain": [
       "<matplotlib.figure.Figure at 0x1154aaad0>"
      ]
     },
     "metadata": {},
     "output_type": "display_data"
    }
   ],
   "source": [
    "#Lift chart\n",
    "p = sns.barplot(x = 'decile', y = 'crash_binary', \n",
    "                data = crash_mean.reset_index(), \n",
    "                palette='Reds')\n",
    "vals = p.get_yticks()\n",
    "p.set_yticklabels(['{:3.0f}%'.format(i*100) for i in vals])\n",
    "xvals = [x.get_text().split(',')[-1].strip(']') for x in p.get_xticklabels()]\n",
    "xvals = ['{:3.0f}%'.format(float(x)*100) for x in xvals]\n",
    "p.set_xticklabels(xvals)\n",
    "p.set_axis_bgcolor('white')\n",
    "plt.xlabel('Prediction decile', fontsize=13)\n",
    "plt.ylabel('Percent with crashes', fontsize=13)\n",
    "plt.show()\n",
    "plt.cla()\n",
    "plt.clf()"
   ]
  },
  {
   "cell_type": "code",
   "execution_count": 88,
   "metadata": {
    "collapsed": false
   },
   "outputs": [],
   "source": [
    "preds = test.rundict['plusdate']['m_fit'].predict(test.data.test_x[features_plusdate])"
   ]
  },
  {
   "cell_type": "code",
   "execution_count": 89,
   "metadata": {
    "collapsed": false
   },
   "outputs": [],
   "source": [
    "from sklearn.metrics import classification_report"
   ]
  },
  {
   "cell_type": "code",
   "execution_count": 90,
   "metadata": {
    "collapsed": false
   },
   "outputs": [
    {
     "name": "stdout",
     "output_type": "stream",
     "text": [
      "             precision    recall  f1-score   support\n",
      "\n",
      "          0       0.83      0.87      0.85      1996\n",
      "          1       0.78      0.74      0.76      1314\n",
      "\n",
      "avg / total       0.81      0.81      0.81      3310\n",
      "\n"
     ]
    }
   ],
   "source": [
    "print classification_report(test.data.test_y, preds)"
   ]
  }
 ],
 "metadata": {
  "kernelspec": {
   "display_name": "Python 2",
   "language": "python",
   "name": "python2"
  },
  "language_info": {
   "codemirror_mode": {
    "name": "ipython",
    "version": 2
   },
   "file_extension": ".py",
   "mimetype": "text/x-python",
   "name": "python",
   "nbconvert_exporter": "python",
   "pygments_lexer": "ipython2",
   "version": "2.7.12"
  }
 },
 "nbformat": 4,
 "nbformat_minor": 1
}
